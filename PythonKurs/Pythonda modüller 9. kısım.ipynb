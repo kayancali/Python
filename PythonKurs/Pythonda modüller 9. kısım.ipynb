{
 "cells": [
  {
   "cell_type": "markdown",
   "id": "c1aa554c",
   "metadata": {},
   "source": [
    "<!-- module -->"
   ]
  },
  {
   "cell_type": "code",
   "execution_count": 3,
   "id": "adb13dfe",
   "metadata": {
    "scrolled": true
   },
   "outputs": [
    {
     "name": "stdout",
     "output_type": "stream",
     "text": [
      "Help on built-in function factorial in module math:\n",
      "\n",
      "factorial(x, /)\n",
      "    Find x!.\n",
      "    \n",
      "    Raise a ValueError if x is negative or non-integral.\n",
      "\n",
      "None\n"
     ]
    }
   ],
   "source": [
    "  # math modulu\n",
    "import math\n",
    "\n",
    "import math as islem# islem adında takma isim yaptık\n",
    "# value= help(math.factorial)\n",
    "value =islem.sqrt\n",
    "print (value)"
   ]
  },
  {
   "cell_type": "code",
   "execution_count": 4,
   "id": "46b9b39a",
   "metadata": {},
   "outputs": [
    {
     "name": "stdout",
     "output_type": "stream",
     "text": [
      "7.0\n"
     ]
    }
   ],
   "source": [
    "value =math.sqrt(49)\n",
    "print(value)"
   ]
  },
  {
   "cell_type": "code",
   "execution_count": 10,
   "id": "56345d99",
   "metadata": {},
   "outputs": [
    {
     "name": "stdout",
     "output_type": "stream",
     "text": [
      "720\n"
     ]
    }
   ],
   "source": [
    "from math import factorial,sqrt\n",
    "\n",
    "value=factorial(6)\n",
    "print (value)"
   ]
  },
  {
   "cell_type": "code",
   "execution_count": 111,
   "id": "1b67867a",
   "metadata": {},
   "outputs": [
    {
     "name": "stdout",
     "output_type": "stream",
     "text": [
      "39\n"
     ]
    }
   ],
   "source": [
    "# random modulu\n",
    "\n",
    "import random\n",
    "#print(help(random))\n",
    "\n",
    "result=random.randint(1,100)\n",
    "print(result)"
   ]
  },
  {
   "cell_type": "code",
   "execution_count": 259,
   "id": "4d91dedf",
   "metadata": {},
   "outputs": [
    {
     "name": "stdout",
     "output_type": "stream",
     "text": [
      "ali\n"
     ]
    }
   ],
   "source": [
    "names=['ali','iclal','betül','meryem']\n",
    "#result=names[random.randint(0,3)]\n",
    "# üstteki ifade ile aynı şeyi yapar choice komutu ile\n",
    "result=random.choice(names)\n",
    "print(result)"
   ]
  },
  {
   "cell_type": "code",
   "execution_count": 268,
   "id": "0013a905",
   "metadata": {},
   "outputs": [
    {
     "name": "stdout",
     "output_type": "stream",
     "text": [
      "[1, 3, 9, 2, 7, 8, 4, 6, 0, 5]\n"
     ]
    }
   ],
   "source": [
    "liste=list(range(10))\n",
    "random.shuffle(liste)# listdeki elemanları karıştırıyor\n",
    "result =liste\n",
    "print(result)"
   ]
  },
  {
   "cell_type": "code",
   "execution_count": 269,
   "id": "5cb8ee42",
   "metadata": {},
   "outputs": [
    {
     "name": "stdout",
     "output_type": "stream",
     "text": [
      "[72, 91, 11]\n"
     ]
    }
   ],
   "source": [
    "liste=range (100)\n",
    "\n",
    "result=random.sample(liste,3) # liste içersinden rastgele 3 sayı almamızı sağladı\n",
    "print (result)"
   ]
  },
  {
   "cell_type": "markdown",
   "id": "b567d5e8",
   "metadata": {},
   "source": [
    "<!-- kendi modülümüzü yazalım -->"
   ]
  },
  {
   "cell_type": "code",
   "execution_count": 270,
   "id": "3a7ea451",
   "metadata": {},
   "outputs": [],
   "source": [
    "# burda kütüphane yazdık\n",
    "\n",
    "\n",
    "number =10\n",
    "numbers=[1,2,3]\n",
    "\n",
    "person={\n",
    "    \"name\":'ali',\n",
    "    \"age\":'20',\n",
    "    \"city\":'ankara'\n",
    "}\n",
    "\n",
    "def func(x):\n",
    "    '''fonksiyon bilgilendirme'''\n",
    "    \n",
    "    print(f'x:{x}')\n",
    "    \n",
    "    \n",
    "    \n",
    "    \n",
    "class Person:\n",
    "    def speak(self):\n",
    "        print('I m speaking')\n",
    "    \n",
    "    \n",
    "    \n",
    "    "
   ]
  },
  {
   "cell_type": "code",
   "execution_count": 271,
   "id": "a18f003e",
   "metadata": {},
   "outputs": [
    {
     "ename": "ModuleNotFoundError",
     "evalue": "No module named 'mod'",
     "output_type": "error",
     "traceback": [
      "\u001b[1;31m---------------------------------------------------------------------------\u001b[0m",
      "\u001b[1;31mModuleNotFoundError\u001b[0m                       Traceback (most recent call last)",
      "\u001b[1;32m~\\AppData\\Local\\Temp/ipykernel_14892/404615177.py\u001b[0m in \u001b[0;36m<module>\u001b[1;34m\u001b[0m\n\u001b[1;32m----> 1\u001b[1;33m \u001b[1;32mimport\u001b[0m \u001b[0mmod\u001b[0m\u001b[1;33m\u001b[0m\u001b[1;33m\u001b[0m\u001b[0m\n\u001b[0m\u001b[0;32m      2\u001b[0m \u001b[1;33m\u001b[0m\u001b[0m\n\u001b[0;32m      3\u001b[0m \u001b[1;33m\u001b[0m\u001b[0m\n\u001b[0;32m      4\u001b[0m \"\"\"result=help(mod.func)\n\u001b[0;32m      5\u001b[0m print(result)\"\"\"\n",
      "\u001b[1;31mModuleNotFoundError\u001b[0m: No module named 'mod'"
     ]
    }
   ],
   "source": [
    "\n",
    "# burda yazdığımız kütüphaneyi import ettik\n",
    "import mod\n",
    "\n",
    "\n",
    "\"\"\"result=help(mod.func)\n",
    "print(result)\"\"\"\n",
    "\n",
    "result=mod.person['name']\n",
    "print(result)\n",
    "\n",
    "result=mod.func(5)\n",
    "print(result)\n",
    "\n",
    "\n",
    "p=mod.Person()\n",
    "p.speak()\n"
   ]
  },
  {
   "cell_type": "code",
   "execution_count": null,
   "id": "d6fb61f2",
   "metadata": {},
   "outputs": [],
   "source": []
  },
  {
   "cell_type": "code",
   "execution_count": null,
   "id": "8b7f490d",
   "metadata": {},
   "outputs": [],
   "source": []
  }
 ],
 "metadata": {
  "kernelspec": {
   "display_name": "Python 3 (ipykernel)",
   "language": "python",
   "name": "python3"
  },
  "language_info": {
   "codemirror_mode": {
    "name": "ipython",
    "version": 3
   },
   "file_extension": ".py",
   "mimetype": "text/x-python",
   "name": "python",
   "nbconvert_exporter": "python",
   "pygments_lexer": "ipython3",
   "version": "3.9.7"
  }
 },
 "nbformat": 4,
 "nbformat_minor": 5
}
