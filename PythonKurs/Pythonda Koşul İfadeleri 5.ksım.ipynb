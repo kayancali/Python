{
 "cells": [
  {
   "cell_type": "markdown",
   "id": "a88b3c83",
   "metadata": {},
   "source": [
    "# <!-- if elese blokları -->"
   ]
  },
  {
   "cell_type": "code",
   "execution_count": 10,
   "id": "c1c0bc90",
   "metadata": {},
   "outputs": [
    {
     "name": "stdout",
     "output_type": "stream",
     "text": [
      "hos geldiniz\n",
      "username yada parola yanlış\n"
     ]
    }
   ],
   "source": [
    "if 3>2 :\n",
    "    print ('hos geldiniz')\n",
    "    \n",
    "x=False \n",
    "\n",
    "if x:\n",
    "    print ('naber')\n",
    "    \n",
    "    \n",
    "usarname = 'alibey'\n",
    "password = '1234'\n",
    "\n",
    "x = (usarname =='alibeyy')and(password =='1234')# parola ve kullanıcı adı kontrolü\n",
    "# cevap true olduğu için if bloğu çalıştı\n",
    "if x:\n",
    "    print ('naber')\n",
    "else :\n",
    "    print ('username yada parola yanlış')\n"
   ]
  },
  {
   "cell_type": "code",
   "execution_count": 14,
   "id": "b87d7c6a",
   "metadata": {},
   "outputs": [
    {
     "name": "stdout",
     "output_type": "stream",
     "text": [
      "hosgeldiniz\n"
     ]
    }
   ],
   "source": [
    "if (usarname =='alibey'):\n",
    "    if (password =='1234'):\n",
    "        print ('hosgeldiniz')\n",
    "    else : \n",
    "        print ('parola yanlış')\n",
    "else :\n",
    "    print ('username yanlış')"
   ]
  },
  {
   "cell_type": "markdown",
   "id": "8d8f112e",
   "metadata": {},
   "source": [
    "<!-- elif komutu -->"
   ]
  },
  {
   "cell_type": "code",
   "execution_count": 18,
   "id": "392f9b69",
   "metadata": {},
   "outputs": [
    {
     "name": "stdout",
     "output_type": "stream",
     "text": [
      "x: 23\n",
      "y: 33\n",
      "y  x den büyük\n"
     ]
    }
   ],
   "source": [
    "x= int (input ( 'x: '))\n",
    "y= int (input ( 'y: ')) \n",
    "\n",
    "if x> y:\n",
    "    print ( 'x  y den büyük')\n",
    "elif x==y:\n",
    "    print ('x y eşit')\n",
    "\n",
    "else:\n",
    "    print ('y  x den büyük')"
   ]
  },
  {
   "cell_type": "code",
   "execution_count": 19,
   "id": "ed70014f",
   "metadata": {},
   "outputs": [
    {
     "name": "stdout",
     "output_type": "stream",
     "text": [
      "sayi :0\n",
      " sayı sıfırdır\n"
     ]
    }
   ],
   "source": [
    "num = int (input ('sayi :'))\n",
    "\n",
    "if num >0:\n",
    "    print (' sayi 0 dan büyük ')\n",
    "    \n",
    "elif num <0:\n",
    "    print (' sayi 0 dan küçük')\n",
    "    \n",
    "else : \n",
    "    print ( ' sayı sıfırdır')"
   ]
  },
  {
   "cell_type": "code",
   "execution_count": 21,
   "id": "21f55b54",
   "metadata": {},
   "outputs": [
    {
     "name": "stdout",
     "output_type": "stream",
     "text": [
      "ad:ali\n",
      " yas:20\n",
      " egitim durumu:lise\n",
      "ali isimli 20 yasındaki kişi ehliyet alabilir \n"
     ]
    }
   ],
   "source": [
    "ad= input ('ad:')\n",
    "age = int (input ( ' yas:'))\n",
    "ogrenim=input (' egitim durumu:')\n",
    "\n",
    "if age >=18 and ((ogrenim == 'lise')or (ogrenim == 'universite')):\n",
    "    print (f\"{ad} isimli {age} yasındaki kişi ehliyet alabilir \")\n",
    "\n",
    "\n",
    "\n"
   ]
  },
  {
   "cell_type": "code",
   "execution_count": null,
   "id": "2116ba2a",
   "metadata": {},
   "outputs": [],
   "source": [
    "yazılı1=int (input ('yazılı 1:'))\n",
    "yazılı2=int (input ('yazılı 2:'))\n",
    "sozlu=int (input ('sozlu 2:'))\n",
    "\n",
    "ort = (yazılı1 +yazılı2+sozlu) /3\n",
    "\n",
    "if ort>0 and ort<24:\n",
    "    print (' 0 aldınız')\n",
    "elif ort>25 and ort<44:\n",
    "    print (' 1 aldınız')\n",
    "elif ort>45 and ort<54:\n",
    "    print (' 2 aldınız')\n",
    "\n",
    "elif ort>55 and ort<69:\n",
    "    print (' 3 aldınız')\n",
    "\n",
    "elif ort>70 and ort<84:\n",
    "    print (' 4 aldınız')\n",
    "elif ort>85 and ort<100:\n",
    "    print (' 5 aldınız')\n"
   ]
  },
  {
   "cell_type": "code",
   "execution_count": 36,
   "id": "123e181a",
   "metadata": {},
   "outputs": [
    {
     "name": "stdout",
     "output_type": "stream",
     "text": [
      " araç trafiğe çıkış trarihi (gg/aa/yy) şeklinde2021/8/19\n",
      " 2. bakım\n"
     ]
    }
   ],
   "source": [
    "import datetime\n",
    "\n",
    "tarih=input (' araç trafiğe çıkış trarihi (gg/aa/yy) şeklinde')\n",
    "tarih =tarih.split('/')\n",
    "tarihh=datetime.datetime(int( tarih[0]),int (tarih[1]),int( tarih[2]))\n",
    "simdi= datetime.datetime.now()\n",
    "fark = simdi - tarihh\n",
    "day=fark.days\n",
    "\n",
    "if day<=365:\n",
    "    print(' 1. bakım')\n",
    "    \n",
    "elif day>365 and day<=365*2:\n",
    "    print(' 2. bakım')\n",
    "elif day>365*2 and day<=365*3:\n",
    "    print(' 3. bakım')\n",
    "    \n",
    "else :\n",
    "    print ('hatalı giris')"
   ]
  },
  {
   "cell_type": "code",
   "execution_count": 41,
   "id": "b7761e32",
   "metadata": {},
   "outputs": [
    {
     "name": "stdout",
     "output_type": "stream",
     "text": [
      "sayı gir: 65\n",
      " sayı 0 ve 100 arasında \n"
     ]
    }
   ],
   "source": [
    "sayı = int (input ('sayı gir: '))\n",
    "if sayı < 100 and sayı >0 :\n",
    "    print (' sayı 0 ve 100 arasında ')\n",
    "else :\n",
    "    print ( 'sayı 0 ve 100 arasinda değil')\n",
    "    \n",
    "if sayı>100 and sayı%2== 0:\n",
    "    print('sayı pozitif çift sayidir')\n",
    "    \n"
   ]
  },
  {
   "cell_type": "code",
   "execution_count": 46,
   "id": "48d82e8e",
   "metadata": {},
   "outputs": [
    {
     "name": "stdout",
     "output_type": "stream",
     "text": [
      "sayi1:6\n",
      "sayi2:5\n",
      "sayi3:9\n",
      " en büyük sayi 9\n"
     ]
    }
   ],
   "source": [
    "sayi1= int (input ('sayi1:'))\n",
    "sayi2=int (input('sayi2:'))\n",
    "sayi3=int (input('sayi3:'))\n",
    "\n",
    "if sayi1>sayi2 and sayi1>sayi3 :\n",
    "    print (f' en büyüksayi {sayi1}')\n",
    "elif sayi2>sayi1 and sayi2>sayi3:\n",
    "    print (f'en büyük sayi {sayi2}')\n",
    "elif sayi3>sayi1 and sayi3>sayi2:\n",
    "    print (f' en büyük sayi {sayi3}')\n"
   ]
  },
  {
   "cell_type": "code",
   "execution_count": null,
   "id": "9ab29d1f",
   "metadata": {},
   "outputs": [],
   "source": []
  },
  {
   "cell_type": "code",
   "execution_count": null,
   "id": "5225e3ae",
   "metadata": {},
   "outputs": [],
   "source": []
  },
  {
   "cell_type": "code",
   "execution_count": null,
   "id": "af915346",
   "metadata": {},
   "outputs": [],
   "source": []
  },
  {
   "cell_type": "code",
   "execution_count": null,
   "id": "e23a45df",
   "metadata": {},
   "outputs": [],
   "source": []
  },
  {
   "cell_type": "code",
   "execution_count": null,
   "id": "34757a6c",
   "metadata": {},
   "outputs": [],
   "source": []
  },
  {
   "cell_type": "code",
   "execution_count": null,
   "id": "b9db5464",
   "metadata": {},
   "outputs": [],
   "source": []
  },
  {
   "cell_type": "code",
   "execution_count": null,
   "id": "003f5672",
   "metadata": {},
   "outputs": [],
   "source": []
  },
  {
   "cell_type": "code",
   "execution_count": null,
   "id": "3353053a",
   "metadata": {},
   "outputs": [],
   "source": []
  }
 ],
 "metadata": {
  "kernelspec": {
   "display_name": "Python 3 (ipykernel)",
   "language": "python",
   "name": "python3"
  },
  "language_info": {
   "codemirror_mode": {
    "name": "ipython",
    "version": 3
   },
   "file_extension": ".py",
   "mimetype": "text/x-python",
   "name": "python",
   "nbconvert_exporter": "python",
   "pygments_lexer": "ipython3",
   "version": "3.9.7"
  }
 },
 "nbformat": 4,
 "nbformat_minor": 5
}
