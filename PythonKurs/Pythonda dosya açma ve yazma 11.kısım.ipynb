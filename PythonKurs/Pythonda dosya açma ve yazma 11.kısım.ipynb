{
 "cells": [
  {
   "cell_type": "code",
   "execution_count": 23,
   "id": "7d21a3b5",
   "metadata": {},
   "outputs": [],
   "source": [
    "# open() komutu\n",
    "# kullanım open ( dosya_adı,dosya erişme modu)\n",
    "# dosya erişme odu=> dosyayı hangi amaçla açtığımızı belirtir\n",
    "\n",
    "# \"w\" => write yazma modu\n",
    "# \"a\" => append ekleme modu\n",
    "#\"x\" => create oluşturma modu \n",
    "#\"r\" => read okuma modu\n",
    "\n",
    "\n",
    "\n",
    "\"\"\"file=open (\"newfine.txt\",'w')\n",
    "\n",
    "file.close()\n",
    "\"\"\"\n",
    "\n",
    "\"\"\"file =open (\"C:/Users/kayan/OneDrive/Desktop/newfile.txt\",\"w\")\n",
    "print(file)\n",
    "file.close()\"\"\"\n",
    "\n",
    "\"\"\"file= open (\"newfine.txt\",'w')\n",
    "#file.write('hello I m ali')\n",
    "file.close()\"\"\"\n",
    "\n",
    "\"\"\"file= open (\"newfine.txt\",'a') # ekleme yaptık\n",
    "file.write('\\n ali')\n",
    "file.close()\"\"\"\n",
    "\n",
    "file= open (\"newfile.txt\",'w') \n",
    "\n"
   ]
  },
  {
   "cell_type": "markdown",
   "id": "86393244",
   "metadata": {},
   "source": [
    "<!-- dosya okuma  -->"
   ]
  },
  {
   "cell_type": "code",
   "execution_count": 54,
   "id": "861e5ffe",
   "metadata": {},
   "outputs": [
    {
     "name": "stdout",
     "output_type": "stream",
     "text": [
      "['muhammet ali\\n', 'muhammet ali ali\\n', ' ali']"
     ]
    }
   ],
   "source": [
    "\"\"\"try:\n",
    "    file =open (\"newfine.txt\",\"r\")\n",
    "    print(file)\n",
    "except FileNotFoundError:\n",
    "    print(\"dosya okuma hatası\")\n",
    "finally:\n",
    "    print(\"dosya kapandı\")\n",
    "    file.close()\"\"\"\n",
    "\n",
    "file =open (\"newfine.txt\",\"r\",encoding=\"utf-8\")\n",
    "\n",
    "\"\"\"for i in file:\n",
    "    print(i,end=\"\")\"\"\"\n",
    "    \n",
    "\n",
    "\n",
    "\"\"\"content=file.read()\n",
    "print(\"içerik 1\")\n",
    "print(content)\n",
    "content2=file.read()# burda dosyayı kapatnmadığımız için ikinci okumada boş okudu\n",
    "print(\"içerik 2\")\n",
    "print(content2)\n",
    "\n",
    "file.close()\"\"\"\n",
    "\n",
    "\"\"\"content=file.read(8)\n",
    "content=file.read(8)\n",
    "content=file.read(8)\n",
    "print(content)\n",
    "file.close()\"\"\"\n",
    "# read line komutu\n",
    "\n",
    "\n",
    "\"\"\"print(file.readline(),end=\"\")\n",
    "print(file.readline(),end=\"\")\n",
    "print(file.readline(),end=\"\")\n",
    "\n",
    "file.close()\"\"\"\n",
    "\n",
    "print(file.readlines(),end=\"\") # okuduğu ögeleri liste yapar\n",
    "file.close()"
   ]
  },
  {
   "cell_type": "markdown",
   "id": "dd6d57c6",
   "metadata": {},
   "source": [
    "<!-- okuma fonksiyonları -->"
   ]
  },
  {
   "cell_type": "code",
   "execution_count": 61,
   "id": "b4cca8ef",
   "metadata": {},
   "outputs": [
    {
     "name": "stdout",
     "output_type": "stream",
     "text": [
      "muhammet \n",
      "0\n",
      "muhammet ali\n",
      "muhammet ali ali\n",
      " ali\n"
     ]
    }
   ],
   "source": [
    "# kod bloğu yaptık blok bittiği zaman dosya kapanır close komutuna gerek kalmaz\n",
    "with open (\"newfine.txt\",\"r\",encoding=\"utf-8\") as file:\n",
    "\n",
    "    content=file.read(9)\n",
    "    print(content)\n",
    "    file.seek(0)# imlecin konumunu değiştirdik\n",
    "    print(file.tell())\n",
    "    content2=file.read()\n",
    "    print(content2)"
   ]
  },
  {
   "cell_type": "markdown",
   "id": "bf8ab482",
   "metadata": {},
   "source": [
    "<!-- dosya güncelleme -->"
   ]
  },
  {
   "cell_type": "code",
   "execution_count": 78,
   "id": "371e87d9",
   "metadata": {},
   "outputs": [
    {
     "name": "stdout",
     "output_type": "stream",
     "text": [
      "ali kayancdenemeet ali\n",
      "nabernabermuhammedenemeali\n",
      " ali\n",
      " iclal ali\n"
     ]
    }
   ],
   "source": [
    "# sayfa başına güncelleme\n",
    "\n",
    "\"\"\"with open (\"newfine.txt\",\"r+\",encoding=\"utf-8\")as file:\n",
    "    file.seek(20)\n",
    "    file.write('deneme')\n",
    "    \n",
    "with open (\"newfine.txt\",\"r+\",encoding=\"utf-8\")as file:\n",
    "    print(file.read())\n",
    "    \"\"\"\n",
    "    # saayfa sonuna güncelleme \n",
    "    \n",
    "\"\"\"with open (\"newfine.txt\",\"r+\",encoding=\"utf-8\")as file:\n",
    "    content= file.read()\n",
    "    content=\"ali kayanc\"+content\n",
    "    file.seek(0)\n",
    "    \n",
    "    file.write(content)\n",
    "    print(content)\n",
    "with open (\"newfine.txt\",\"r+\",encoding=\"utf-8\")as file:\n",
    "    print(file.read())\"\"\"\n",
    "    \n",
    "    # sayfanın ortasına güncelleme\n",
    "    \n",
    "with open (\"newfine.txt\",\"r+\",encoding=\"utf-8\")as file:\n",
    "    list = file.readlines()\n",
    "    list.insert(1,\"naber\")\n",
    "    file.seek(0)\n",
    "    for i in list:\n",
    "        file.write(i)\n",
    "with open (\"newfine.txt\",\"r+\",encoding=\"utf-8\")as file:\n",
    "    print(file.read())\n",
    "    \n",
    "file.close()"
   ]
  },
  {
   "cell_type": "code",
   "execution_count": 79,
   "id": "c72bd65b",
   "metadata": {},
   "outputs": [
    {
     "name": "stdout",
     "output_type": "stream",
     "text": [
      "1- notları oku\n",
      "2-not gir\n",
      "3-notları kaydet\n",
      "4-cıkıs\n",
      "2\n",
      "ogrenci adi: ali\n",
      "ogrenci soyadi: kayanc\n",
      "not1: 100\n",
      "not2: 20\n",
      "not3: 60\n",
      "1- notları oku\n",
      "2-not gir\n",
      "3-notları kaydet\n",
      "4-cıkıs\n",
      "1\n",
      "ali kayanc : DD\n",
      "\n",
      "1- notları oku\n",
      "2-not gir\n",
      "3-notları kaydet\n",
      "4-cıkıs\n",
      "3\n",
      "1- notları oku\n",
      "2-not gir\n",
      "3-notları kaydet\n",
      "4-cıkıs\n",
      "4\n"
     ]
    }
   ],
   "source": [
    "#uygulama\n",
    "\n",
    "def not_hesapla(satir):\n",
    "    satir=satir[:-1]\n",
    "    liste=satir.split(':')\n",
    "    \n",
    "    ogrenciAdi=liste[0]\n",
    "    notlar=liste[1].split(',')\n",
    "    \n",
    "    not1=int(notlar[0])\n",
    "    not2=int(notlar[1])\n",
    "    not3=int(notlar[2])\n",
    "    \n",
    "    ortalama=(not1+not2+not3)/3\n",
    "    if ortalama>=90 and ortalama<=100:\n",
    "        harf=\"AA\"\n",
    "    elif ortalama>=85 and ortalama<=89:\n",
    "        harf=\"BA\"\n",
    "    elif ortalama>=80 and ortalama<=84:\n",
    "        harf=\"BB\"\n",
    "    elif ortalama>=75 and ortalama<=79:\n",
    "        harf=\"CB\"\n",
    "    elif ortalama>=70 and ortalama<=74:\n",
    "        harf=\"CC\"\n",
    "    elif ortalama>=65 and ortalama<=69:\n",
    "        harf=\"DC\"\n",
    "    elif ortalama>=60 and ortalama<=64:\n",
    "        harf=\"DD\"\n",
    "    elif ortalama>=50 and ortalama<=59:\n",
    "        harf=\"FD\"\n",
    "    else:\n",
    "        harf==\"FF\"\n",
    "    return ogrenciAdi+\": \"+ harf+\"\\n\" \n",
    "    \n",
    "def ortalamalari_oku():\n",
    "    with open(\"sinav_notlari.txt\",\"r\",encoding=\"utf-8\") as file:\n",
    "        for satir in file:\n",
    "            print(not_hesapla(satir))\n",
    "\n",
    "def not_gir():\n",
    "    ad=input('ogrenci adi: ')\n",
    "    soyad=input('ogrenci soyadi: ')\n",
    "    not1=input('not1: ')\n",
    "    not2=input('not2: ')\n",
    "    not3=input('not3: ')\n",
    "    with open(\"sinav_notlari.txt\",\"a\",encoding=\"utf-8\") as file:\n",
    "        file.write(ad+' '+soyad+' : '+not1+','+not2+','+not3+'\\n')\n",
    "def notlari_kayit_et():\n",
    "    with open(\"sinav_notlari.txt\",\"r\",encoding=\"utf-8\") as file:\n",
    "        liste=[]\n",
    "        for i in file:\n",
    "            liste.append(not_hesapla(i))\n",
    "    with open(\"sonuclar.txt\",\"w\",encoding=\"utf-8\") as file2:\n",
    "        for i in liste:\n",
    "            file2.write(i)\n",
    "    \n",
    "    \n",
    "    \n",
    "\n",
    "while True:\n",
    "    islem=input(\"1- notları oku\\n2-not gir\\n3-notları kaydet\\n4-cıkıs\\n\")\n",
    "    if islem=='1':\n",
    "        ortalamalari_oku()\n",
    "    elif islem=='2':\n",
    "        not_gir()\n",
    "    elif islem=='3':\n",
    "        notlari_kayit_et()\n",
    "    elif islem=='4':\n",
    "        break"
   ]
  },
  {
   "cell_type": "code",
   "execution_count": null,
   "id": "0a009c23",
   "metadata": {},
   "outputs": [],
   "source": []
  },
  {
   "cell_type": "code",
   "execution_count": null,
   "id": "1be0ddcc",
   "metadata": {},
   "outputs": [],
   "source": []
  },
  {
   "cell_type": "code",
   "execution_count": null,
   "id": "9248eaf2",
   "metadata": {},
   "outputs": [],
   "source": []
  },
  {
   "cell_type": "code",
   "execution_count": null,
   "id": "12d92095",
   "metadata": {},
   "outputs": [],
   "source": []
  }
 ],
 "metadata": {
  "kernelspec": {
   "display_name": "Python 3 (ipykernel)",
   "language": "python",
   "name": "python3"
  },
  "language_info": {
   "codemirror_mode": {
    "name": "ipython",
    "version": 3
   },
   "file_extension": ".py",
   "mimetype": "text/x-python",
   "name": "python",
   "nbconvert_exporter": "python",
   "pygments_lexer": "ipython3",
   "version": "3.9.7"
  }
 },
 "nbformat": 4,
 "nbformat_minor": 5
}
