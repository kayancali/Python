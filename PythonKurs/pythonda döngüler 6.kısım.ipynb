{
 "cells": [
  {
   "cell_type": "markdown",
   "id": "bf2a96fd",
   "metadata": {},
   "source": [
    "# <!-- for döngüleri -->"
   ]
  },
  {
   "cell_type": "code",
   "execution_count": 11,
   "id": "2287cbf4",
   "metadata": {},
   "outputs": [
    {
     "name": "stdout",
     "output_type": "stream",
     "text": [
      "1\n",
      "2\n",
      "3\n",
      "4\n",
      "5\n",
      "6\n",
      "my name is ali\n",
      "my name is muhammet\n",
      "my name is iclal\n",
      "1 2\n",
      "1 3\n",
      "4 5\n",
      "('k1', 1)\n",
      "('k2', 3)\n",
      "('k3', 4)\n"
     ]
    }
   ],
   "source": [
    "x=[1,2,3,4,5,6]\n",
    "for i in x:\n",
    "    print (i)\n",
    "    \n",
    "names=['ali','muhammet','iclal']\n",
    "    \n",
    "for i in names:\n",
    "    print(f'my name is {i}')\n",
    "    \n",
    "    \n",
    "tuple =[(1,2),(1,3),(4,5)]\n",
    "for a,b in tuple :\n",
    "    print (a,b)\n",
    "    \n",
    "\n",
    "    \n",
    "d ={'k1':1 ,'k2':3,'k3':4}\n",
    "for i in d.items(): # burda items komutu dictionary nin itemlerine ulaştırdı\n",
    "    print(i)"
   ]
  },
  {
   "cell_type": "code",
   "execution_count": 45,
   "id": "e21dae05",
   "metadata": {},
   "outputs": [
    {
     "name": "stdout",
     "output_type": "stream",
     "text": [
      "3 sayısı 3 ün katıdır\n",
      "6 sayısı 3 ün katıdır\n",
      "9 sayısı 3 ün katıdır\n",
      "45\n",
      "1\n",
      "9\n",
      "25\n",
      "49\n",
      "81\n"
     ]
    }
   ],
   "source": [
    "a=0\n",
    "sayilar =[1,2,3,5,6,7,0,8,4,9]\n",
    "for i in sayilar:\n",
    "    if i%3 == 0 and i!=0:\n",
    "        print (f'{i} sayısı 3 ün katıdır')\n",
    "    a+=i\n",
    "print(a)\n",
    "\n",
    "\n",
    "for i in sayilar :\n",
    "    if i%2==1 :\n",
    "        b=i**2\n",
    "        print (b)\n",
    "\n",
    "    "
   ]
  },
  {
   "cell_type": "markdown",
   "id": "76a292d3",
   "metadata": {},
   "source": [
    "# <!-- while döngüleri  -->"
   ]
  },
  {
   "cell_type": "code",
   "execution_count": 46,
   "id": "1d84aebc",
   "metadata": {},
   "outputs": [
    {
     "name": "stdout",
     "output_type": "stream",
     "text": [
      "sayı çif:0\n",
      "sayı tek:1\n",
      "sayı çif:2\n",
      "sayı tek:3\n",
      "sayı çif:4\n",
      "sayı tek:5\n",
      "sayı çif:6\n",
      "sayı tek:7\n",
      "sayı çif:8\n",
      "sayı tek:9\n",
      "bitti\n"
     ]
    }
   ],
   "source": [
    "x =0\n",
    "\n",
    "while x<10:\n",
    "    if x %2 ==1:\n",
    "        print(f'sayı tek:{x}')\n",
    "    else :\n",
    "        print(f'sayı çif:{x}')\n",
    "    x+=1\n",
    "print ('bitti')"
   ]
  },
  {
   "cell_type": "code",
   "execution_count": 55,
   "id": "867d3052",
   "metadata": {},
   "outputs": [
    {
     "name": "stdout",
     "output_type": "stream",
     "text": [
      "isim:ali\n",
      "hello ali\n"
     ]
    }
   ],
   "source": [
    "name =''\n",
    "# name true olana kadar döndür\n",
    "while not name.strip(): # strip metodu boşlukları siler\n",
    "    name =input ('isim:')\n",
    "print (f'hello {name}')"
   ]
  },
  {
   "cell_type": "code",
   "execution_count": 63,
   "id": "3e0bab10",
   "metadata": {},
   "outputs": [
    {
     "name": "stdout",
     "output_type": "stream",
     "text": [
      "1\n",
      "2\n",
      "3\n",
      "5\n",
      "6\n",
      "7\n",
      "0\n",
      "8\n",
      "4\n",
      "9\n"
     ]
    }
   ],
   "source": [
    "sayilar =[1,2,3,5,6,7,0,8,4,9]\n",
    "i=0\n",
    "while (i <len(sayilar)):\n",
    "    print(sayilar[i])\n",
    "    i+=1\n",
    "    "
   ]
  },
  {
   "cell_type": "code",
   "execution_count": 66,
   "id": "a3460690",
   "metadata": {},
   "outputs": [
    {
     "name": "stdout",
     "output_type": "stream",
     "text": [
      "sayi1:9\n",
      "sayi2:16\n",
      "9\n",
      "11\n",
      "13\n",
      "15\n"
     ]
    }
   ],
   "source": [
    "sayi1=int(input ('sayi1:'))\n",
    "sayi2=int(input ('sayi2:'))\n",
    "while sayi1<=sayi2:\n",
    "    if sayi1%2==1:\n",
    "        print (sayi1)\n",
    "    sayi1+=1"
   ]
  },
  {
   "cell_type": "code",
   "execution_count": 69,
   "id": "45f8cef5",
   "metadata": {},
   "outputs": [
    {
     "name": "stdout",
     "output_type": "stream",
     "text": [
      "sayi:1\n",
      "sayi:3\n",
      "sayi:5\n",
      "sayi:12\n",
      "sayi:2\n",
      "sayi:3\n",
      "[1, 3, 5, 12, 2, 3]\n"
     ]
    }
   ],
   "source": [
    "numbers=[]\n",
    "i=0\n",
    "while i<=5:\n",
    "    sayi=int(input('sayi:'))\n",
    "    numbers.append(sayi)\n",
    "    i+=1\n",
    "print (numbers)"
   ]
  },
  {
   "cell_type": "code",
   "execution_count": 73,
   "id": "bcb12895",
   "metadata": {},
   "outputs": [
    {
     "name": "stdout",
     "output_type": "stream",
     "text": [
      "adet2\n",
      "ürün ismimal\n",
      "ürün fiyatı555\n",
      "ürün ismisalak\n",
      "ürün fiyatı111\n",
      "ürün adı mal,ürün fiyatı 555\n",
      "ürün adı salak,ürün fiyatı 111\n"
     ]
    }
   ],
   "source": [
    "urunler=[]\n",
    "adet=int (input('adet'))\n",
    "i=0\n",
    "while i<adet:\n",
    "    name=input('ürün ismi')\n",
    "    price=input('ürün fiyatı')\n",
    "    \n",
    "    urunler.append({\n",
    "        'name':name ,\n",
    "        'price':price\n",
    "    })\n",
    "    i+=1\n",
    "for a in urunler:\n",
    "    print(f'ürün adı {a[\"name\"]},ürün fiyatı {a[\"price\"]}')\n",
    "    "
   ]
  },
  {
   "cell_type": "markdown",
   "id": "a118a55c",
   "metadata": {},
   "source": [
    "# <!-- break continue -->"
   ]
  },
  {
   "cell_type": "code",
   "execution_count": 85,
   "id": "0567b66e",
   "metadata": {},
   "outputs": [
    {
     "name": "stdout",
     "output_type": "stream",
     "text": [
      "a\n",
      "l\n",
      "i\n",
      " \n"
     ]
    }
   ],
   "source": [
    "# break in kullanımı\n",
    "name ='ali kayanc'\n",
    "for i in name :\n",
    "    if i=='k':\n",
    "        break\n",
    "    print (i)"
   ]
  },
  {
   "cell_type": "code",
   "execution_count": 82,
   "id": "c71bd62f",
   "metadata": {},
   "outputs": [
    {
     "name": "stdout",
     "output_type": "stream",
     "text": [
      "1\n",
      "3\n",
      "4\n",
      "5\n"
     ]
    }
   ],
   "source": [
    "# continue nun kullanmı\n",
    "x = 0\n",
    "while x<5:\n",
    "    x+=1\n",
    "    if x==2:\n",
    "        continue\n",
    "    print (x)\n",
    "    "
   ]
  },
  {
   "cell_type": "code",
   "execution_count": 84,
   "id": "5c931907",
   "metadata": {},
   "outputs": [
    {
     "name": "stdout",
     "output_type": "stream",
     "text": [
      "2601\n"
     ]
    }
   ],
   "source": [
    "# 1 den 100 e kadar o9lan tek sayıların toplamı\n",
    "toplam =0\n",
    "i=0\n",
    "while i<=100:\n",
    "    i+=1              \n",
    "    if i%2==0:\n",
    "        continue\n",
    "    toplam+=i\n",
    "print (toplam)"
   ]
  },
  {
   "cell_type": "markdown",
   "id": "62852630",
   "metadata": {},
   "source": [
    "# <!-- döngü metodları -->"
   ]
  },
  {
   "cell_type": "code",
   "execution_count": 59,
   "id": "d8bc95c0",
   "metadata": {},
   "outputs": [
    {
     "name": "stdout",
     "output_type": "stream",
     "text": [
      "2\n",
      "3\n",
      "4\n",
      "5\n",
      "6\n",
      "7\n",
      "8\n",
      "9\n",
      "index 0 letter:h\n",
      "index 1 letter:e\n",
      "index 2 letter:l\n",
      "index 3 letter:l\n",
      "index 4 letter:o\n",
      "index 5 letter: \n",
      "index 6 letter:T\n",
      "index 7 letter:h\n",
      "index 8 letter:e\n",
      "index 9 letter:r\n",
      "index 10 letter:e\n",
      "10\n",
      "((1, 'a'), (2, 'b'), (3, 'c'), (4, 'd'))\n",
      "(1, 'a')\n",
      "(2, 'b')\n",
      "(3, 'c')\n",
      "(4, 'd')\n"
     ]
    }
   ],
   "source": [
    "#range\n",
    "for item in range (2,10) :  # range komutu range (başlangıç,son ,kaçar kaçar)\n",
    "    print (item)\n",
    "\n",
    "\n",
    "    \n",
    "# enumerate\n",
    "\n",
    "x= 'hello There'\n",
    "\n",
    "for index,letter in enumerate(x):# enum metodu index numarasını ve o indexi tutar\n",
    "    print (f'index {index} letter:{letter}')\n",
    "print(index)\n",
    "\n",
    "#zip metodu \n",
    "\n",
    "list1= [1,2,3,4]\n",
    "list2=['a','b','c','d','e']\n",
    "\n",
    "print (tuple(zip(list1,list2 ))) # burda xip ile lisyteleri eşleştirdik\n",
    "# ve tuple a çevirip ekrana yazdırdık\n",
    "\n",
    "for item in (zip(list1,list2 )):\n",
    "     print(item)\n",
    "        \n",
    "        \n"
   ]
  },
  {
   "cell_type": "code",
   "execution_count": 67,
   "id": "d5bfe731",
   "metadata": {},
   "outputs": [
    {
     "name": "stdout",
     "output_type": "stream",
     "text": [
      "0\n",
      "1\n",
      "2\n",
      "3\n",
      "4\n",
      "5\n",
      "6\n",
      "7\n",
      "8\n",
      "9\n",
      "[0, 1, 2, 3, 4, 5, 6, 7, 8, 9]\n",
      "[4, 9, 16, 25, 36, 49, 64, 81, 100]\n",
      "[0, 9, 36, 81]\n",
      "['h', 'e', 'l', 'l', 'o']\n",
      "['h', 'e', 'l', 'l', 'o']\n",
      "[38, 44, 20, 17]\n",
      "['tek', 2, 'tek', 4, 'tek', 6, 'tek', 8, 'tek']\n",
      "[(0, 0), (0, 1), (0, 2), (1, 0), (1, 1), (1, 2), (2, 0), (2, 1), (2, 2)]\n",
      "[(0, 0), (0, 1), (0, 2), (1, 0), (1, 1), (1, 2), (2, 0), (2, 1), (2, 2)]\n"
     ]
    }
   ],
   "source": [
    "for x in range (10):\n",
    "    print (x)\n",
    "numbers=[x for x in range (10)] # 0 dan 10 kadar olan sayıları diziye attık\n",
    "print (numbers)\n",
    "# başka bir örnek\n",
    "# range den gelen x lerin karesini alıp diziye attık \n",
    "# diziyi tanımlarken kolay yol\n",
    "numbers =[x**2 for x in range (2,11)]\n",
    "print(numbers)\n",
    "numbers=[x*x for x in range (10) if x%3==0 ] # 3 bölünen sayıları atadık\n",
    "print(numbers)\n",
    "mystring='hello'\n",
    "mylist=[]\n",
    "for letter in mystring :\n",
    "    mylist.append(letter)\n",
    "print (mylist)\n",
    "# üstte yaptığımızı altta kısa yol olarak\n",
    "\n",
    "mylist = [letter for letter in mystring ]\n",
    "print (mylist)\n",
    "\n",
    "years=[1984,1978,2002,2005]\n",
    "\n",
    "ages=[2022-x for x in years]\n",
    "print(ages)\n",
    "\n",
    "result =[ x if x%2==0 else 'tek' for x in range (1,10)]\n",
    "print (result)\n",
    "result.clear()\n",
    "for x in range (3): \n",
    "    for y in range (3):\n",
    "        result .append((x,y))\n",
    "        \n",
    "print(result)\n",
    "\n",
    "numbers=[(x,y)for x in range (3) for y in range (3) ]\n",
    "\n",
    "print (numbers)"
   ]
  },
  {
   "cell_type": "markdown",
   "id": "df772bb7",
   "metadata": {},
   "source": [
    "<!-- sayı tahmin uygulaması -->\n"
   ]
  },
  {
   "cell_type": "code",
   "execution_count": 90,
   "id": "ceae2d7c",
   "metadata": {},
   "outputs": [
    {
     "name": "stdout",
     "output_type": "stream",
     "text": [
      "tahmin: 66\n",
      "yukarı\n",
      "tahmin: 85\n",
      "aşağı\n",
      "tahmin: 73\n",
      "yukarı\n",
      "tahmin: 77\n",
      "aşağı\n",
      "tahmin: 75\n",
      "tebrikler 5 defada bildiniz\n"
     ]
    }
   ],
   "source": [
    "import random\n",
    "x= random.randint(1,100)\n",
    "\n",
    "\n",
    "can=5\n",
    "sayac=0\n",
    "while can>0:\n",
    "    sayac +=1\n",
    "    can-=1\n",
    "    tahmin =int (input('tahmin: '))\n",
    "    if x== tahmin :\n",
    "        print(f'tebrikler {sayac}. defada bildiniz')\n",
    "        break\n",
    "    elif tahmin>x:\n",
    "        print('aşağı')\n",
    "    elif tahmin <x:\n",
    "        print ('yukarı')\n",
    "        \n",
    "    if can == 0 :\n",
    "        print('canınız bitti:')\n",
    "\n",
    "    \n",
    "\n",
    "\n"
   ]
  },
  {
   "cell_type": "code",
   "execution_count": 107,
   "id": "029ac514",
   "metadata": {},
   "outputs": [
    {
     "name": "stdout",
     "output_type": "stream",
     "text": [
      "sayı giriniz17\n",
      "17 sayısı asaldır\n"
     ]
    }
   ],
   "source": [
    "sayi =int (input('sayı giriniz'))\n",
    "sayac=0\n",
    "for x in range (2,sayi+1):\n",
    "    if sayi%x ==0:\n",
    "        sayac+=1\n",
    "    \n",
    "        \n",
    "if sayac== 1 :\n",
    "    print(f'{sayi} sayısı asaldır')\n",
    "else :\n",
    "    print(f'{sayi} sayısı asal değildir')"
   ]
  },
  {
   "cell_type": "code",
   "execution_count": null,
   "id": "d745cb7d",
   "metadata": {},
   "outputs": [],
   "source": []
  },
  {
   "cell_type": "code",
   "execution_count": null,
   "id": "f8bf35ec",
   "metadata": {},
   "outputs": [],
   "source": []
  }
 ],
 "metadata": {
  "kernelspec": {
   "display_name": "Python 3 (ipykernel)",
   "language": "python",
   "name": "python3"
  },
  "language_info": {
   "codemirror_mode": {
    "name": "ipython",
    "version": 3
   },
   "file_extension": ".py",
   "mimetype": "text/x-python",
   "name": "python",
   "nbconvert_exporter": "python",
   "pygments_lexer": "ipython3",
   "version": "3.9.7"
  }
 },
 "nbformat": 4,
 "nbformat_minor": 5
}
