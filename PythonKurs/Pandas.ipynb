{
 "cells": [
  {
   "cell_type": "markdown",
   "id": "03894048",
   "metadata": {},
   "source": [
    "# pandas kütüphanensi"
   ]
  },
  {
   "cell_type": "markdown",
   "id": "894ff50a",
   "metadata": {},
   "source": [
    "<!-- pandas serileri  -->"
   ]
  },
  {
   "cell_type": "code",
   "execution_count": 27,
   "id": "d6d7ed99",
   "metadata": {},
   "outputs": [
    {
     "name": "stdout",
     "output_type": "stream",
     "text": [
      "*******************\n",
      "a    20\n",
      "b    30\n",
      "c    40\n",
      "d    50\n",
      "dtype: int32\n"
     ]
    }
   ],
   "source": [
    "import pandas as pd\n",
    "import numpy as np\n",
    "# data \n",
    "numbers=np.array([20,30,40,50])\n",
    "letters=['a','b','c','d',20]\n",
    "\n",
    "\"\"\"scalar=5\n",
    "dict={'a':10,'b':20,'c':55,'d':26}\n",
    "pandas_series=pd.Series(dict)\n",
    "# series içine yazılan ikinci elemanlar index numaralarını tanımlar\n",
    "pandas_series=pd.Series(numbers,['a','b','c','d']) # pandas serisi oluştruduk\n",
    "print(pandas_series)\"\"\"\n",
    "pandas_series=pd.Series(numbers,['a','b','c','d'])\n",
    "print('*******************')\n",
    "\n",
    "\n",
    "\n",
    "\n",
    "random_sayı=np.random.randint(10,100,6) # numpy ile rastgele 6 sayı oluşturduk\n",
    "#pandas_series=pd.Series(random_sayı)    # pandas içine attık\n",
    "\n",
    "print(pandas_series)"
   ]
  },
  {
   "cell_type": "code",
   "execution_count": 62,
   "id": "8826695b",
   "metadata": {},
   "outputs": [
    {
     "name": "stdout",
     "output_type": "stream",
     "text": [
      "a    True\n",
      "b    True\n",
      "c    True\n",
      "d    True\n",
      "dtype: bool\n"
     ]
    }
   ],
   "source": [
    "result=pandas_series[2:]\n",
    "result=pandas_series['a'] # key bilisini yazarak da elemana ulaşabilriz\n",
    "result=pandas_series[['a','c']]\n",
    "result=pandas_series.ndim # kaç boyutlu olduğunu gösterir\n",
    "result=pandas_series.shape\n",
    "result=pandas_series.sum() # elemanları toplar\n",
    "result=pandas_series.max()\n",
    "result=pandas_series+50\n",
    "result=np.sqrt(pandas_series)# karekçk bilgileri\n",
    "result=pandas_series >=50\n",
    "result=pandas_series %2==0\n",
    "\n",
    "print(result)"
   ]
  },
  {
   "cell_type": "code",
   "execution_count": 64,
   "id": "b4a106e1",
   "metadata": {},
   "outputs": [
    {
     "name": "stdout",
     "output_type": "stream",
     "text": [
      "40.0\n"
     ]
    }
   ],
   "source": [
    "opel2018=pd.Series([20,30,40,10],['astra','corsa','vectra','insignia'])\n",
    "opel2019=pd.Series([20,30,40,10],['astra','corsa','Grandland','insignia'])\n",
    "\n",
    "\n",
    "total=opel2018+opel2019\n",
    "print(total['astra'])\n"
   ]
  },
  {
   "cell_type": "markdown",
   "id": "f0559167",
   "metadata": {},
   "source": [
    "<!-- Pandas Datafarames -->"
   ]
  },
  {
   "cell_type": "code",
   "execution_count": 76,
   "id": "ac154798",
   "metadata": {},
   "outputs": [
    {
     "name": "stdout",
     "output_type": "stream",
     "text": [
      "   appless  oranges\n",
      "0        1        3\n",
      "1        3        5\n",
      "2        6        9\n",
      "3        5        7\n"
     ]
    }
   ],
   "source": [
    "s1=pd.Series([1,3,6,5])\n",
    "s2=pd.Series([3,5,9,7])\n",
    "\n",
    "data={'appless':s1 , 'oranges':s2}\n",
    "df=pd.DataFrame(data)\n",
    "print(df)"
   ]
  },
  {
   "cell_type": "code",
   "execution_count": 78,
   "id": "021f93aa",
   "metadata": {},
   "outputs": [
    {
     "name": "stdout",
     "output_type": "stream",
     "text": [
      "   0\n",
      "0  1\n",
      "1  2\n",
      "2  3\n",
      "3  6\n"
     ]
    }
   ],
   "source": [
    "df =pd.DataFrame([1,2,3,6])\n",
    "print(df)"
   ]
  },
  {
   "cell_type": "code",
   "execution_count": 93,
   "id": "1854584e",
   "metadata": {},
   "outputs": [
    {
     "name": "stdout",
     "output_type": "stream",
     "text": [
      "    Name  Grade\n",
      "1  ahmet     50\n",
      "2   umut     25\n",
      "3    ali     78\n"
     ]
    }
   ],
   "source": [
    "list=[['ali',55],['ahmet',70],['umut',35]]\n",
    "\n",
    "dict= {'name':['ahmet','ali','umut'],'grade':[50,60,75]}\n",
    "dict_list=[{\"Name\":'ahmet','Grade':50},\n",
    "           {\"Name\":'umut','Grade':25},\n",
    "           {\"Name\":'ali','Grade':78}]\n",
    "\n",
    "df =pd.DataFrame(dict_list,index=[1,2,3])\n",
    "#sıra parametre index ve colon olarak olmalı ama index yazarsak problem olamaz \n",
    "#df =pd.DataFrame(list,columns=['Names','Grade'],index=[1,2,3])\n",
    "print(df)"
   ]
  },
  {
   "cell_type": "markdown",
   "id": "ec036905",
   "metadata": {},
   "source": [
    "<!-- farklı dosya tiplerindinden veri okuma  -->"
   ]
  },
  {
   "cell_type": "code",
   "execution_count": 26,
   "id": "f6f0c66f",
   "metadata": {},
   "outputs": [
    {
     "name": "stdout",
     "output_type": "stream",
     "text": [
      "     name  grande\n",
      "0     ali      50\n",
      "1    umut      20\n",
      "2  yağmur      30\n"
     ]
    }
   ],
   "source": [
    "import pandas as pd  \n",
    "\n",
    "#datafream ile cv ve exel dosyaları okuma\n",
    "df =pd.read_csv('all_seasons.csv')\n",
    "df =pd.read_excel('sample.xlsx')\n",
    "print(df)\n",
    "\n"
   ]
  },
  {
   "cell_type": "markdown",
   "id": "c2671221",
   "metadata": {},
   "source": [
    "<!-- dataframlerde seçme işlemleri -->"
   ]
  },
  {
   "cell_type": "code",
   "execution_count": 93,
   "id": "74426b82",
   "metadata": {},
   "outputs": [
    {
     "name": "stdout",
     "output_type": "stream",
     "text": [
      "    colomn1   colomn2   colomn3\n",
      "A -0.005585  0.185826  0.961955\n",
      "B  1.710298  1.596930  0.248654\n",
      "C -0.559179  0.297537 -0.199776\n",
      "***************\n",
      "    colomn2\n",
      "A  0.185826\n",
      "B  1.596930\n",
      "***************\n",
      "None\n",
      "    colomn1   colomn2   colomn3   colomn4\n",
      "A -0.005585  0.185826  0.961955 -1.076233\n",
      "B  1.710298  1.596930  0.248654  0.209105\n",
      "C -0.559179  0.297537 -0.199776  0.189246\n"
     ]
    }
   ],
   "source": [
    "import pandas as pd \n",
    "\n",
    "from numpy.random import randn\n",
    "\n",
    "df= pd.DataFrame(randn(3,3),index=['A','B','C'],columns=['colomn1','colomn2','colomn3'])\n",
    "print(df)\n",
    "result =df\n",
    "# colon 1 ve kolon 2 yi yazdırdık aynı işlemi loc komutu ile de yapabiliriz\n",
    "result=df[['colomn1','colomn2']]\n",
    "print('***************')\n",
    "# loc komtunun kullanımı bu şekilde\n",
    "#loc(\"row\",colomn) => loc[\"row\"] => loc[:,\"colomn\"] \n",
    "result=df.loc['A']\n",
    "result=df.loc[:,'colomn1']\n",
    "result=df.loc[:,['colomn1','colomn2']]\n",
    "result=df.loc[:,\"colomn1\":\"colomn3\"] # belli bir aralıkta kolon seçtik\n",
    "result=df.loc[:,:\"colomn3\"] # baştan belli kolona kadar seçtik\n",
    "# kolon ve satırları isteğe göre seçtik\n",
    "result=df.loc[\"A\":\"B\",:\"colomn3\"]\n",
    "result=df.loc[:\"B\",:\"colomn3\"] # üstteki ile aynı kulanım\n",
    "\n",
    "result=df.iloc[2] # iloc komutu ile index numarasına göre satır seçtik\n",
    "\n",
    "result=df.loc['A','colomn2'] # A. satırın 2. kolonuna gelen değeri aldık\n",
    "result=df.loc[['A','B'] ,['colomn2']]\n",
    "print(result)\n",
    "print('***************')\n",
    "df[\"colomn4\"]=pd.Series(randn(3),['A','B','C'])# yeni kolon ekledik\n",
    "    \n",
    "    \n",
    "df[\"colomn5\"]=df[\"colomn1\"]+df['colomn2']\n",
    "\n",
    "# drop metodu ile kolon5 i sildik inplace i belirtmezsek geçici silme yaparız\n",
    "result=df.drop(\"colomn5\",axis=1,inplace=True) \n",
    "print(result)\n",
    "print(df)\n",
    "\n"
   ]
  },
  {
   "cell_type": "markdown",
   "id": "ff003687",
   "metadata": {},
   "source": [
    "<!-- dataframe filtreleme -->\n",
    "\n"
   ]
  },
  {
   "cell_type": "code",
   "execution_count": 144,
   "id": "b3937198",
   "metadata": {},
   "outputs": [
    {
     "name": "stdout",
     "output_type": "stream",
     "text": [
      "    c1  c2  c3  c4  c5\n",
      "0   58  97  26  24  85\n",
      "1   16  53  82  39  26\n",
      "2   21  89  41  73  31\n",
      "3   22  81  48  82  86\n",
      "4   61  51  73  69  72\n",
      "5   95  23  77  27  37\n",
      "6   15  67  96  96  89\n",
      "7   99  77  15  65  85\n",
      "8   40  29  21  89  60\n",
      "9   15  48  85  23  71\n",
      "10  83  41  85  66  11\n",
      "11  24  79  28  72  76\n",
      "12  76  31  80  39  32\n",
      "13  17  37  25  61  99\n",
      "14  96  99  52  65  89\n",
      "************************\n",
      "    c1  c2\n",
      "0   58  97\n",
      "12  76  31\n",
      "14  96  99\n"
     ]
    }
   ],
   "source": [
    "import pandas as pd\n",
    "\n",
    "import numpy as np\n",
    "\n",
    "data =np.random.randint(10,100,75).reshape(15,5)\n",
    "\n",
    "df=pd.DataFrame(data,columns=['c1','c2','c3','c4','c5'])\n",
    "print(df)\n",
    "print('************************')\n",
    "result=df\n",
    "result=df.columns\n",
    "result=df.head(5) # ilk 5 kaydı gösterir\n",
    "result=df.tail(5)# son 5 satır gösterir\n",
    "\n",
    "\n",
    "result=df['c1'].head() # sadece kolon 1 i aldık head metodu ile ilk 5 kaydı aldık\n",
    "result=df.c1.head() # aynı gösterim\n",
    "\n",
    "result=df[['c1','c2']].head() # c1 ve c2 yi gösterdik\n",
    "\n",
    "result=df[5:15][[\"c1\",\"c2\"]].head()\n",
    "\n",
    "\n",
    "result=df>50 # 50 den büyük dataları true yaptık\n",
    "result=df[df>50] # 50 den büyük olanları fream e attık\n",
    "result=df[df%2==0] \n",
    "\n",
    "result=df[df['c1']>50][['c1','c2']]\n",
    "\n",
    "result=df[(df['c1']>50)&(df ['c2']<=70)] # and işareti ile koşul belirttik\n",
    "result=df[(df['c1']>50)|(df ['c2']<=70)]   # or işareti ile koşul belirttik\n",
    "\n",
    "result=df[(df['c1']>50)|(df ['c2']<=70)][['c1','c2']]\n",
    "\n",
    "result=df.query('c1 >50 & c1 %2==0' )[['c1','c2']]# koşul işleminin komutu\n",
    "\n",
    "\n",
    "\n",
    "\n",
    "print(result)"
   ]
  },
  {
   "cell_type": "markdown",
   "id": "4b1d7907",
   "metadata": {},
   "source": [
    "<!-- imdb veri analizi -->"
   ]
  },
  {
   "cell_type": "code",
   "execution_count": 256,
   "id": "653d8b75",
   "metadata": {},
   "outputs": [
    {
     "name": "stdout",
     "output_type": "stream",
     "text": [
      "          player_name                      college\n",
      "0       Dennis Rodman  Southeastern Oklahoma State\n",
      "1   Dwayne Schintzius                      Florida\n",
      "2        Earl Cureton                Detroit Mercy\n",
      "3         Ed O'Bannon                         UCLA\n",
      "4         Ed Pinckney                    Villanova\n",
      "5       Eddie Johnson                     Illinois\n",
      "6         Eddie Jones                       Temple\n",
      "7      Elden Campbell                      Clemson\n",
      "8   Eldridge Recasner                   Washington\n",
      "9        Elliot Perry                      Memphis\n",
      "10      Elmer Bennett                   Notre Dame\n",
      "11     Elmore Spencer             Nevada-Las Vegas\n",
      "12      Emanual Davis               Delaware State\n",
      "13      Ennis Whatley                      Alabama\n",
      "14       Eric Leckner                      Wyoming\n",
      "15        Eric Mobley                   Pittsburgh\n",
      "16      Eric Montross               North Carolina\n",
      "17       Eric Murdock                   Providence\n",
      "18    Eric Piatkowski                     Nebraska\n",
      "19          Eric Snow               Michigan State\n"
     ]
    }
   ],
   "source": [
    "import pandas as pd\n",
    "\n",
    "\n",
    "df=pd.read_csv('all_seasons.csv')\n",
    "result=df.columns\n",
    "result=df.info\n",
    "result=df.head()\n",
    "result=df.head(10)\n",
    "result=df.tail()\n",
    "result=df[['age','player_name']].head()\n",
    "result=df[['age','player_name']].tail(7)\n",
    "result=df.loc[5:10][['player_name','age']]\n",
    "result=df.query('age>30')[['player_name','age','draft_year']].head(50)\n",
    "result=df.query('age > 30 & age < 38')[['player_name']].head(20)\n",
    "result=df.query('age > 30 | age < 38')[['player_name','college']].head(20)\n",
    "print(result)"
   ]
  },
  {
   "cell_type": "markdown",
   "id": "e21716d8",
   "metadata": {},
   "source": [
    "<!-- dataframe groupby -->"
   ]
  },
  {
   "cell_type": "code",
   "execution_count": 270,
   "id": "a362220b",
   "metadata": {},
   "outputs": [
    {
     "name": "stdout",
     "output_type": "stream",
     "text": [
      "                                          mean  amax  amin\n",
      "college                                                   \n",
      "                                     26.500000  27.0  26.0\n",
      "                                     20.000000  20.0  20.0\n",
      "Alabama                              27.663866  37.0  19.0\n",
      "Alabama A&M                          25.000000  25.0  25.0\n",
      "Alabama Huntsville                   29.000000  30.0  28.0\n",
      "Alabama-Birmingham                   26.000000  29.0  22.0\n",
      "Albany State (GA)                    40.500000  41.0  40.0\n",
      "American International               35.000000  37.0  33.0\n",
      "American University                  32.500000  33.0  32.0\n",
      "Arizona                              27.154122  40.0  19.0\n"
     ]
    },
    {
     "name": "stderr",
     "output_type": "stream",
     "text": [
      "C:\\Users\\kayan\\AppData\\Local\\Temp/ipykernel_10672/2204013344.py:14: FutureWarning: Dropping of nuisance columns in DataFrame reductions (with 'numeric_only=None') is deprecated; in a future version this will raise TypeError.  Select only valid columns before calling the reduction.\n",
      "  result=df.groupby('college').get_group('Florida').mean()\n"
     ]
    }
   ],
   "source": [
    "import pandas as pd \n",
    "import numpy as np\n",
    "df=pd.read_csv('all_seasons.csv')\n",
    "result=df.groupby('player_name').groups\n",
    "\n",
    "\"\"\"yaslar=df.groupby('college')\n",
    "for name,grup in yaslar:\n",
    "    print(name)\n",
    "    print(grup)\n",
    "\"\"\"\n",
    "    \n",
    "result=df.groupby(\"age\").get_group(27)\n",
    "result=df.groupby(\"player_name\").get_group('Eric Leckner')\n",
    "result=df.groupby('college').get_group('Florida').mean()\n",
    "result=df.groupby('college')['age'].mean()# collge a göre grupladık yaşa göre ort aldık\n",
    "result=df.groupby('college')['age'].count()# kaç kişi var olduğuna bakar\n",
    "\n",
    "result=df.groupby('college')['age'].max().head(10)\n",
    "\n",
    "\n",
    "result=df.groupby('college')['age'].agg([np.mean,np.max,np.min]).head(10)\n",
    "print(result)"
   ]
  },
  {
   "cell_type": "markdown",
   "id": "3fb8ae3e",
   "metadata": {},
   "source": [
    "<!-- kayıp ve bozuk veri analizi -->"
   ]
  },
  {
   "cell_type": "code",
   "execution_count": 666,
   "id": "2fd29f47",
   "metadata": {},
   "outputs": [
    {
     "name": "stdout",
     "output_type": "stream",
     "text": [
      "     c1    c2    c3    c4\n",
      "a  33.0  20.0  71.0  42.0\n",
      "b  42.0  42.0  42.0  30.0\n",
      "c  88.0  44.0  93.0  42.0\n",
      "d  42.0  42.0  42.0  51.0\n",
      "e  25.0  15.0  39.0  42.0\n",
      "f  84.0  58.0  21.0  30.0\n",
      "g  42.0  42.0  42.0  42.0\n",
      "h  38.0  18.0  30.0  10.0\n"
     ]
    }
   ],
   "source": [
    "import pandas as pd\n",
    "import numpy as np\n",
    "data=np.random.randint(10,100,15).reshape(5,3)\n",
    "\n",
    "df=pd.DataFrame(data,index=['a','c','e','f','h'],columns=['c1','c2','c3'])\n",
    "\n",
    "df=df.reindex(['a','b','c','d','e','f','g','h'])\n",
    "\n",
    "result=df\n",
    "result=df.drop('c1',axis=1)\n",
    "result=df.drop('a')\n",
    "\n",
    "# df de nan olan değerleri true yada false yapmak için isnull-notnull kullandık\n",
    "result=df.isnull()\n",
    "result=df.notnull()\n",
    "result=df.isnull().sum()\n",
    "result=df['c1'].isnull().sum()\n",
    "\n",
    "newC=[np.nan,30,np.nan,51,np.nan,30,np.nan,10]\n",
    "\n",
    "\n",
    "df['c4']=newC\n",
    "\n",
    "result=df\n",
    "\n",
    "result=df[df['c1'].isnull()]\n",
    "result=df[df['c1'].isnull()]['c1']\n",
    "\n",
    "result=df[df['c1'].notnull()]['c1']\n",
    "\n",
    "# dropna nan olan satır yada sütunu komple silmeye yarar\n",
    "result=df.dropna(axis=1) # axis=0 satıra göre\n",
    "result=df.dropna(axis=1) # axis=1 satıra göre\n",
    "\n",
    "result=df.dropna(how='any') # sadece 1 tane bile nan varsa siler\n",
    "result=df.dropna(how='all')# tüm satırı nan olan satırı siler droplar \n",
    "\n",
    "result=df.dropna(subset=['c1','c2'],how='all')\n",
    "result=df.dropna(subset=['c1','c2'],how='any')\n",
    "\n",
    "# en az sayıda normal veri\n",
    "result=df.dropna(thresh=2)\n",
    "result=df.dropna(thresh=4)\n",
    "result=df.dropna(thresh=3)\n",
    "\n",
    "result=df.fillna(value='no input')\n",
    "result=df.fillna(value=1)\n",
    "\n",
    "result=df.sum()\n",
    "result=df.sum().sum()\n",
    "result=df.size\n",
    "\n",
    "\n",
    "result=df.isnull().sum()\n",
    "\n",
    "result=df.isnull().sum().sum()\n",
    "\n",
    "# nan olan yerlere sayıların ortalamasını yazdık\n",
    "\n",
    "def ortalama(df):\n",
    "    toplam =df.sum().sum()\n",
    "    adet=df.size - df.isnull().sum().sum()\n",
    "    return toplam/adet\n",
    "\n",
    "\n",
    "result=df.fillna(value=ortalama(df))\n",
    "print(result)"
   ]
  },
  {
   "cell_type": "markdown",
   "id": "7b9302ed",
   "metadata": {},
   "source": [
    "<!-- pandasta string fonksiyonları kullanımı -->"
   ]
  },
  {
   "cell_type": "code",
   "execution_count": 694,
   "id": "1dd0ed35",
   "metadata": {},
   "outputs": [
    {
     "name": "stdout",
     "output_type": "stream",
     "text": [
      "       name     surname\n",
      "0    Dennis      Rodman\n",
      "1    Dwayne  Schintzius\n",
      "2      Earl     Cureton\n",
      "3        Ed    O'Bannon\n",
      "4        Ed    Pinckney\n",
      "5     Eddie     Johnson\n",
      "6     Eddie       Jones\n",
      "7     Elden    Campbell\n",
      "8  Eldridge    Recasner\n",
      "9    Elliot       Perry\n"
     ]
    }
   ],
   "source": [
    "import pandas as pd \n",
    "\n",
    "\n",
    "data.dropna(inplace=True)\n",
    "\n",
    "#print(data.columns)\n",
    "data =pd.read_csv('all_seasons.csv')\n",
    "\n",
    "\"\"\"data['player_name']=data['player_name'].str.upper()\n",
    "data['player_name']=data['player_name'].str.lower()\"\"\"\n",
    "\n",
    "#data[\"index\"]=data['player_name'].str.find('a')\n",
    "\n",
    "#data=data[data.player_name.str.contains('Earl Cureton')]\n",
    "#data=data['player_name'].str.replace(' ','-').head(10)\n",
    "\n",
    "# isim ve soy isimleri ayırıp oluşturdugumuz name ve surname kolonlarına attık\n",
    "data[[\"name\",\"surname\"]]=data['player_name'].loc[data['player_name'].str.split().str.len()==2].str.split(expand=True)\n",
    "\n",
    "\n",
    "print(data[['name','surname']].head(10))"
   ]
  },
  {
   "cell_type": "markdown",
   "id": "6113bc84",
   "metadata": {},
   "source": [
    "<!-- join ve merge işlemleri -->"
   ]
  },
  {
   "cell_type": "code",
   "execution_count": 715,
   "id": "1ade4007",
   "metadata": {
    "scrolled": true
   },
   "outputs": [
    {
     "name": "stdout",
     "output_type": "stream",
     "text": [
      "   customerıd    name surname\n",
      "0           1     ali  kayanc\n",
      "1           2    ayşe  kaplan\n",
      "2           3  kevser  çilata\n",
      "3           4   ahmet  arslan\n",
      "0           4  yağmur   turan\n",
      "1           5   çınar  kartal\n",
      "2           6     ata     kro\n",
      "3           7   ırmak   bilge\n"
     ]
    }
   ],
   "source": [
    "import pandas as pd\n",
    "\n",
    "\n",
    "\"\"\"customers ={\n",
    "    \n",
    "    'customerıd':[1,2,3,4],\n",
    "    'name':['ali','ayşe','kevser','ahmet'],\n",
    "    'surname':['kayanc','kaplan','çilata','arslan'],\n",
    "}\n",
    "\n",
    "orders={\n",
    "    'orederıd':[10,11,12,13],\n",
    "    'customerıd':[1,2,5,7],\n",
    "    'ordordate':['hazıranıyor','hazır','s_alındı','s_bekleniyor']\n",
    "}\n",
    "\n",
    "\n",
    "df_customers=pd.DataFrame(customers,columns=['customerıd','name','surname'])\n",
    "                          \n",
    "                          \n",
    "df_orders=pd.DataFrame(orders,columns=['orederıd','customerıd','ordordate'])                          \n",
    "                          \n",
    "                          \n",
    "                          \n",
    "print(df_customers)                          \n",
    "print(df_orders)                         \n",
    "                          \n",
    "# inner join yaptığımız için sadece ortak cololnlar geldi\n",
    "\n",
    "result=pd.merge(df_customers,df_orders,how='inner')\n",
    "\n",
    "result=pd.merge(df_customers,df_orders,how='left')\n",
    "result=pd.merge(df_customers,df_orders,how='right')\"\"\"\n",
    "\n",
    "\n",
    "customersA ={\n",
    "    \n",
    "    'customerıd':[1,2,3,4],\n",
    "    'name':['ali','ayşe','kevser','ahmet'],\n",
    "    'surname':['kayanc','kaplan','çilata','arslan'],\n",
    "}\n",
    "customersB ={\n",
    "    \n",
    "    'customerıd':[4,5,6,7],\n",
    "    'name':['yağmur','çınar','ata','ırmak'],\n",
    "    'surname':['turan','kartal','kro','bilge'],\n",
    "}\n",
    "\n",
    "df_customersA=pd.DataFrame(customersA,columns=['customerıd','name','surname'])\n",
    "                          \n",
    "                          \n",
    "df_customersB=pd.DataFrame(customersB,columns=['customerıd','name','surname'])  \n",
    "\n",
    "# concat ile birleştirme yaptık\n",
    "result=pd.concat([df_customersA,df_customersB])\n",
    "result=pd.concat([df_customersA,df_customersB],axis=1)\n",
    "\n",
    "\n",
    "\n",
    "\n",
    "\n",
    "print(result)\n",
    "\n",
    "                          \n",
    "                          \n",
    "                          \n",
    "                          \n",
    "                          "
   ]
  },
  {
   "cell_type": "markdown",
   "id": "8c512ff6",
   "metadata": {},
   "source": [
    "<!-- dataframe metodları -->"
   ]
  },
  {
   "cell_type": "code",
   "execution_count": 751,
   "id": "623dc958",
   "metadata": {},
   "outputs": [
    {
     "name": "stdout",
     "output_type": "stream",
     "text": [
      "   kolon1  kolon2 kolon3  kolon4\n",
      "0       1      10    abc       3\n",
      "1       2      20    abd       3\n",
      "2       3      13    cba       3\n",
      "3       4      20    dfg       3\n",
      "4       5      25    emh       3\n",
      "********************************\n",
      "   kolon1  kolon2 kolon3  kolon4\n",
      "0       1      10    abc       3\n",
      "1       2      20    abd       3\n",
      "2       3      13    cba       3\n",
      "3       4      20    dfg       3\n",
      "4       5      25    emh       3\n",
      "********************************\n",
      "kolon3   abc   abd   cba   dfg   emh\n",
      "kolon1                              \n",
      "1       10.0   NaN   NaN   NaN   NaN\n",
      "2        NaN  20.0   NaN   NaN   NaN\n",
      "3        NaN   NaN  13.0   NaN   NaN\n",
      "4        NaN   NaN   NaN  20.0   NaN\n",
      "5        NaN   NaN   NaN   NaN  25.0\n"
     ]
    }
   ],
   "source": [
    "import pandas as pd\n",
    "\n",
    "import numpy as np\n",
    "\n",
    "\n",
    "data ={\n",
    "    'kolon1':[1,2,3,4,5],\n",
    "    'kolon2':[10,20,13,20,25],\n",
    "    'kolon3':['abc','abd','cba','dfg','emh']\n",
    "}\n",
    "df=pd.DataFrame(data)\n",
    "\n",
    "def kareal(x):\n",
    "    return x*x\n",
    "\n",
    "kareal2= lambda x: x*x\n",
    "\n",
    "result=df\n",
    "\n",
    "# tekrarlayan elemanları bir tane alan metod\n",
    "result=df['kolon2'].unique()\n",
    "# üsttekinin sayısını verir\n",
    "result=df['kolon2'].nunique()\n",
    "#her bir elemanın kaç kere tekrarladığını verir\n",
    "result=df['kolon2'].value_counts()\n",
    "#değerlerin karesini aldık\n",
    "result=df['kolon1']**2\n",
    "#değerlerin karesini aldık\n",
    "result=df['kolon2'].apply(kareal)\n",
    "result=df['kolon2'].apply(kareal2)\n",
    "result=df['kolon2'].apply(lambda x: x*x)\n",
    "\n",
    "result=df['kolon3'].apply(len)\n",
    "\n",
    "\n",
    "df['kolon4']=df['kolon3'].apply(len)\n",
    "\n",
    "print(df)\n",
    "\n",
    "print(\"********************************\")\n",
    "\n",
    "result=len(df.columns)\n",
    "\n",
    "\n",
    "result=df.index\n",
    "result=len(df.index)\n",
    "\n",
    "result=df.info\n",
    "\n",
    "# değeri sıralar \n",
    "result=df.sort_values(\"kolon2\")\n",
    "result=df.sort_values(\"kolon3\")# alfabetik sıraladık\n",
    "\n",
    "\n",
    "\n",
    "\n",
    "\n",
    "print(result)\n",
    "print(\"********************************\")\n",
    "# pivot_table metodu ile istediğimizi lolon veya satır yapabiliyoruz\n",
    "print(df.pivot_table(index='kolon1',columns='kolon3',values='kolon2'))\n"
   ]
  },
  {
   "cell_type": "code",
   "execution_count": null,
   "id": "0c7bca49",
   "metadata": {},
   "outputs": [],
   "source": []
  },
  {
   "cell_type": "code",
   "execution_count": null,
   "id": "dd7661c2",
   "metadata": {},
   "outputs": [],
   "source": []
  },
  {
   "cell_type": "code",
   "execution_count": null,
   "id": "826ddf33",
   "metadata": {},
   "outputs": [],
   "source": []
  },
  {
   "cell_type": "code",
   "execution_count": null,
   "id": "3b48300c",
   "metadata": {},
   "outputs": [],
   "source": []
  },
  {
   "cell_type": "code",
   "execution_count": null,
   "id": "8ff4c068",
   "metadata": {},
   "outputs": [],
   "source": []
  },
  {
   "cell_type": "code",
   "execution_count": null,
   "id": "a7cd658b",
   "metadata": {},
   "outputs": [],
   "source": []
  },
  {
   "cell_type": "code",
   "execution_count": null,
   "id": "a521b3ee",
   "metadata": {},
   "outputs": [],
   "source": []
  },
  {
   "cell_type": "code",
   "execution_count": null,
   "id": "f995ebb9",
   "metadata": {},
   "outputs": [],
   "source": []
  },
  {
   "cell_type": "code",
   "execution_count": null,
   "id": "177a7824",
   "metadata": {},
   "outputs": [],
   "source": []
  },
  {
   "cell_type": "code",
   "execution_count": null,
   "id": "bcd0c7bc",
   "metadata": {},
   "outputs": [],
   "source": []
  }
 ],
 "metadata": {
  "kernelspec": {
   "display_name": "Python 3.9.7 ('base')",
   "language": "python",
   "name": "python3"
  },
  "language_info": {
   "codemirror_mode": {
    "name": "ipython",
    "version": 3
   },
   "file_extension": ".py",
   "mimetype": "text/x-python",
   "name": "python",
   "nbconvert_exporter": "python",
   "pygments_lexer": "ipython3",
   "version": "3.9.7"
  },
  "vscode": {
   "interpreter": {
    "hash": "a6a5d7969b11a650834bc787cff5761e305f069613632c02c475baa78316c3e7"
   }
  }
 },
 "nbformat": 4,
 "nbformat_minor": 5
}
