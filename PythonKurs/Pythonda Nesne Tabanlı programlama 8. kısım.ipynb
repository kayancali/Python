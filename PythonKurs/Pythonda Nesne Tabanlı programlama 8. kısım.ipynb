{
 "cells": [
  {
   "cell_type": "markdown",
   "id": "6f19e1f4",
   "metadata": {},
   "source": [
    "<!-- class -->"
   ]
  },
  {
   "cell_type": "code",
   "execution_count": 2,
   "id": "c5cba66a",
   "metadata": {},
   "outputs": [
    {
     "name": "stdout",
     "output_type": "stream",
     "text": [
      "<class 'list'>\n"
     ]
    }
   ],
   "source": [
    "list=[1,2,3]\n",
    "result=type(list)\n",
    "print(result)"
   ]
  },
  {
   "cell_type": "code",
   "execution_count": 26,
   "id": "55562e56",
   "metadata": {},
   "outputs": [
    {
     "name": "stdout",
     "output_type": "stream",
     "text": [
      "init metodu çalıştı\n",
      "init metodu çalıştı\n",
      "ali\n",
      "2001\n",
      "no inforation\n",
      "betül\n",
      "ankara\n"
     ]
    }
   ],
   "source": [
    "class Person:\n",
    "    \n",
    "    address='no inforation'\n",
    "\n",
    "    def __init__(self,name,year):\n",
    "        self.name=name\n",
    "        self.year=year\n",
    "        print('init metodu çalıştı')\n",
    "    \n",
    "    \n",
    "    \n",
    "p1=Person(name='ali',year=2002)\n",
    "\n",
    "p2=Person(name='iclal',year=2001)\n",
    "\n",
    "\n",
    "print(p1.name)\n",
    "print(p2.year)\n",
    "print(p1.address)\n",
    "#updating\n",
    "p1.name='betül'\n",
    "print(p1.name)\n",
    "p1.address='ankara'\n",
    "print(p1.address)"
   ]
  },
  {
   "cell_type": "markdown",
   "id": "bc2ad9a0",
   "metadata": {},
   "source": [
    "<!--  metodlar -->"
   ]
  },
  {
   "cell_type": "code",
   "execution_count": 35,
   "id": "0356b595",
   "metadata": {},
   "outputs": [
    {
     "name": "stdout",
     "output_type": "stream",
     "text": [
      "init metodu çalıştı\n",
      "init metodu çalıştı\n",
      "hello there. I m  iclal\n",
      "adım:ali ve yasim 20\n",
      "adım:iclal ve yasim 21\n"
     ]
    }
   ],
   "source": [
    "class Person:\n",
    "    \n",
    "    address='no inforation'\n",
    "    # object\n",
    "    def __init__(self,name,year):\n",
    "        self.name=name\n",
    "        self.year=year\n",
    "        print('init metodu çalıştı')\n",
    "    #metod\n",
    "    def intro(self):\n",
    "        print('hello there. I m  '+ self.name)\n",
    "    def calculateAge(self):\n",
    "        return 2022-self.year\n",
    "p1=Person(name='ali',year=2002)\n",
    "\n",
    "p2=Person(name='iclal',year=2001)\n",
    "\n",
    "p2.intro()\n",
    "\n",
    "print(f\"adım:{p1.name} ve yasim {p1.calculateAge()}\")\n",
    "print(f\"adım:{p2.name} ve yasim {p2.calculateAge()}\")"
   ]
  },
  {
   "cell_type": "code",
   "execution_count": 42,
   "id": "6eaa7782",
   "metadata": {},
   "outputs": [
    {
     "name": "stdout",
     "output_type": "stream",
     "text": [
      "D1 alan:3.14\n",
      "D1 cevre:6.28\n",
      "D2 alan:113.04\n",
      "D2 cevre:37.68\n"
     ]
    }
   ],
   "source": [
    "class Circle:\n",
    "    \n",
    "    pi=3.14\n",
    "    \n",
    "    def __init__(self,yaricap=1):\n",
    "        self.yaricap=yaricap\n",
    "        \n",
    "        \n",
    "        \n",
    "    def cevre(self):\n",
    "        return 2*self.pi *self.yaricap\n",
    "    \n",
    "    def alan(self):\n",
    "        return self.pi*(self.yaricap**2)\n",
    "        \n",
    "        \n",
    "D1=Circle()       \n",
    "D2=Circle(6)\n",
    "\n",
    "print(f\"D1 alan:{D1.alan()}\")\n",
    "print(f\"D1 cevre:{D1.cevre()}\")\n",
    "print(f\"D2 alan:{D2.alan()}\")\n",
    "print(f\"D2 cevre:{D2.cevre()}\")"
   ]
  },
  {
   "cell_type": "code",
   "execution_count": 87,
   "id": "9ab7cc80",
   "metadata": {},
   "outputs": [
    {
     "name": "stdout",
     "output_type": "stream",
     "text": [
      "person created\n",
      "person created\n",
      "student created\n",
      "person created\n",
      "ali kayanc\n",
      "iclal ali 25\n",
      "nimet temmelli mat\n",
      "I m a Person\n",
      "I m a student\n",
      "helllo I m a student\n",
      "I m a mat\n"
     ]
    }
   ],
   "source": [
    "#ınheritance(kalıtım):miras alma\n",
    "\n",
    "# Person => name,lastname,drink(),Eata()\n",
    "#student(PErson),Teachera(Person)\n",
    "\n",
    "#animal=> dog(Animal),cat(Animal)\n",
    "\n",
    "class Person():\n",
    "    def __init__(self,name,lastname):\n",
    "        self.name=name\n",
    "        self.lastname=lastname\n",
    "        print('person created')\n",
    "    def who_am(self):\n",
    "        print('I m a Person')\n",
    "    \n",
    "    \n",
    "    \n",
    "    \n",
    "class Student(Person):\n",
    "    def __init__(self,name,lastname,number):\n",
    "        Person.__init__(self,name,lastname)\n",
    "        self.number =number\n",
    "        print('student created')\n",
    "    def who_am(self):\n",
    "        print('I m a student')\n",
    "    def sayhelllo(self):\n",
    "        print('helllo I m a student')\n",
    "\n",
    "        \n",
    "        \n",
    "class Teacher(Person):\n",
    "    def __init__(self,name,lastname,branch):\n",
    "        super().__init__(name,lastname)\n",
    "        self.branch=branch\n",
    "    def who_am(self):\n",
    "        print(f'I m a {self.branch}')\n",
    "    \n",
    "    \n",
    "    \n",
    "    \n",
    "p1=Person('ali','kayanc')\n",
    "p2=Student('iclal','ali',25)\n",
    "t1=Teacher('nimet','temmelli','mat')\n",
    "print(p1.name,p1.lastname)\n",
    "print(p2.name,p2.lastname,p2.number)\n",
    "print(t1.name,t1.lastname,t1.branch)\n",
    "p1.who_am()\n",
    "p2.who_am()\n",
    "p2.sayhelllo()\n",
    "t1.who_am()"
   ]
  },
  {
   "cell_type": "markdown",
   "id": "eed0ff10",
   "metadata": {},
   "source": [
    "<!-- özel metodlar -->"
   ]
  },
  {
   "cell_type": "code",
   "execution_count": 105,
   "id": "9bf4992a",
   "metadata": {},
   "outputs": [
    {
     "name": "stdout",
     "output_type": "stream",
     "text": [
      "3\n",
      "movie objesi oluşturuldu\n",
      "120\n",
      "film silindi\n"
     ]
    }
   ],
   "source": [
    "myliat=[1,3,6]\n",
    "print(len(myliat))\n",
    "\n",
    "class Movie():\n",
    "    def __init__(self,title,director,duration):\n",
    "        self.title=title\n",
    "        self.duration=duration\n",
    "        self.diretor=director\n",
    "        print('movie objesi oluşturuldu')\n",
    "    def __len__(self):\n",
    "        return self.duration\n",
    "    \n",
    "    def __del__(self):\n",
    "        print('film silindi')\n",
    "m1=Movie('film adı','yonetmeni',120)\n",
    "print(len(m1))\n",
    "\n",
    "del m1\n"
   ]
  },
  {
   "cell_type": "markdown",
   "id": "25bf2c54",
   "metadata": {},
   "source": [
    "<!-- quiz uygulaması -->"
   ]
  },
  {
   "cell_type": "code",
   "execution_count": 138,
   "id": "613181a0",
   "metadata": {},
   "outputs": [
    {
     "name": "stdout",
     "output_type": "stream",
     "text": [
      "*****************question 1 of 3******************\n",
      "1: en iyi programlama dili hangisidir ?\n",
      "-c#\n",
      "-python\n",
      "-java\n",
      "-html\n",
      "cevap:d\n",
      "*****************question 2 of 3******************\n",
      "2: en popüler programlama dili hangisidir ?\n",
      "-java\n",
      "-c#\n",
      "-python\n",
      "-html\n",
      "cevap:d\n",
      "*****************question 3 of 3******************\n",
      "3: en çok kazandıran programlama dili hangisidir ?\n",
      "-python\n",
      "-c#\n",
      "-java\n",
      "-html\n",
      "cevap:i\n",
      "quiz bitti skorunuz:0\n"
     ]
    }
   ],
   "source": [
    "class Question():\n",
    "    def __init__(self,text,choices,answer):\n",
    "        self.text=text\n",
    "        self.choices=choices\n",
    "        self.answer=answer\n",
    "    def checkAnswer(self,answer):\n",
    "        return self.answer==answer\n",
    " \n",
    "\n",
    "\n",
    "class Quiz():\n",
    "    def __init__(self,questions):\n",
    "        self.questions=questions\n",
    "        self.score=0\n",
    "        self.questionİndex=0\n",
    "    def getQuestion(self):\n",
    "        return self.questions[self.questionİndex]\n",
    "    \n",
    "    def displayQuestion(self):\n",
    "        question= self.getQuestion()\n",
    "        print(f'{self.questionİndex+1}: {question.text}')\n",
    "        \n",
    "        for q in question.choices:\n",
    "            print('-'+ q)\n",
    "        answer=input('cevap:')\n",
    "        self.guess(answer)\n",
    "        self.loadQuestion()\n",
    "    def guess(self,answer):\n",
    "        question=self.getQuestion()\n",
    "        if (question.checkAnswer(answer)):\n",
    "            self.score+=1\n",
    "        self.questionİndex+=1\n",
    "        \n",
    "    def loadQuestion(self):\n",
    "        if len(self.questions)==self.questionİndex:\n",
    "            self.showScore()\n",
    "        else:\n",
    "            self.displayilerleme()\n",
    "            self.displayQuestion()\n",
    "    def showScore(self):\n",
    "        \n",
    "        print(f\"quiz bitti skorunuz:{self.score}\")\n",
    "    def displayilerleme(self):\n",
    "        totalQuestion=len(self.questions)\n",
    "        questionNumber=self.questionİndex+1\n",
    "        \n",
    "        if questionNumber > totalQuestion:\n",
    "            print('oyun bitti')\n",
    "        else:\n",
    "            print(f\"question {questionNumber} of {totalQuestion}\".center(50,'*'))\n",
    "        \n",
    "q1=Question('en iyi programlama dili hangisidir ?', ['c#','python','java','html'] ,'python')\n",
    "q2=Question('en popüler programlama dili hangisidir ?', ['java','c#','python','html'] ,'python')\n",
    "q3=Question('en çok kazandıran programlama dili hangisidir ?' ,['python','c#','java','html'] ,'python')\n",
    "questions =[q1,q2,q3]\n",
    "\n",
    "quiz=Quiz(questions)\n",
    "quiz.loadQuestion()"
   ]
  },
  {
   "cell_type": "code",
   "execution_count": null,
   "id": "1fb95269",
   "metadata": {},
   "outputs": [],
   "source": []
  },
  {
   "cell_type": "code",
   "execution_count": null,
   "id": "e21ba519",
   "metadata": {},
   "outputs": [],
   "source": []
  }
 ],
 "metadata": {
  "kernelspec": {
   "display_name": "Python 3 (ipykernel)",
   "language": "python",
   "name": "python3"
  },
  "language_info": {
   "codemirror_mode": {
    "name": "ipython",
    "version": 3
   },
   "file_extension": ".py",
   "mimetype": "text/x-python",
   "name": "python",
   "nbconvert_exporter": "python",
   "pygments_lexer": "ipython3",
   "version": "3.9.7"
  }
 },
 "nbformat": 4,
 "nbformat_minor": 5
}
