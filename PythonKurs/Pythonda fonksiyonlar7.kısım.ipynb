{
 "cells": [
  {
   "cell_type": "markdown",
   "id": "7da43028",
   "metadata": {},
   "source": [
    "<!--  metodlar ve fonksiyonlar -->"
   ]
  },
  {
   "cell_type": "code",
   "execution_count": 10,
   "id": "a6d733b3",
   "metadata": {},
   "outputs": [
    {
     "name": "stdout",
     "output_type": "stream",
     "text": [
      "[1, 2, 3, 4, 5]\n",
      "<class 'list'>\n",
      "[2, 3, 4, 5]\n",
      "<class 'str'>\n"
     ]
    }
   ],
   "source": [
    "list=[1,2,3,4]\n",
    "\n",
    "list.append(5)\n",
    "\n",
    "print(list)\n",
    "\n",
    "print(type (list))\n",
    "list.pop(0)\n",
    "print(list)\n",
    "\n",
    "mystring='hello'\n",
    "print (type(mystring))"
   ]
  },
  {
   "cell_type": "code",
   "execution_count": 18,
   "id": "b64b51bd",
   "metadata": {},
   "outputs": [
    {
     "name": "stdout",
     "output_type": "stream",
     "text": [
      "hello ali \n"
     ]
    }
   ],
   "source": [
    "def sayHello(name): # fonksiyon oluşturduk \n",
    "    print ('hello' + name)\n",
    "\n",
    "sayHello(' ali ')\n"
   ]
  },
  {
   "cell_type": "code",
   "execution_count": 1,
   "id": "89d41861",
   "metadata": {},
   "outputs": [
    {
     "name": "stdout",
     "output_type": "stream",
     "text": [
      "hello ali\n",
      "5\n",
      "3\n",
      "Help on function mezunolmayakackaldı in module __main__:\n",
      "\n",
      "mezunolmayakackaldı()\n",
      "    DOCSTRİNG: yasınıza göre mezun omana kaç yıl kalldı  \n",
      "    INPUT: none\n",
      "    OUtPUT : mezun olmana kalan yıl\n",
      "    hello\n",
      "\n",
      "None\n"
     ]
    }
   ],
   "source": [
    "def sayHello(name=' ali'): # fonksiyon oluşturduk\n",
    "    return ('hello' + name) # return komutu ile fonksiyondan geri değer döndürdük\n",
    "\n",
    "msg= sayHello()\n",
    "print(msg)\n",
    "\n",
    "\n",
    "def total(num1,num2):\n",
    "    return num1 + num2\n",
    "\n",
    "result = total(2,3)\n",
    "\n",
    "print (result)\n",
    "\n",
    "\n",
    "def yashesapla (dogumyılı):\n",
    "    return 2022 - dogumyılı\n",
    "\n",
    "\n",
    "\n",
    "\n",
    "def mezunolmayakackaldı():\n",
    "    # burda fonksiyonu kullanan kişi için not braktık\n",
    "    '''\n",
    "    DOCSTRİNG: yasınıza göre mezun omana kaç yıl kalldı  \n",
    "    INPUT: none\n",
    "    OUtPUT : mezun olmana kalan yıl\n",
    "    hello\n",
    "    '''\n",
    "   \n",
    "    yas = yashesapla(2002)\n",
    "    mezun=23-yas\n",
    "    print (mezun)\n",
    "    \n",
    "mezunolmayakackaldı()\n",
    "\n",
    "\n",
    "print (help(mezunolmayakackaldı))\n",
    "\n",
    "# help metodu ile bıraktığımız notu çağırdık\n"
   ]
  },
  {
   "cell_type": "markdown",
   "id": "e9835156",
   "metadata": {},
   "source": [
    "<!-- fonksiyon paramametleri -->"
   ]
  },
  {
   "cell_type": "code",
   "execution_count": 11,
   "id": "40388a35",
   "metadata": {},
   "outputs": [
    {
     "name": "stdout",
     "output_type": "stream",
     "text": [
      "muhammet\n",
      "['istanbul', 'izmir']\n",
      "30\n",
      "(10, 30, 50, 20, 40)\n",
      "<class 'tuple'>\n",
      "150\n"
     ]
    }
   ],
   "source": [
    "\n",
    "def changeName (n): # burda iki değişkeni ayrı ayrı tutuğumuz için\n",
    "    n ='ali'         # gönderdiğimiz değer değişmedi\n",
    "    \n",
    "name =('muhammet')\n",
    "\n",
    "changeName(name)\n",
    "print(name)\n",
    "\n",
    "# burda sehirler adlı listenin ilk elemanını değiştirmiş olduk\n",
    "def change (n):\n",
    "    n[0]='istanbul' # \n",
    "    \n",
    "sehirler= ['ankara','izmir']\n",
    "\n",
    "change(sehirler)\n",
    "\n",
    "print(sehirler)\n",
    "\n",
    "def add(a,b):\n",
    "    return sum((a,b))# sum komutu verilen değerleri topluyor\n",
    "\n",
    "print (add(10,20))\n",
    "\n",
    "def topla(*params): # yıldız komutu ile tuple oluşturdu ve \n",
    "    print(params)\n",
    "    print (type(params))#gönderilen değerleri sum komutu ile topladı\n",
    "    return sum((params))\n",
    "     \n",
    "print (topla(10,30,50,20,40))"
   ]
  },
  {
   "cell_type": "code",
   "execution_count": 10,
   "id": "1c9d2e46",
   "metadata": {},
   "outputs": [
    {
     "name": "stdout",
     "output_type": "stream",
     "text": [
      "<class 'dict'>\n",
      "name is ali\n",
      "surname is kayanc\n",
      "age is 20\n",
      "<class 'dict'>\n",
      "name is yusuf\n",
      "surname is konuk\n",
      "age is 20\n",
      "city is ankara\n",
      "<class 'dict'>\n",
      "name is iclal\n",
      "surname is mecidiye\n",
      "age is 20\n",
      "city is sakarya\n",
      "phone is 1335465\n"
     ]
    }
   ],
   "source": [
    "# bir önceki örnekte tek yıldız ile tuple oluşturduk burda \n",
    "# 2 yıldız kullanarak dictionary oluşturduk ve çağırma işlemi ile bilgileri tanımladık\n",
    "\n",
    "def bilgiler(**sınıf): \n",
    "    print (type(sınıf))\n",
    "    \n",
    "    for key,value in sınıf.items():\n",
    "        print(f'{key} is {value}')\n",
    "        \n",
    "bilgiler(name='ali',surname='kayanc',age=20 )\n",
    "bilgiler(name='yusuf',surname='konuk',age=20,city='ankara' )\n",
    "bilgiler(name='iclal',surname='mecidiye',age=20,city='sakarya',phone='1335465' )"
   ]
  },
  {
   "cell_type": "code",
   "execution_count": 12,
   "id": "e2dac179",
   "metadata": {},
   "outputs": [
    {
     "name": "stdout",
     "output_type": "stream",
     "text": [
      "2\n",
      "3\n",
      "(6, 4, 3)\n",
      "{'key': 1, 'value': 'ali'}\n"
     ]
    }
   ],
   "source": [
    "def myfunc(a,b,*args,**sınıf):\n",
    "    print(a)\n",
    "    print(b)\n",
    "    print(args)\n",
    "    print(sınıf)\n",
    "    \n",
    "myfunc(2,3,6,4,3,key=1,value='ali')"
   ]
  },
  {
   "cell_type": "code",
   "execution_count": 11,
   "id": "62ed6294",
   "metadata": {},
   "outputs": [
    {
     "name": "stdout",
     "output_type": "stream",
     "text": [
      "kaç kere yazılsın:3\n",
      "hello\n",
      "hello\n",
      "hello\n"
     ]
    }
   ],
   "source": [
    "def kelime(a):\n",
    "    \n",
    "    for i in range(b):\n",
    "       print (a)\n",
    "b=int (input('kaç kere yazılsın:'))\n",
    "    \n",
    "kelime('hello')"
   ]
  },
  {
   "cell_type": "code",
   "execution_count": 20,
   "id": "5f519a17",
   "metadata": {},
   "outputs": [
    {
     "data": {
      "text/plain": [
       "[10, 60, 'ali']"
      ]
     },
     "execution_count": 20,
     "metadata": {},
     "output_type": "execute_result"
    }
   ],
   "source": [
    "def fonks(*deger):\n",
    "    liste=[]\n",
    "    for param in deger:\n",
    "        liste.append(param)\n",
    "        \n",
    "    return liste\n",
    "fonks(10,60,'ali') "
   ]
  },
  {
   "cell_type": "code",
   "execution_count": 53,
   "id": "b788e095",
   "metadata": {},
   "outputs": [
    {
     "name": "stdout",
     "output_type": "stream",
     "text": [
      "ilk sayi:2\n",
      "ikici sayi:15\n",
      "2\n",
      "3\n",
      "5\n",
      "7\n",
      "11\n",
      "13\n"
     ]
    }
   ],
   "source": [
    "def asal() :\n",
    "    a =int (input('ilk sayi:'))\n",
    "    b =int (input('ikici sayi:'))\n",
    "    \n",
    "    for i in range(a,b):\n",
    "        sayac=0\n",
    "        for j in range(1,i+1):\n",
    "            \n",
    "            if i%j==0:\n",
    "                sayac+=1\n",
    "        if sayac==2 :\n",
    "            print(i)\n",
    "\n",
    "asal()"
   ]
  },
  {
   "cell_type": "code",
   "execution_count": 62,
   "id": "d110c55a",
   "metadata": {},
   "outputs": [
    {
     "data": {
      "text/plain": [
       "[1, 2, 4, 8]"
      ]
     },
     "execution_count": 62,
     "metadata": {},
     "output_type": "execute_result"
    }
   ],
   "source": [
    "def tambolen(sayi):\n",
    "    lista=[]\n",
    "    for i in range(1,sayi):\n",
    "        if sayi%i==0:\n",
    "            lista.append(i)\n",
    "    \n",
    "    return lista        \n",
    "    \n",
    "tambolen(16)    \n",
    "    \n",
    "    \n",
    "    \n",
    "    \n",
    "    "
   ]
  },
  {
   "cell_type": "markdown",
   "id": "9a52e779",
   "metadata": {},
   "source": [
    "<!-- map ve filter metodu -->"
   ]
  },
  {
   "cell_type": "code",
   "execution_count": 73,
   "id": "b6fd892b",
   "metadata": {},
   "outputs": [
    {
     "name": "stdout",
     "output_type": "stream",
     "text": [
      "1\n",
      "36\n",
      "9\n",
      "[1, 36, 9]\n"
     ]
    }
   ],
   "source": [
    "def karealma(num): return num**2\n",
    "# map komutu kolaylık sağlıyor\n",
    "#numbers içindeki elemanları tek tek karealma fonksiyonuna gönderir \n",
    "# sonra return edilen sayıları list metodu ile resulun içine attık\n",
    "numbers=[1,6,3]\n",
    "result = list(map (karealma,numbers))\n",
    "\n",
    "for item in map (karealma,numbers):\n",
    "    print (item)\n",
    "print(result)"
   ]
  },
  {
   "cell_type": "code",
   "execution_count": 78,
   "id": "58bc68b9",
   "metadata": {},
   "outputs": [
    {
     "name": "stdout",
     "output_type": "stream",
     "text": [
      "1\n",
      "36\n",
      "9\n",
      "[1, 36, 9]\n",
      "25\n"
     ]
    }
   ],
   "source": [
    "numbers=[1,6,3]\n",
    "# lamda komutu isimsiz veya geçici foksiyon yapmaya yarar \n",
    "result = list(map (lambda num: num**2,numbers))\n",
    "\n",
    "for item in map (karealma,numbers):\n",
    "    print (item)\n",
    "print(result)\n",
    "\n",
    "\n",
    "\n",
    "# bu şekilde daha anlaşılır\n",
    "kareal= lambda num: num**2\n",
    "\n",
    "result=kareal(5)\n",
    "\n",
    "print (result)"
   ]
  },
  {
   "cell_type": "code",
   "execution_count": 88,
   "id": "482879c7",
   "metadata": {},
   "outputs": [
    {
     "name": "stdout",
     "output_type": "stream",
     "text": [
      "[6]\n"
     ]
    }
   ],
   "source": [
    "numbers=[1,6,3]\n",
    "def filtrele(num): return num%2==0\n",
    "\n",
    "\n",
    "result =list(filter (filtrele,numbers))\n",
    "\n",
    "print(result)"
   ]
  },
  {
   "cell_type": "markdown",
   "id": "e6223534",
   "metadata": {},
   "source": [
    "<!-- global ve lokal tanımlama -->"
   ]
  },
  {
   "cell_type": "code",
   "execution_count": 89,
   "id": "2ecc6d53",
   "metadata": {},
   "outputs": [
    {
     "name": "stdout",
     "output_type": "stream",
     "text": [
      "global\n"
     ]
    }
   ],
   "source": [
    "x='global'\n",
    "def fonks():   # fonksiyon içindeki değişiklik global olanı etkilemez\n",
    "    x='lokal x'\n",
    "fonks()\n",
    "print(x)"
   ]
  },
  {
   "cell_type": "code",
   "execution_count": 103,
   "id": "2acd9164",
   "metadata": {},
   "outputs": [
    {
     "name": "stdout",
     "output_type": "stream",
     "text": [
      "muhammet\n"
     ]
    }
   ],
   "source": [
    "name ='ali'\n",
    "\n",
    "def changeName(new_name):\n",
    "    global name\n",
    "    name= new_name\n",
    "    print(name)\n",
    "    \n",
    "    \n",
    "changeName('muhammet')    \n",
    "print(name)    \n",
    "    "
   ]
  },
  {
   "cell_type": "code",
   "execution_count": 94,
   "id": "30a55df2",
   "metadata": {},
   "outputs": [
    {
     "name": "stdout",
     "output_type": "stream",
     "text": [
      "hello ali\n",
      "global string\n"
     ]
    }
   ],
   "source": [
    "name='global string'\n",
    "\n",
    "def greeting():\n",
    "    name ='ali'\n",
    "    def hello():\n",
    "        print('hello ' +name)\n",
    "    hello()\n",
    "greeting()\n",
    "print(name)"
   ]
  },
  {
   "cell_type": "code",
   "execution_count": 101,
   "id": "316a08d9",
   "metadata": {},
   "outputs": [
    {
     "name": "stdout",
     "output_type": "stream",
     "text": [
      "x -> 50\n",
      "changed x to 100\n",
      "100\n"
     ]
    }
   ],
   "source": [
    "x=50\n",
    "def test ():\n",
    "    global x # burda global olarak çağırdığımız için \n",
    "    # fonksiyonda yaptıgımız değişiklikler global olarak yansıdı\n",
    "    print(f'x -> {x}')\n",
    "    \n",
    "    x=100\n",
    "    print(f'changed x to {x}')\n",
    "test()\n",
    "print(x)"
   ]
  },
  {
   "cell_type": "markdown",
   "id": "9693020f",
   "metadata": {},
   "source": [
    "<!-- bankamatik uygulamasi -->"
   ]
  },
  {
   "cell_type": "code",
   "execution_count": 137,
   "id": "ebdae6e3",
   "metadata": {},
   "outputs": [
    {
     "name": "stdout",
     "output_type": "stream",
     "text": [
      "merhaba ali\n",
      "ek hesap kullanılsın mı (e/h)e\n",
      "paranızı alabilrisiniz\n",
      "35465406 nolu hesabınızda 0 TL bulunmaktadır ek hesap limitiniz ise 2000\n",
      "****************\n",
      "merhaba ali\n",
      "ek hesap kullanılsın mı (e/h)e\n",
      "paranızı alabilrisiniz\n",
      "35465406 nolu hesabınızda 0 TL bulunmaktadır ek hesap limitiniz ise 0\n"
     ]
    }
   ],
   "source": [
    "hesapA={\n",
    "    'ad':'ali',\n",
    "    'hesapNo':'35465406',\n",
    "    'bakiye': 3000,\n",
    "    'ekhesap':4000\n",
    "}\n",
    "hesapB={\n",
    "    'ad':'iclal',\n",
    "    'hesapNo':'35406',\n",
    "    'bakiye': 2000,\n",
    "    'ekhesap':1000\n",
    "}\n",
    "\n",
    "\n",
    "def paracek(hesap,miktar):\n",
    "    print(f\"merhaba {hesap['ad']}\")\n",
    "    if hesap['bakiye']>=miktar:\n",
    "        hesap['bakiye']-=miktar\n",
    "        print ('paranızı alabilrisiniz')\n",
    "    else:\n",
    "        toplam =hesap['bakiye']+hesap['ekhesap']\n",
    "    \n",
    "        if (toplam >= miktar):\n",
    "            ekhesapkullanimi=input(\"ek hesap kullanılsın mı (e/h)\")\n",
    "            if ekhesapkullanimi=='e':\n",
    "               \n",
    "                \n",
    "                kullanlıacakmiktar=miktar-hesap['bakiye']\n",
    "                hesap['bakiye']= 0\n",
    "                hesap['ekhesap']-=kullanlıacakmiktar\n",
    "                print ('paranızı alabilrisiniz')\n",
    "            \n",
    "            else :\n",
    "                print('para alma işlemi reddedildi')\n",
    "        else:s\n",
    "            print('bakiye yetersiz')\n",
    "    \n",
    "def bakiyeSorgula(hesap):\n",
    "    print(f\"{hesap['hesapNo']} nolu hesabınızda {hesap['bakiye']} TL bulunmaktadır ek hesap limitiniz ise {hesap['ekhesap']}\")\n",
    "    \n",
    "    \n",
    "    \n",
    "paracek(hesapA,5000)\n",
    "bakiyeSorgula(hesapA)\n",
    "print('****************')\n",
    "\n",
    "paracek(hesapA,2000)\n",
    "bakiyeSorgula(hesapA)"
   ]
  },
  {
   "cell_type": "code",
   "execution_count": null,
   "id": "b14bc7dd",
   "metadata": {},
   "outputs": [],
   "source": []
  },
  {
   "cell_type": "code",
   "execution_count": null,
   "id": "f610fb3d",
   "metadata": {},
   "outputs": [],
   "source": []
  }
 ],
 "metadata": {
  "kernelspec": {
   "display_name": "Python 3 (ipykernel)",
   "language": "python",
   "name": "python3"
  },
  "language_info": {
   "codemirror_mode": {
    "name": "ipython",
    "version": 3
   },
   "file_extension": ".py",
   "mimetype": "text/x-python",
   "name": "python",
   "nbconvert_exporter": "python",
   "pygments_lexer": "ipython3",
   "version": "3.9.7"
  }
 },
 "nbformat": 4,
 "nbformat_minor": 5
}
