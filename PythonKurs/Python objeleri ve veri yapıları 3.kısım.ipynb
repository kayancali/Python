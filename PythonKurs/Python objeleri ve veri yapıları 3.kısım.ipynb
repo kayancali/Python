{
 "cells": [
  {
   "cell_type": "markdown",
   "id": "340ef73f",
   "metadata": {},
   "source": [
    "# Python notları"
   ]
  },
  {
   "cell_type": "markdown",
   "id": "7258ae6f",
   "metadata": {},
   "source": [
    "<!-- pythonda ilk uygulama -->"
   ]
  },
  {
   "cell_type": "code",
   "execution_count": null,
   "id": "fb962f91",
   "metadata": {},
   "outputs": [],
   "source": [
    "print(\"merhaba\"); #ekrana merhaba yazar                                                                                                                                                                                                                                                                                                                                                                                                                                                                                                                                                                                                                                                                                                                                                                                                                                                                                   "
   ]
  },
  {
   "cell_type": "markdown",
   "id": "e593ce92",
   "metadata": {},
   "source": [
    "<!-- Sayı veri tipleri -->"
   ]
  },
  {
   "cell_type": "code",
   "execution_count": 9,
   "id": "769b71b2",
   "metadata": {},
   "outputs": [],
   "source": [
    "\"intager\" veri tipleri tam sayıları ifade eder\n",
    "\"float \" veri tipleri ondalıklı sayıları ifade eder\n",
    "\n",
    "print (2+2) # 2+2 nin cevabını yazdırır \n",
    "\n",
    "\"type\" veri tipini gösterir  \n",
    "\n",
    "type (2) # çıktısı int olacaktır\n",
    "\n",
    "\n"
   ]
  },
  {
   "cell_type": "markdown",
   "id": "234d515f",
   "metadata": {},
   "source": [
    "<!-- matematiksel oparatörler -->"
   ]
  },
  {
   "cell_type": "code",
   "execution_count": null,
   "id": "ae712d08",
   "metadata": {},
   "outputs": [],
   "source": [
    "toplama >> +\n",
    "çıkarma >> -\n",
    "çarpma  >> *\n",
    "bölme   >> /\n",
    "üs alma >> **\n",
    "mod alma>> % ( mod alma bölüm sonucu kalan değeri verir)\n",
    "çıkan sonucun tam sayı olması için >> // işareti kullanılır\n"
   ]
  },
  {
   "cell_type": "markdown",
   "id": "dc5996ae",
   "metadata": {},
   "source": [
    "<!-- değişken tanımlama  -->"
   ]
  },
  {
   "cell_type": "code",
   "execution_count": null,
   "id": "9bab43bd",
   "metadata": {},
   "outputs": [],
   "source": [
    "maasAli =5000 # burda değerleri geçici olarak bir değişkene atadık\n",
    "maasAhmet=4000 \n",
    "vergi=0.27\n",
    "print ( maasAli-(maasAli*vergi)) # burda da değikenleri işleme soktuk ve yazdırdık\n",
    "print ( maasAhmet-(maasAhmet*vergi))  \n",
    "\n",
    "\"değişken tanımlama kuralları \"\n",
    "# rakam ile başlayamaz\n",
    "# büyük küçük har duyarlılığı\n",
    "# türkçe karakter kullanmayalım\n",
    "\n",
    "\n",
    "\n",
    "# değişken içersine string ifade koyarsak \n",
    "a =\" 10 \"\n",
    "b =\" 20 \"\n",
    " print (a + b) # => 1020"
   ]
  },
  {
   "cell_type": "markdown",
   "id": "2059ea1d",
   "metadata": {},
   "source": [
    "<!-- değişken tanımlama uygulaması -->"
   ]
  },
  {
   "cell_type": "code",
   "execution_count": 3,
   "id": "6b538150",
   "metadata": {},
   "outputs": [
    {
     "name": "stdout",
     "output_type": "stream",
     "text": [
      "20\n"
     ]
    }
   ],
   "source": [
    "#1. uygulama musteri bilgilerini karışık veri tipleri ile tanımladık\n",
    "musteriAdi =\"ali\"   \n",
    "musteriSoyad=\" kayanc\"\n",
    "musteriAdSoyad= musteriAdi + \" \" + musteriSoyad\n",
    "musteriCinsiyet = True # erkek\n",
    "musteriTC= \"1235564\"\n",
    "musteriDogumYili= 2002\n",
    "musteriDresi=\" ankara eryaman\"\n",
    "musteriYasi=2022-musteriDogumYili\n",
    "\n",
    "print( musteriYasi) "
   ]
  },
  {
   "cell_type": "code",
   "execution_count": 4,
   "id": "1c45f3e7",
   "metadata": {
    "scrolled": true
   },
   "outputs": [
    {
     "name": "stdout",
     "output_type": "stream",
     "text": [
      "1567.45\n"
     ]
    }
   ],
   "source": [
    "\n",
    "# 2. uygulama olan sipariş bilgilerini değişkenlere atadıkorder1=110   \n",
    "order2=1100.5\n",
    "order3=356.95\n",
    "total=order1+order2+order3\n",
    "print(total)"
   ]
  },
  {
   "cell_type": "markdown",
   "id": "b5792d9f",
   "metadata": {},
   "source": [
    "<!-- veri tipleri dönüşümleri -->"
   ]
  },
  {
   "cell_type": "code",
   "execution_count": 5,
   "id": "d257ebcd",
   "metadata": {},
   "outputs": [
    {
     "name": "stdout",
     "output_type": "stream",
     "text": [
      " 1. sayı:2\n",
      " 2. sayı:3\n",
      "23\n"
     ]
    }
   ],
   "source": [
    "x = input (\" 1. sayı:\")\n",
    "y= input ( \" 2. sayı:\")\n",
    "toplam = x + y\n",
    "print ( toplam)  \n",
    " # burada veri tiplerini tanımlamadığımız için string bir şekilde topladı"
   ]
  },
  {
   "cell_type": "code",
   "execution_count": 7,
   "id": "e7b56a37",
   "metadata": {},
   "outputs": [
    {
     "name": "stdout",
     "output_type": "stream",
     "text": [
      " 1. sayı:2\n",
      " 2. sayı:3\n",
      "5\n"
     ]
    }
   ],
   "source": [
    "x = input (\" 1. sayı:\")\n",
    "y= input ( \" 2. sayı:\")\n",
    "toplam =int (x) + int (y)   # tip dönüşümü uyguladık\n",
    "print ( toplam) "
   ]
  },
  {
   "cell_type": "code",
   "execution_count": 15,
   "id": "127d5187",
   "metadata": {},
   "outputs": [
    {
     "name": "stdout",
     "output_type": "stream",
     "text": [
      "<class 'int'>\n",
      "<class 'float'>\n",
      "7.5\n",
      "<class 'float'>\n",
      "1\n",
      "<class 'int'>\n"
     ]
    }
   ],
   "source": [
    "x = 5    # int \n",
    "y= 2.5    # float \n",
    "name = \" çınar \" # string \n",
    "isonline = True # bool\n",
    "\n",
    "print ( type (x))\n",
    "x = float (x) # tip dönüşümü yaptık\n",
    "print ( type (x))  # x in tipini yazdırdık\n",
    "\n",
    "result=x + y\n",
    "\n",
    "print (result)\n",
    "print(type(result)) # result un değerine ve tipine  baktık\n",
    "isonline=int (isonline) # isonline ı int tipine çevirdik \n",
    "print(isonline)  # true değeri 1 e eşitmiş\n",
    "print(type(isonline))"
   ]
  },
  {
   "cell_type": "markdown",
   "id": "96dd5d28",
   "metadata": {},
   "source": [
    "# <!-- tür dönüşümleri -->"
   ]
  },
  {
   "cell_type": "code",
   "execution_count": 16,
   "id": "1baefde6",
   "metadata": {},
   "outputs": [
    {
     "name": "stdout",
     "output_type": "stream",
     "text": [
      " yarıçapı:2\n",
      "alan 12.56\n",
      "çevre 12.56\n"
     ]
    }
   ],
   "source": [
    " # yarı çapı verilen bir daiirenin alan ve çevresini hesaplama örneği\n",
    "   \n",
    "\n",
    "pi= 3.14\n",
    "\n",
    "r= float (input  (\" yarıçapı:\"))\n",
    "    \n",
    "alan=pi * (r **2)\n",
    "cevre=2*pi*r\n",
    "    \n",
    "print (\"alan\",alan)\n",
    "print (\"çevre\",cevre)\n",
    "    "
   ]
  },
  {
   "cell_type": "markdown",
   "id": "38c166e7",
   "metadata": {},
   "source": [
    "# <!--  karakter dizileri :string  -->"
   ]
  },
  {
   "cell_type": "code",
   "execution_count": 28,
   "id": "f94e1a2a",
   "metadata": {},
   "outputs": [
    {
     "name": "stdout",
     "output_type": "stream",
     "text": [
      "my name is  ali kayanc and \n",
      "I am 20 yeras old.\n",
      "m\n",
      "46\n",
      ".\n",
      "name\n",
      " aei aikyn n Ia 0yr\n"
     ]
    }
   ],
   "source": [
    "name=\" ali\"\n",
    "surname=\"kayanc\"\n",
    "age=20\n",
    "#bilgileri string şekilde toplayarak print ile yazdırdık\n",
    "print (\"my name is\"+\" \"+name+\" \"+surname + \" and \\nI am \"+ str (age) + \" yeras old.\" )\n",
    "\n",
    "greating =\"my name is\"+\" \"+name+\" \"+surname + \" and \\nI am \"+ str (age) + \" yeras old.\" \n",
    "\n",
    "print (greating[0]) # ilk karakteri yazdırdık\n",
    "\n",
    "print (len (greating)) # len komutu ifadenin karakter sayısını verir\n",
    "\n",
    "print (greating[45]) # son karakteri verir 0 dan başladığı için sondan bir eksiği istedik\n",
    "\n",
    "print (greating [3:7])# 3 den başlayıp 7. karaktere kadar yaz \n",
    "\n",
    "print (greating [2:40:2]) # 2 den başlar 40 a kadar 2 karakter atlayarak yazar"
   ]
  },
  {
   "cell_type": "markdown",
   "id": "4bba843e",
   "metadata": {},
   "source": [
    "# <!--  string formatla -->"
   ]
  },
  {
   "cell_type": "code",
   "execution_count": 41,
   "id": "064e9a8a",
   "metadata": {},
   "outputs": [
    {
     "name": "stdout",
     "output_type": "stream",
     "text": [
      "my name is ali kayanc\n",
      "my name is kayanc ali\n",
      "my name is kayanc ali\n",
      "my name is ali kayanc and I m 20 yeras old\n",
      "0.2857142857142857\n",
      "the result is 0.286\n",
      "my name is ali kayanc and I m 20 yeras old\n"
     ]
    }
   ],
   "source": [
    "name=\"ali\"\n",
    "surname=\"kayanc\"\n",
    "age =\"20\"\n",
    "# süslü parantez ve format komutunu kullanarak kolaylık sağlayabiliriz\n",
    "print (\"my name is {} {}\".format (name,surname))\n",
    " \n",
    "# index numaralarını kullanarak yerlerini değiştirebiliriz\n",
    "print (\"my name is {1} {0}\".format (name,surname))\n",
    "\n",
    "# yada değişkenlere isim vererek yer değiştirme işlemini yapabiliriz\n",
    "print (\"my name is {s} {n}\".format (n=name,s=surname))\n",
    "\n",
    "# bu şekilde de kullanabiliriz\n",
    "print (\"my name is {} {} and I m {} yeras old\".format (name,surname,age))\n",
    "\n",
    "\n",
    "# burada \"format\" komutu ve \" : \" komutunu kullandık süslü parantez\n",
    "# içinde kullandığımız \"1\" virgülden önce kaç satır boşluk bırakmamız gerektiğini\n",
    "# 2 ise virgülden sonra \"3\" basamak yazma işlemine yarıyor\n",
    "result = 200/700\n",
    "print ( result)\n",
    "print (\"the result is {r:1.3}\" .format (r=result))\n",
    "# burda tırnaktan önce kullandığımız \"f\" komutu parantez içlerine değişken girebilmemizi sağlıyor\n",
    "print (f\"my name is {name} {surname} and I m {age} yeras old\")\n"
   ]
  },
  {
   "cell_type": "code",
   "execution_count": 65,
   "id": "61e5d3b7",
   "metadata": {},
   "outputs": [
    {
     "name": "stdout",
     "output_type": "stream",
     "text": [
      "43\n",
      "32\n",
      "www\n",
      "com\n",
      "python kursu:ba hon programlama\n",
      "amalmargorp nohtyp anos natşab:usruk nohtyp\n",
      "benim adım ali kayanc yaşım 20 ve mesleğim mühendis\n",
      "hello world\n",
      "hello World\n",
      "abcabcabc\n"
     ]
    }
   ],
   "source": [
    "#  örnekler \n",
    "\n",
    "website=\"http://www.lastikparkotoplus.com\"\n",
    "course=\"python kursu:baştan sona python programlama\"\n",
    "\n",
    "print(len(course)) #courssenin kaç karakter olduğunu yazdırdık\n",
    "print(len(website))# websitenin //\n",
    "print (website[7:10])#webistenin 7 den 10 kadar olan karakterlerini yazdırdık\n",
    "print (website[29:32])# //      29 dan 32  //\n",
    "print (course[:15],course[-15:])# coursenin ilk ve son 15 karakterini yazdırdık\n",
    "print (course[::-1])#coursenin karakterlerini terste yazdırdık\n",
    "name,surname,age,job=\"ali\",\"kayanc\",20,\"mühendis\"# değişken tanımlladık\n",
    "print (f\"benim adım {name} {surname} yaşım {age} ve mesleğim {job}\")# f komutunu kullandık\n",
    "s =\"hello world\"#\n",
    "print (s)#\n",
    "s= s[0:6] +\"W\"+s[-4:]#hello world un w sunu değiştirdik\n",
    "print (s)#\n",
    "result=\"abc\"*3# abc yi 3 kere yanyana yazdırdık\n",
    "print(result)#"
   ]
  },
  {
   "cell_type": "markdown",
   "id": "70c9344c",
   "metadata": {},
   "source": [
    "# <!--  string metodları -->"
   ]
  },
  {
   "cell_type": "code",
   "execution_count": 96,
   "id": "2899cd3f",
   "metadata": {},
   "outputs": [
    {
     "name": "stdout",
     "output_type": "stream",
     "text": [
      "   hello There. my name is ali\n",
      "   HELLO THERE. MY NAME IS ALI\n",
      "   hello there. my name is ali\n",
      "   Hello There. My Name Is Ali\n",
      "Hello There. My Name Is Ali\n",
      "Hello there. my name is ali\n",
      "['Hello', 'there.', 'my', 'name', 'is', 'ali']\n",
      "my\n",
      "Hello there. my name is ali\n",
      "24\n",
      "Hello there. my name is mami\n",
      "***********Hello there. my name is mami***********\n",
      "35\n",
      "False\n"
     ]
    }
   ],
   "source": [
    "message =\"   hello There. my name is ali\"\n",
    "print(message)\n",
    "message =message .upper() # bütün karakterleri büyütür\n",
    "print(message)\n",
    "message =message .lower() # bütün karakterleri küçültür\n",
    "print(message)\n",
    "message =message .title()# her kelimenin baş harfini büyük yapar\n",
    "print(message)\n",
    "# strip içine yazdığımız karakterleride silme özlelliğine sahiptir\n",
    "message =message .strip()# mesjın başındaki ve sonundaki boşlukları siler\n",
    "print(message)\n",
    "message =message .capitalize()# sadece ilk karakteri büyük yapar\n",
    "print(message)\n",
    "# split içine yazdığımız karakteri görür ve parçalara ordan ayırır\n",
    "#hiç birşey yazmazsak boşluklardan ayırıp dizi halşne getirir\n",
    "message=message.split()# her bir kelimeyi dizinin bir elemanı yapar\n",
    "print (message)\n",
    "print (message[2])\n",
    "message =\" \".join(message)# splitin tersi yani birleştirir\n",
    "print (message)\n",
    "index = message.find(\"ali\")# kelimenin ilk harfinin konumunu verir\n",
    "print (index) \n",
    "# replaceyi örnek kullanımm makalede türkçe karakter yerine inglizce karakter koyar\n",
    "message =message.replace(\"ç\",\"c\")# örnek kullanım\n",
    "               \n",
    "message =message.replace(\"ali\",\"mami\")# cümlede ali yerine mami yazar\n",
    "print (message)\n",
    "message =message.center(50,\"*\")# mesajı 50 karakterlik bir alan içine ortalar\n",
    "print (message)\n",
    "hop =message.index(\"mami\") # mesaj içinde mami varmı kontrol eder\n",
    "print (hop)\n",
    "result=message.isalpha() # mesaj alfabetik mi kontrol eder\n",
    "print(result)"
   ]
  },
  {
   "cell_type": "markdown",
   "id": "8f268d2c",
   "metadata": {},
   "source": [
    " # <!-- pythonda listeler -->"
   ]
  },
  {
   "cell_type": "code",
   "execution_count": 110,
   "id": "b2dd4001",
   "metadata": {},
   "outputs": [
    {
     "name": "stdout",
     "output_type": "stream",
     "text": [
      "2\n",
      "3\n",
      "[1, 2, 3, 'one ', 'two', 'there']\n",
      "kayanc\n"
     ]
    }
   ],
   "source": [
    "# liste tanımladık\n",
    "mylist=[1,2,3]\n",
    "\n",
    "mylist2= [\"one \",\"two\",\"there\"]\n",
    "print (mylist[1])\n",
    "print (len (mylist))\n",
    "numbers=  mylist+ mylist2\n",
    "print (numbers)\n",
    "userA=[\"ali\",20]\n",
    "userB=[\"kayanc\",21]\n",
    "users=[userA,userB]\n",
    "print (users[1][0])# user listesinin 1. elemanının yani userB elemanq onunda  0. elamanına ulaştık"
   ]
  },
  {
   "cell_type": "code",
   "execution_count": 176,
   "id": "8e914795",
   "metadata": {},
   "outputs": [
    {
     "name": "stdout",
     "output_type": "stream",
     "text": [
      "4\n",
      "bmw\n",
      "mazda\n",
      "toyota\n",
      "True\n",
      "opel\n",
      "['bmw', 'mercedes', 'opel']\n",
      "['bmw', 'mercedes', 'totoya', 'renault']\n",
      "['bmw', 'mercedes', 'totoya', 'renault', 'audi', 'nissan']\n",
      "['bmw', 'mercedes', 'totoya', 'renault']\n",
      "['bmw', 'mercedes', 'totoya']\n",
      "['totoya', 'mercedes', 'bmw']\n",
      "2\n",
      "['ali', 'kayanc', 2002, [10, 20, 30]]\n",
      "20\n",
      "ali kayanc adlı 20 yaşındaki öğrencinin not ortalaması20.0\n"
     ]
    }
   ],
   "source": [
    "#listelerle örnekler\n",
    "\n",
    "cars=['bmw','mercedes','opel','mazda']\n",
    "print (len (cars))\n",
    "print(cars[0])\n",
    "print(cars[3])\n",
    "cars[-1]=\"toyota\"\n",
    "print(cars[3])\n",
    "print ('mercedes'in cars)\n",
    "print(cars[-2])\n",
    "print(cars[:3])\n",
    "cars[-2:]='totoya','renault'\n",
    "print(cars)\n",
    "print(cars+['audi','nissan'])\n",
    "print(cars)\n",
    "del cars[-1]\n",
    "print(cars)\n",
    "print (cars[::-1])\n",
    "print(cars.index('totoya'))# index komutu istediğimiz ifadenin konumunu verir\n",
    "\n",
    "studentA=['ali','kayanc',2002,[10,20,30]]\n",
    "print (studentA)\n",
    "print(studentA[3][1])\n",
    "print (f\"{studentA[0]} {studentA[1]} adlı {2022-studentA[2]} yaşındaki öğrencinin not ortalaması{(studentA[3][0]+studentA[3][1] +studentA[3][2])/3 }\")"
   ]
  },
  {
   "cell_type": "markdown",
   "id": "a60dfa70",
   "metadata": {},
   "source": [
    "# <!-- liste metodları -->"
   ]
  },
  {
   "cell_type": "code",
   "execution_count": 178,
   "id": "1e67a9f3",
   "metadata": {},
   "outputs": [
    {
     "name": "stdout",
     "output_type": "stream",
     "text": [
      "1\n",
      "9\n",
      "[9, 8, 7]\n",
      "[1, 2, 6, 9, 40, 7]\n",
      "[1, 2, 6, 9, 40, 7, '49']\n",
      "[1, 2, 6, 78, 9, 40, 7, '49']\n",
      "[1, 2, 6, 9, 40, 7, '49']\n",
      "[1, 2, 6, 9, 40, '49']\n",
      "['t', 'h', 'g', 'f', 'd', 'a']\n",
      "1\n",
      "[]\n",
      "marka:monster\n",
      "['monster']\n"
     ]
    }
   ],
   "source": [
    "numbers=[1,2,6,9,8,7]\n",
    "letters=['a','d','f','g','h','t']\n",
    "\n",
    "val=min(numbers) # değer olarak min değeri alır\n",
    "print (val)\n",
    "val=max(numbers)# değer olarak max değeri alır\n",
    "print (val)\n",
    "\n",
    "val =numbers [3:6]\n",
    "print (val)\n",
    "numbers[4]=40\n",
    "print (numbers)\n",
    "numbers.append(\"49\") # listeye elaman ekler\n",
    "print (numbers)\n",
    "numbers.insert(3,78)# istediğimiz konuma eleman ekler\n",
    "print (numbers)\n",
    "numbers.pop(3)# eleman silmek için kullanılır\n",
    "print (numbers)\n",
    "numbers.remove(7)\n",
    "print(numbers)\n",
    "letters.sort() #sayılarda büyükten küçüğe harlerde alfabetik sıraya göre sıralar\n",
    "letters.reverse()# tersten yazdırır\n",
    "print(letters)\n",
    "print(numbers.count(2))# numbers içinde 2 rakamının kaç tane olduğunu yazar\n",
    "numbers.clear()# bütün elemanları siler\n",
    "print (numbers)\n",
    "\n",
    "markalar=[]\n",
    "marka =input (\"marka:\")\n",
    "markalar.append(marka)\n",
    "print(markalar)"
   ]
  },
  {
   "cell_type": "markdown",
   "id": "6c774281",
   "metadata": {},
   "source": [
    "# <!-- tuple -->"
   ]
  },
  {
   "cell_type": "code",
   "execution_count": 173,
   "id": "96da3415",
   "metadata": {},
   "outputs": [
    {
     "name": "stdout",
     "output_type": "stream",
     "text": [
      "<class 'tuple'>\n",
      "3\n",
      "3\n"
     ]
    }
   ],
   "source": [
    "list=[1,2,3]\n",
    "tuple =(1,'iki',3)\n",
    "print (type(tuple))\n",
    "\n",
    "print(list[2])\n",
    "print (tuple[2])\n",
    "list[0]='ahmet'\n",
    " # tuple[0]='ahmet' bunu yapamayız tuple buna izin vermiyor\n"
   ]
  },
  {
   "cell_type": "markdown",
   "id": "459ab277",
   "metadata": {},
   "source": [
    "# <!-- Dictionary -->"
   ]
  },
  {
   "cell_type": "code",
   "execution_count": 210,
   "id": "4367afe0",
   "metadata": {},
   "outputs": [
    {
     "name": "stdout",
     "output_type": "stream",
     "text": [
      "34\n",
      "41\n",
      "{'kocaeli': 41, 'istanbul': 34, 'ankara': 6}\n",
      "54654\n",
      "çorum\n"
     ]
    }
   ],
   "source": [
    "# key -value \n",
    "# süslü parantez kullanarak yapılıyor\n",
    "sehirler=['kocaeli','istanbul']\n",
    "plakalar= [41,34]\n",
    "print (plakalar [sehirler.index('istanbul')])\n",
    "\n",
    "# print (plakalar ['kocaeli'])=> 41 i yapmak istersek\n",
    "\n",
    "plakalar={'kocaeli':41,'istanbul':34}\n",
    "print (plakalar ['kocaeli'])\n",
    "plakalar ['ankara']=6 # içersinde ankara bilgisi yoktu ama ekledik\n",
    "print (plakalar)\n",
    "\n",
    "users={ 'ali':{\n",
    "        'adress':'ankara',   # class yapısı gibi bir yapı yaptık ve bilgilere ulaştık\n",
    "        'age':20 ,\n",
    "        'phone':'54654'\n",
    "},\n",
    "       'kayanc':{\n",
    "        'adress':'çorum',\n",
    "        'age':19,\n",
    "        'phone':'54654' }\n",
    "      }\n",
    "print (users ['ali']['phone']) \n",
    "print (users ['kayanc']['adress']) \n"
   ]
  },
  {
   "cell_type": "code",
   "execution_count": 214,
   "id": "4625a973",
   "metadata": {},
   "outputs": [
    {
     "name": "stdout",
     "output_type": "stream",
     "text": [
      "numara:100\n",
      "ad:100\n",
      "soyad100\n",
      "yaşı100\n",
      "{'100': {'adi': '100', 'soyadi': '100', 'yasi': '100'}}\n",
      "istdeiğiginiz öğrenci numarası100\n",
      "{'adi': '100', 'soyadi': '100', 'yasi': '100'}\n"
     ]
    }
   ],
   "source": [
    "# örnek\n",
    "\n",
    "number =input (\"numara:\")\n",
    "ad = input ( \"ad:\")\n",
    "soyad=input ( \"soyad\")\n",
    "age =input ( \"yaşı\")\n",
    "\n",
    "ogrenciler ={}\n",
    "ogrenciler [number]={\n",
    "    \n",
    "    'adi': ad,\n",
    "    'soyadi':soyad,\n",
    "    'yasi':age\n",
    "}\n",
    "print (ogrenciler)\n",
    "\n",
    "nmbr=input(\"istdeiğiginiz öğrenci numarası\" )\n",
    "\n",
    "ogrenci =ogrenciler [nmbr]\n",
    "print (ogrenci)"
   ]
  },
  {
   "cell_type": "markdown",
   "id": "26a1b021",
   "metadata": {},
   "source": [
    "# <!-- sets listesi -->"
   ]
  },
  {
   "cell_type": "code",
   "execution_count": 11,
   "id": "5e65d059",
   "metadata": {},
   "outputs": [
    {
     "name": "stdout",
     "output_type": "stream",
     "text": [
      "apple\n",
      "banana\n",
      "orange\n",
      "{'mango', 'apple', 'watermelon', 'banana', 'orange', 'grape'}\n",
      "{'apple', 'watermelon', 'banana', 'orange', 'grape'}\n"
     ]
    }
   ],
   "source": [
    "fruits={'orange','banana','apple'}\n",
    "\n",
    "\n",
    "# print( fruits [0]) 'indexlenemez' yani elemana ulaşamayız\n",
    "\n",
    "# elemanlara ulaşmak için for kullanırız\n",
    "for x in fruits:\n",
    "    print(x)\n",
    "fruits.add('watermelon')# eleman ekledik \n",
    "fruits.update(['mango','grape'])\n",
    "print(fruits)\n",
    "fruits.remove('mango')# eleman sildik\n",
    "print(fruits)"
   ]
  },
  {
   "cell_type": "markdown",
   "id": "09831624",
   "metadata": {},
   "source": [
    "# <!-- value & referance Types --> "
   ]
  },
  {
   "cell_type": "code",
   "execution_count": 15,
   "id": "cb27cd0b",
   "metadata": {},
   "outputs": [
    {
     "name": "stdout",
     "output_type": "stream",
     "text": [
      "25 10\n",
      "['mango', 'apple'] ['mango', 'apple']\n"
     ]
    }
   ],
   "source": [
    "# value types\n",
    "x = 5\n",
    "y=25\n",
    "x=y\n",
    "y=10\n",
    "print (x ,y)\n",
    "\n",
    "# referance types\n",
    "b =['banana','apple'] \n",
    "a = ['banana','apple'] # listelerde eşitleme yaparsak \n",
    "a=b                    # aynı adresi eşitledikleri için herhangi birinde \n",
    "                        # yaptığımız değişiklik diğerinide etkiler\n",
    "b[0]='mango'\n",
    "print (a,b)"
   ]
  },
  {
   "cell_type": "code",
   "execution_count": null,
   "id": "6157e003",
   "metadata": {},
   "outputs": [],
   "source": []
  },
  {
   "cell_type": "code",
   "execution_count": null,
   "id": "77e6ca25",
   "metadata": {},
   "outputs": [],
   "source": []
  },
  {
   "cell_type": "code",
   "execution_count": null,
   "id": "fd410d04",
   "metadata": {},
   "outputs": [],
   "source": []
  },
  {
   "cell_type": "code",
   "execution_count": null,
   "id": "e2eecd49",
   "metadata": {},
   "outputs": [],
   "source": []
  },
  {
   "cell_type": "code",
   "execution_count": null,
   "id": "6a4ec0a1",
   "metadata": {},
   "outputs": [],
   "source": []
  },
  {
   "cell_type": "code",
   "execution_count": null,
   "id": "d7ac9056",
   "metadata": {},
   "outputs": [],
   "source": []
  }
 ],
 "metadata": {
  "kernelspec": {
   "display_name": "Python 3 (ipykernel)",
   "language": "python",
   "name": "python3"
  },
  "language_info": {
   "codemirror_mode": {
    "name": "ipython",
    "version": 3
   },
   "file_extension": ".py",
   "mimetype": "text/x-python",
   "name": "python",
   "nbconvert_exporter": "python",
   "pygments_lexer": "ipython3",
   "version": "3.9.7"
  },
  "widgets": {
   "application/vnd.jupyter.widget-state+json": {
    "state": {},
    "version_major": 2,
    "version_minor": 0
   }
  }
 },
 "nbformat": 4,
 "nbformat_minor": 5
}
