{
 "cells": [
  {
   "cell_type": "markdown",
   "id": "bc298e0e",
   "metadata": {},
   "source": [
    "# <!-- atama operatörleri -->"
   ]
  },
  {
   "cell_type": "code",
   "execution_count": 7,
   "id": "77ef5b0f",
   "metadata": {},
   "outputs": [
    {
     "name": "stdout",
     "output_type": "stream",
     "text": [
      "5 10 20\n",
      "8 9 7\n",
      "9 7 7\n",
      "14\n",
      "(1, 2, 3, 4, 5)\n",
      "<class 'tuple'>\n",
      "1 2 [3, 4, 5]\n"
     ]
    }
   ],
   "source": [
    "x = 5 \n",
    "y =10\n",
    "z=20\n",
    "print (x,y,z)\n",
    "x,y,z=8,9,7\n",
    "print (x,y,z)\n",
    "\n",
    "x,y=y,z\n",
    "print (x,y,z)\n",
    "\n",
    "x=x+5 # => x +=5  ikisi aynı şey diğer matematiksel işaretlerlede kullanılır\n",
    "\n",
    "print (x)\n",
    "\n",
    "values= 1 ,2,3,4,5\n",
    "print (values)\n",
    "print (type(values)) # tuple listesi oluşturduk \n",
    "\n",
    "x,y,*z =  values  #atama yaptık\n",
    "print (x,y,z)\n",
    "\n",
    "\n"
   ]
  },
  {
   "cell_type": "markdown",
   "id": "e24a3b7a",
   "metadata": {},
   "source": [
    "<!-- uygulama  -->\n",
    "    "
   ]
  },
  {
   "cell_type": "code",
   "execution_count": 19,
   "id": "d4f0eaee",
   "metadata": {},
   "outputs": [
    {
     "name": "stdout",
     "output_type": "stream",
     "text": [
      "1 .sayi giriniz1\n",
      "2. sayi giriniz2\n",
      "-25\n",
      "2\n",
      "0\n",
      "25\n",
      "9\n",
      "729\n",
      "15\n"
     ]
    }
   ],
   "source": [
    "x,y,z = 2,5,20\n",
    "\n",
    "numbers = 1,3,5,7,9\n",
    "\n",
    "sayi1 =  int( input(\"1 .sayi giriniz\"))\n",
    "sayi2 =int ( input (\"2. sayi giriniz\"))\n",
    "sonuc=(sayi1 *sayi2)-(x+y+z)\n",
    "print (sonuc)\n",
    "result = y//x\n",
    "print (result) \n",
    "result = (x+y+z)%3\n",
    "print (result)\n",
    "result =y**x\n",
    "print (result)\n",
    "x,*y,z = numbers \n",
    "result = z**3\n",
    "print (z)\n",
    "print (result)\n",
    "result =y[0]+y[1]+y[2]\n",
    "print (result)"
   ]
  },
  {
   "cell_type": "markdown",
   "id": "64cae542",
   "metadata": {},
   "source": [
    "# <!-- karşılaştırma oparatörleri  -->"
   ]
  },
  {
   "cell_type": "code",
   "execution_count": 28,
   "id": "ecf9c584",
   "metadata": {},
   "outputs": [
    {
     "name": "stdout",
     "output_type": "stream",
     "text": [
      "True\n",
      "False\n",
      "True\n",
      "False\n",
      "False\n"
     ]
    }
   ],
   "source": [
    "a ,b,c,d= 5,5,10,4\n",
    "    \n",
    "result = (a==b) # a b ' ye eşit mi diye sorduk iki defa \"=\" kullanarak\n",
    "print (result)\n",
    "\n",
    "password =1234\n",
    "username='alibey'\n",
    "\n",
    "result = ('alibey3'==username)\n",
    "print (result)\n",
    "result = (password==1234)\n",
    "print (result)\n",
    "\n",
    "result =(a!=b) # a b ' ye eşit değilmi diye sorduk cevap hayır eşit oldu \n",
    "print (result)\n",
    "result =( a>c)\n",
    "print (result)\n",
    "\n"
   ]
  },
  {
   "cell_type": "code",
   "execution_count": 31,
   "id": "d2c674cf",
   "metadata": {},
   "outputs": [
    {
     "name": "stdout",
     "output_type": "stream",
     "text": [
      "sayi1 gir 8\n",
      "sayi2 gir 6\n",
      "a:8 > b:6  den büyük: True \n"
     ]
    }
   ],
   "source": [
    "sayi1= int (input (\"sayi1 gir \"))\n",
    "sayi2= int (input (\"sayi2 gir \"))\n",
    "\n",
    "result =( sayi1 >sayi2)\n",
    "print (f\"a:{sayi1} > b:{sayi2}  den büyük: {result} \")"
   ]
  },
  {
   "cell_type": "markdown",
   "id": "c38838ee",
   "metadata": {},
   "source": [
    "# <!-- mantıksal oparatörler -->"
   ]
  },
  {
   "cell_type": "code",
   "execution_count": 36,
   "id": "0200d43c",
   "metadata": {},
   "outputs": [
    {
     "name": "stdout",
     "output_type": "stream",
     "text": [
      "True\n",
      "True\n",
      "False\n"
     ]
    }
   ],
   "source": [
    " #and\n",
    "x= 6\n",
    "result = 5 <x < 10\n",
    "\n",
    "result = x > 5 and x < 10\n",
    "print (result )\n",
    "\n",
    "\n",
    "# or \n",
    "\n",
    "result = x > 5 or x<10\n",
    "\n",
    "print ( result)\n",
    "\n",
    "\n",
    "# not \n",
    "\n",
    "result = not (x>5)\n",
    "print (result )"
   ]
  },
  {
   "cell_type": "markdown",
   "id": "61857d9b",
   "metadata": {},
   "source": [
    "# <!-- uygulama -->"
   ]
  },
  {
   "cell_type": "code",
   "execution_count": 40,
   "id": "2d58a770",
   "metadata": {},
   "outputs": [
    {
     "name": "stdout",
     "output_type": "stream",
     "text": [
      " sayi1 gir:5\n",
      " sayi2 gir:6\n",
      "True\n"
     ]
    }
   ],
   "source": [
    "sayi1 = int(input ( \" sayi1 gir:\"))\n",
    "sayi2 = int (input ( \" sayi2 gir:\"))\n",
    "\n",
    "result = ((sayi1>0) and (sayi1<100) )\n",
    "print(result)\n",
    "sayi3=int (input (\" sayi 3 gir:\"))\n",
    "\n",
    "result "
   ]
  },
  {
   "cell_type": "code",
   "execution_count": 43,
   "id": "a1ff3ad5",
   "metadata": {},
   "outputs": [
    {
     "name": "stdout",
     "output_type": "stream",
     "text": [
      "vize1:12\n",
      " vize2:33\n",
      " final :72\n",
      "öğrencinin geçme durumu:True\n"
     ]
    }
   ],
   "source": [
    "vize1=int ( input ( \"vize1:\"))\n",
    "vize2= int (input (\" vize2:\"))\n",
    "final =int ( input ( \" final :\"))\n",
    "\n",
    "ortalama =((vize1+vize2)*0.6+(final*0.4))\n",
    "\n",
    "result1 = (ortalama>50 and final >50) or (final>70)\n",
    " \n",
    "\n",
    "print (f\"öğrencinin geçme durumu:{result1}\")\n",
    "\n",
    "\n"
   ]
  },
  {
   "cell_type": "markdown",
   "id": "3e911c85",
   "metadata": {},
   "source": [
    "# <!-- is ve in oparatörleri -->"
   ]
  },
  {
   "cell_type": "code",
   "execution_count": 51,
   "id": "fce54f42",
   "metadata": {},
   "outputs": [
    {
     "name": "stdout",
     "output_type": "stream",
     "text": [
      "True\n",
      "True\n",
      "True\n",
      "False\n",
      "True\n",
      "False\n"
     ]
    }
   ],
   "source": [
    "# is oparatörü\n",
    "\n",
    "x = y = [1 ,2,3]\n",
    "z=[1,2,3]\n",
    "\n",
    " # değer kaşılaştırması yaptık\n",
    "print (x==y)\n",
    "print (x==z)\n",
    "\n",
    "# adres karşılaştırması yaptık\n",
    "print (x is y)\n",
    "print (x is z)\n",
    "\n",
    " #in oparatörü\n",
    "\n",
    "x =['banana','apple']\n",
    "    \n",
    "print ('apple' in x) # apple ifadesi x dizisi içinde mi diye sorduk\n",
    "\n",
    "print ('apple' not in x)# apple ifadesi x içinde yok mu diye sorduk"
   ]
  },
  {
   "cell_type": "code",
   "execution_count": null,
   "id": "fb004b3e",
   "metadata": {},
   "outputs": [],
   "source": []
  },
  {
   "cell_type": "code",
   "execution_count": null,
   "id": "5714d5db",
   "metadata": {},
   "outputs": [],
   "source": []
  },
  {
   "cell_type": "code",
   "execution_count": null,
   "id": "f52cec3e",
   "metadata": {},
   "outputs": [],
   "source": []
  },
  {
   "cell_type": "code",
   "execution_count": null,
   "id": "48808b7b",
   "metadata": {},
   "outputs": [],
   "source": []
  },
  {
   "cell_type": "code",
   "execution_count": null,
   "id": "b208f95b",
   "metadata": {},
   "outputs": [],
   "source": []
  },
  {
   "cell_type": "code",
   "execution_count": null,
   "id": "6264aa12",
   "metadata": {},
   "outputs": [],
   "source": []
  },
  {
   "cell_type": "code",
   "execution_count": null,
   "id": "c7592587",
   "metadata": {},
   "outputs": [],
   "source": []
  },
  {
   "cell_type": "code",
   "execution_count": null,
   "id": "b204b802",
   "metadata": {},
   "outputs": [],
   "source": []
  },
  {
   "cell_type": "code",
   "execution_count": null,
   "id": "6ef35a01",
   "metadata": {},
   "outputs": [],
   "source": []
  },
  {
   "cell_type": "code",
   "execution_count": null,
   "id": "4b32f6cc",
   "metadata": {},
   "outputs": [],
   "source": []
  },
  {
   "cell_type": "code",
   "execution_count": null,
   "id": "c25d16f2",
   "metadata": {},
   "outputs": [],
   "source": []
  },
  {
   "cell_type": "code",
   "execution_count": null,
   "id": "0f7f759f",
   "metadata": {},
   "outputs": [],
   "source": []
  },
  {
   "cell_type": "code",
   "execution_count": null,
   "id": "d46455e5",
   "metadata": {},
   "outputs": [],
   "source": []
  },
  {
   "cell_type": "code",
   "execution_count": null,
   "id": "bc54b84b",
   "metadata": {},
   "outputs": [],
   "source": []
  },
  {
   "cell_type": "code",
   "execution_count": null,
   "id": "cf6b88a1",
   "metadata": {},
   "outputs": [],
   "source": []
  },
  {
   "cell_type": "code",
   "execution_count": null,
   "id": "ed7f6a9d",
   "metadata": {},
   "outputs": [],
   "source": []
  },
  {
   "cell_type": "code",
   "execution_count": null,
   "id": "a9c6e9a9",
   "metadata": {},
   "outputs": [],
   "source": []
  }
 ],
 "metadata": {
  "kernelspec": {
   "display_name": "Python 3 (ipykernel)",
   "language": "python",
   "name": "python3"
  },
  "language_info": {
   "codemirror_mode": {
    "name": "ipython",
    "version": 3
   },
   "file_extension": ".py",
   "mimetype": "text/x-python",
   "name": "python",
   "nbconvert_exporter": "python",
   "pygments_lexer": "ipython3",
   "version": "3.9.7"
  }
 },
 "nbformat": 4,
 "nbformat_minor": 5
}
