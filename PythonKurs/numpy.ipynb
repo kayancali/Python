{
 "cells": [
  {
   "cell_type": "markdown",
   "id": "c8ef5ddc",
   "metadata": {},
   "source": []
  },
  {
   "cell_type": "markdown",
   "id": "4dc76355",
   "metadata": {},
   "source": [
    "# numpy notları"
   ]
  },
  {
   "cell_type": "markdown",
   "id": "918ca5f9",
   "metadata": {},
   "source": [
    "<!-- numpy ile çalışma -->"
   ]
  },
  {
   "cell_type": "code",
   "execution_count": 1,
   "id": "65cc118f",
   "metadata": {},
   "outputs": [
    {
     "name": "stdout",
     "output_type": "stream",
     "text": [
      "[30 63 32 10 14 38 45 45 90 57]\n",
      "min deger 10\n",
      "max deger 90\n",
      "42.4\n",
      "8\n",
      "3\n"
     ]
    }
   ],
   "source": [
    "import numpy as np\n",
    "\n",
    "\n",
    "# result=np.array([ 1,3,6,9])\n",
    "# dizi içine kendimiz tanımlama yapmak istemezsek bu komutları kullanabiliriz\n",
    "#result =np.arange(1,10) \n",
    "#result =np.arange(10,100,3) 10 dan 100 e kadar 3 er artarak ekler \n",
    "#result=np.zeros(10) 10 tane 0 ekler \n",
    "#result=np.ones(10)# 10 tane 1 ekler \n",
    "# result=np.linspace(0,100,5) 0 dan 100e kadar değerleri eşit aralıklarda böler\n",
    "\n",
    "# result= np.random.randint(10) # rastgel sayı üretir\n",
    "#result=np.random.randint(1,10,3) # tane rastgele sayı üretir \n",
    "\n",
    "# result= np.random.rand(3) 3 tane 0-1 arası sayı üretir\n",
    "\n",
    "\"\"\"np_array=np.arange(50)\n",
    "np_multi = np_array.reshape(5,10)\n",
    "\n",
    "\n",
    "print(np_multi.sum(axis=1)) # 1 . satırların toplamını verir\n",
    "print(np_multi.sum(axis=0)) # sütunların toplamını verir\"\"\"\n",
    "\n",
    "\n",
    "rnd_numbers =np.random.randint(1,100,10)\n",
    "print(rnd_numbers)\n",
    "result=rnd_numbers.min()\n",
    "print(\"min deger\",result)\n",
    "result=rnd_numbers.max()\n",
    "print('max deger',result)\n",
    "result=rnd_numbers.mean() # sayıların ortalamasını verir\n",
    "print(result)\n",
    "result=rnd_numbers.argmax()# en büyük sayının indexini verir\n",
    "print(result)\n",
    "result=rnd_numbers.argmin()# tam tersi\n",
    "print(result)"
   ]
  },
  {
   "cell_type": "markdown",
   "id": "c8f14cb0",
   "metadata": {},
   "source": [
    "<!-- numpy dizilerinin indexlenmesi -->"
   ]
  },
  {
   "cell_type": "code",
   "execution_count": 661,
   "id": "9bb74ed9",
   "metadata": {
    "scrolled": true
   },
   "outputs": [
    {
     "name": "stdout",
     "output_type": "stream",
     "text": [
      "*****************\n",
      "[[ 0  5 10 15]\n",
      " [20 25 30 35]\n",
      " [40 45 50 55]\n",
      " [60 65 70 75]]\n",
      "*****************\n",
      "*****************\n",
      "[10 30 50 70]\n",
      "*****************\n",
      "[[ 0  5]\n",
      " [20 25]\n",
      " [40 45]\n",
      " [60 65]]\n",
      "*****************\n",
      "[60 65 70 75]\n",
      "*****************\n",
      "[35  1  2  3  4  5  6  7  8  9]\n",
      "[35  1  2  3  4  5  6  7  8  9]\n",
      "*****************\n",
      "[35  1  2  3  4  5  6  7  8  9]\n",
      "[25  1  2  3  4  5  6  7  8  9]\n"
     ]
    }
   ],
   "source": [
    "import numpy as np\n",
    "\n",
    "\"\"\"# elemanlara ulaşma kısmı liste mantığı ile aynı\n",
    "numbers= np.arange(0,76,5)\n",
    "result=numbers[5]\n",
    "print(numbers)\n",
    "print(result)\n",
    "print(numbers[:3])\n",
    "print(numbers[3:])\"\"\"\n",
    "\n",
    "numbers =numbers.reshape(4,4)\n",
    "print(\"*****************\")\n",
    "print(numbers)\n",
    "print(\"*****************\")\n",
    "#result=numbers[2,3] 2. satırın 3. elemanını aldık\n",
    "\n",
    "result=numbers[:,2]# tüm satırlardan 2. indextekileri aldık\n",
    "print(\"*****************\")\n",
    "print(result)\n",
    "print(\"*****************\")\n",
    "result=numbers[:,:2]# tüm satırlardan 0-2 arasındakileri al\n",
    "print(result)\n",
    "result=numbers[-1,:]# sonuncu satrın tüm elemanları\n",
    "print(\"*****************\")\n",
    "print(result)\n",
    "print(\"*****************\")\n",
    "\n",
    "\n",
    "arr1= np.arange(0,10)\n",
    "arr2=arr1 # referans koyalaması yaptık aynı adres farklı tanım\n",
    "arr2[0]=35\n",
    "print(arr1)\n",
    "print(arr2)\n",
    "print(\"*****************\")\n",
    "\n",
    "arr2[0]=35\n",
    "\n",
    "\n",
    "arr2=arr1.copy() # burda farklı adreste farklı dizi yaptık\n",
    "\n",
    "arr2[0]=25\n",
    "print(arr1)\n",
    "print(arr2)"
   ]
  },
  {
   "cell_type": "markdown",
   "id": "a91d43c6",
   "metadata": {},
   "source": [
    "<!-- numpy dizi operasyonları -->\n"
   ]
  },
  {
   "cell_type": "code",
   "execution_count": 2,
   "id": "e4977440",
   "metadata": {},
   "outputs": [
    {
     "name": "stdout",
     "output_type": "stream",
     "text": [
      "[22 63 60 43 21 85]\n",
      "[49 97 82 27 64 99]\n",
      "[ 71 160 142  70  85 184]\n",
      "*****************\n",
      "[32 73 70 53 31 95]\n",
      "[-27 -34 -22  16 -43 -14]\n",
      "*****************\n",
      "[-0.00885131  0.1673557  -0.30481062 -0.83177474  0.83665564 -0.17607562]\n",
      "[3.09104245 4.14313473 4.09434456 3.76120012 3.04452244 4.44265126]\n",
      "*****************\n",
      "[[22 63 60]\n",
      " [43 21 85]]\n",
      "*****************\n",
      "[[49 97 82]\n",
      " [27 64 99]]\n",
      "*****************\n",
      "[[22 63 60]\n",
      " [43 21 85]\n",
      " [49 97 82]\n",
      " [27 64 99]]\n",
      "*****************\n",
      "[[22 63 60 49 97 82]\n",
      " [43 21 85 27 64 99]]\n",
      "*****************\n",
      "[False  True  True False False  True]\n",
      "*****************\n",
      "[82 64]\n",
      "[False False  True False  True False]\n"
     ]
    }
   ],
   "source": [
    "import numpy as np\n",
    "\n",
    "numbers1=np.random.randint(10,100,6)\n",
    "numbers2=np.random.randint(10,100,6)\n",
    "\n",
    "print(numbers1)\n",
    "print(numbers2)\n",
    "# toplama çıkarma çarpma bölme yapabiliriz\n",
    "result =numbers1+numbers2\n",
    "\n",
    "print(result)\n",
    "print(\"*****************\")\n",
    "\n",
    "result =numbers1+10 # her elemana 10 ekler\n",
    "\n",
    "print(result)\n",
    "\n",
    "result=numbers1-numbers2\n",
    "\n",
    "print(result)\n",
    "print(\"*****************\")\n",
    "\n",
    "# matematiksel işlemleri\n",
    "result=np.sin(numbers1) \n",
    "print(result)\n",
    "result=np.log(numbers1) \n",
    "print(result)\n",
    "\n",
    "print(\"*****************\")\n",
    "\n",
    "\n",
    "\n",
    "mnumbers1= numbers1.reshape(2,3)\n",
    "mnumbers2= numbers2.reshape(2,3)\n",
    "\n",
    "print(mnumbers1)\n",
    "print(\"*****************\")\n",
    "print(mnumbers2)\n",
    "print(\"*****************\")\n",
    "\n",
    "print(np.vstack((mnumbers1,mnumbers2))) # iki matrisi dikey olarak birleştirdi\n",
    "\n",
    "print(\"*****************\")\n",
    "\n",
    "print(np.hstack((mnumbers1,mnumbers2)))# yatay olarak birleştirdi\n",
    "\n",
    "\n",
    "print(\"*****************\")\n",
    "\n",
    "\n",
    "\n",
    "result= numbers1 >=50 # bool çıktısı verir\n",
    "print(result)\n",
    "print(\"*****************\")\n",
    "result=numbers2 %2==0\n",
    "\n",
    "print(numbers2[result])# result koşul cevabı olduğu için true olanları yazdırdı\n",
    "print(result)\n"
   ]
  },
  {
   "cell_type": "markdown",
   "id": "67b6c5eb",
   "metadata": {},
   "source": [
    "<!-- uygulama -->"
   ]
  },
  {
   "cell_type": "code",
   "execution_count": 55,
   "id": "66ece902",
   "metadata": {},
   "outputs": [
    {
     "name": "stdout",
     "output_type": "stream",
     "text": [
      "[[-45   0   1   9  -1]\n",
      " [ 29 -29 -20 -29 -13]\n",
      " [ 31  -8  -4 -45  -1]]\n",
      "10\n",
      "0\n",
      "*****************\n",
      "-8.333333333333334\n",
      "-45\n",
      "[-45  29  31]\n",
      "[[2025    0    1   81    1]\n",
      " [ 841  841  400  841  169]\n",
      " [ 961   64   16 2025    1]]\n",
      "*****************\n",
      "[  0 -20  -8  -4]\n",
      "*****************\n",
      "[ 1  9 29 31]\n"
     ]
    }
   ],
   "source": [
    "import numpy as np\n",
    "\n",
    "np_array=np.array([10,15,30,45,60]) # numpy dizisi\n",
    "np_array=np.arange(5,15)# 5-15 arsı sayıları ekleme\n",
    "np_array=np.arange(50,100,5)#50-100 arası sayıları beşer beşer ekleme\n",
    "np_array=np.zeros(10) # on adet 0 ekleme \n",
    "np_array=np.ones(10)# on adet 1 ekleme \n",
    "np_array=np.linspace(0,100,5)# 0 -100 arası rastgele 5 eşit aralıkta\n",
    "np_array=np.random.randint(10,30,5)#0-30 arası 5 sayı ekleme\n",
    "np_array=np.random.randn(5)# -1 ile 1 aarsında 5 sayı ekleme\n",
    "np_array=np.random.randint(-50,50,15).reshape(3,5)# 3x5 lik rastgele matris\n",
    "s_toplam=np_array.sum(axis=1) # satır toplam \n",
    "s_toplam=np_array.sum(axis=0) # sütun toplam\n",
    "\n",
    "min=np_array.min() # min değer \n",
    "max=np_array.max()# max değer\n",
    "\n",
    "ort=np_array.mean()# ortalamayı verir\n",
    "print(np_array)\n",
    "print(np_array.argmax())# en büyük sayıının indexini verir\n",
    "print(np_array.argmin())# en küçük sayının indexini verir\n",
    "print(\"*****************\")\n",
    "print(ort)\n",
    "\n",
    "\"\"\"arr=np.arange(10,20)\n",
    "print(arr[:3])\n",
    "print(arr[::-1])\"\"\"\n",
    "print(np_array[2,3])\n",
    "print(np_array[:,0])\n",
    "kare=np_array**2\n",
    "print(kare)\n",
    "print(\"*****************\")\n",
    "print(np_array[np_array%2==0]) # çift sayıları yazar\n",
    "\n",
    "print(\"*****************\")\n",
    "result= np_array[np_array%2==1]# tek sayıları yazar\n",
    "print(result[result>0])"
   ]
  },
  {
   "cell_type": "code",
   "execution_count": null,
   "id": "e6aca136",
   "metadata": {},
   "outputs": [],
   "source": []
  },
  {
   "cell_type": "code",
   "execution_count": null,
   "id": "8327e5d6",
   "metadata": {},
   "outputs": [],
   "source": []
  },
  {
   "cell_type": "code",
   "execution_count": null,
   "id": "c27ac1fa",
   "metadata": {},
   "outputs": [],
   "source": []
  },
  {
   "cell_type": "markdown",
   "id": "697bb239",
   "metadata": {},
   "source": []
  }
 ],
 "metadata": {
  "kernelspec": {
   "display_name": "Python 3.9.7 ('base')",
   "language": "python",
   "name": "python3"
  },
  "language_info": {
   "codemirror_mode": {
    "name": "ipython",
    "version": 3
   },
   "file_extension": ".py",
   "mimetype": "text/x-python",
   "name": "python",
   "nbconvert_exporter": "python",
   "pygments_lexer": "ipython3",
   "version": "3.9.7"
  },
  "vscode": {
   "interpreter": {
    "hash": "a6a5d7969b11a650834bc787cff5761e305f069613632c02c475baa78316c3e7"
   }
  }
 },
 "nbformat": 4,
 "nbformat_minor": 5
}
