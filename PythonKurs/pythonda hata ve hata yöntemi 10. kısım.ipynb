{
 "cells": [
  {
   "cell_type": "code",
   "execution_count": null,
   "id": "c80375a0",
   "metadata": {},
   "outputs": [],
   "source": [
    "# error=> hata\n",
    "\n",
    "#print(a)=> name error\n",
    "#int('mk12') => value error\n",
    "#print(10/0)=>ZeroDivisionError\n",
    "#print('denem'e)=>SyntaxError\n",
    "\n"
   ]
  },
  {
   "cell_type": "code",
   "execution_count": 29,
   "id": "e1708201",
   "metadata": {},
   "outputs": [
    {
     "name": "stdout",
     "output_type": "stream",
     "text": [
      "x:10\n",
      "y:5\n",
      "2.0\n",
      "try except sonlandı\n"
     ]
    }
   ],
   "source": [
    "#error handling => hata yöntemin\n",
    "\n",
    "\n",
    "\n",
    "\"\"\"try:\n",
    "    x=int(input('x:'))\n",
    "    y=int(input('y:'))\n",
    "    print(e)\n",
    "except (ZeroDivisionError,ValueError) as e:\n",
    "    print ('yanlis bilgi girdiniz')\n",
    "    \n",
    "\n",
    "print(x/y)\n",
    "    \"\"\"\n",
    "\n",
    "\"\"\"try:\n",
    "    x=int(input('x:'))\n",
    "    y=int(input('y:'))\n",
    "    print(x/y)\n",
    "except:\n",
    "    print ('yanlis bilgi girdiniz')\"\"\"\n",
    "while True:    \n",
    "    try:\n",
    "        x=int(input('x:'))\n",
    "        y=int(input('y:'))\n",
    "        print(x/y)\n",
    "    except Exception as ex:\n",
    "        print ('yanlis bilgi girdiniz',ex)\n",
    "    else:\n",
    "        break\n",
    "        \n",
    "    finally:\n",
    "        print('try except sonlandı')"
   ]
  },
  {
   "cell_type": "markdown",
   "id": "ffdb8912",
   "metadata": {},
   "source": [
    "<!-- Raising an Exception -->"
   ]
  },
  {
   "cell_type": "code",
   "execution_count": 38,
   "id": "967ff89d",
   "metadata": {},
   "outputs": [
    {
     "name": "stdout",
     "output_type": "stream",
     "text": [
      "geçerli parola\n"
     ]
    }
   ],
   "source": [
    "\"\"\"x=10\n",
    "\n",
    "if x> 5:\n",
    "    raise Exception(\"x 5 ten büyük olamaz \")\"\"\"\n",
    "    \n",
    "def password(psw):\n",
    "    import re\n",
    "    if len(psw)<8:\n",
    "        raise Exception(\"parola en az 7 karakter olmalı\")\n",
    "    elif not re.search(\"[a-z]\",psw):\n",
    "        raise Exception('parola küçük harf içermeli')\n",
    "    elif not re.search(\"[A-Z]\",psw):\n",
    "        raise Exception('parola büyk harf içermeli')\n",
    "    else:\n",
    "        print('geçerli parola')\n",
    "passwordd='123422lA56'  \n",
    "try:\n",
    "    password(passwordd)\n",
    "except Exception as ex:\n",
    "    print(ex)"
   ]
  },
  {
   "cell_type": "code",
   "execution_count": 45,
   "id": "676d81dc",
   "metadata": {},
   "outputs": [
    {
     "ename": "Exception",
     "evalue": "name alanı fazla karakter içeriyor",
     "output_type": "error",
     "traceback": [
      "\u001b[1;31m---------------------------------------------------------------------------\u001b[0m",
      "\u001b[1;31mException\u001b[0m                                 Traceback (most recent call last)",
      "\u001b[1;32m~\\AppData\\Local\\Temp/ipykernel_2832/3939482727.py\u001b[0m in \u001b[0;36m<module>\u001b[1;34m\u001b[0m\n\u001b[0;32m      6\u001b[0m             \u001b[0mself\u001b[0m\u001b[1;33m.\u001b[0m\u001b[0mname\u001b[0m \u001b[1;33m=\u001b[0m \u001b[0mname\u001b[0m\u001b[1;33m\u001b[0m\u001b[1;33m\u001b[0m\u001b[0m\n\u001b[0;32m      7\u001b[0m \u001b[1;33m\u001b[0m\u001b[0m\n\u001b[1;32m----> 8\u001b[1;33m \u001b[0mp\u001b[0m\u001b[1;33m=\u001b[0m\u001b[0mPerson\u001b[0m\u001b[1;33m(\u001b[0m\u001b[1;34m\"Aliiiiiiiiiiiiii\"\u001b[0m\u001b[1;33m,\u001b[0m\u001b[1;34m'123'\u001b[0m\u001b[1;33m)\u001b[0m\u001b[1;33m\u001b[0m\u001b[1;33m\u001b[0m\u001b[0m\n\u001b[0m",
      "\u001b[1;32m~\\AppData\\Local\\Temp/ipykernel_2832/3939482727.py\u001b[0m in \u001b[0;36m__init__\u001b[1;34m(self, name, year)\u001b[0m\n\u001b[0;32m      2\u001b[0m     \u001b[1;32mdef\u001b[0m \u001b[0m__init__\u001b[0m\u001b[1;33m(\u001b[0m\u001b[0mself\u001b[0m\u001b[1;33m,\u001b[0m\u001b[0mname\u001b[0m \u001b[1;33m,\u001b[0m\u001b[0myear\u001b[0m\u001b[1;33m)\u001b[0m\u001b[1;33m:\u001b[0m\u001b[1;33m\u001b[0m\u001b[1;33m\u001b[0m\u001b[0m\n\u001b[0;32m      3\u001b[0m         \u001b[1;32mif\u001b[0m \u001b[0mlen\u001b[0m\u001b[1;33m(\u001b[0m\u001b[0mname\u001b[0m\u001b[1;33m)\u001b[0m \u001b[1;33m>\u001b[0m \u001b[1;36m10\u001b[0m \u001b[1;33m:\u001b[0m\u001b[1;33m\u001b[0m\u001b[1;33m\u001b[0m\u001b[0m\n\u001b[1;32m----> 4\u001b[1;33m             \u001b[1;32mraise\u001b[0m \u001b[0mException\u001b[0m\u001b[1;33m(\u001b[0m\u001b[1;34m\"name alanı fazla karakter içeriyor\"\u001b[0m\u001b[1;33m)\u001b[0m\u001b[1;33m\u001b[0m\u001b[1;33m\u001b[0m\u001b[0m\n\u001b[0m\u001b[0;32m      5\u001b[0m         \u001b[1;32melse\u001b[0m\u001b[1;33m:\u001b[0m\u001b[1;33m\u001b[0m\u001b[1;33m\u001b[0m\u001b[0m\n\u001b[0;32m      6\u001b[0m             \u001b[0mself\u001b[0m\u001b[1;33m.\u001b[0m\u001b[0mname\u001b[0m \u001b[1;33m=\u001b[0m \u001b[0mname\u001b[0m\u001b[1;33m\u001b[0m\u001b[1;33m\u001b[0m\u001b[0m\n",
      "\u001b[1;31mException\u001b[0m: name alanı fazla karakter içeriyor"
     ]
    }
   ],
   "source": [
    "class Person:\n",
    "    def __init__(self,name ,year):\n",
    "        if len(name) > 10 :\n",
    "            raise Exception(\"name alanı fazla karakter içeriyor\")\n",
    "        else:\n",
    "            self.name = name\n",
    "            \n",
    "p=Person(\"Aliiiiiiiiiiiiii\",'123')       "
   ]
  },
  {
   "cell_type": "code",
   "execution_count": 72,
   "id": "ef0940bd",
   "metadata": {},
   "outputs": [
    {
     "name": "stdout",
     "output_type": "stream",
     "text": [
      "bir parola giriniz :.iliüüü\n"
     ]
    },
    {
     "ename": "TypeError",
     "evalue": "parola türkçe karakter içermez ",
     "output_type": "error",
     "traceback": [
      "\u001b[1;31m---------------------------------------------------------------------------\u001b[0m",
      "\u001b[1;31mTypeError\u001b[0m                                 Traceback (most recent call last)",
      "\u001b[1;32m~\\AppData\\Local\\Temp/ipykernel_2832/2200593712.py\u001b[0m in \u001b[0;36m<module>\u001b[1;34m\u001b[0m\n\u001b[0;32m     26\u001b[0m \u001b[1;32mfor\u001b[0m \u001b[0mi\u001b[0m \u001b[1;32min\u001b[0m \u001b[0mpassword\u001b[0m\u001b[1;33m:\u001b[0m\u001b[1;33m\u001b[0m\u001b[1;33m\u001b[0m\u001b[0m\n\u001b[0;32m     27\u001b[0m     \u001b[1;32mif\u001b[0m \u001b[0mi\u001b[0m \u001b[1;32min\u001b[0m \u001b[0mturkcekarakter\u001b[0m\u001b[1;33m:\u001b[0m\u001b[1;33m\u001b[0m\u001b[1;33m\u001b[0m\u001b[0m\n\u001b[1;32m---> 28\u001b[1;33m         \u001b[1;32mraise\u001b[0m \u001b[0mTypeError\u001b[0m\u001b[1;33m(\u001b[0m\u001b[1;34m'parola türkçe karakter içermez '\u001b[0m\u001b[1;33m)\u001b[0m\u001b[1;33m\u001b[0m\u001b[1;33m\u001b[0m\u001b[0m\n\u001b[0m\u001b[0;32m     29\u001b[0m     \u001b[1;32melse\u001b[0m \u001b[1;33m:\u001b[0m\u001b[1;33m\u001b[0m\u001b[1;33m\u001b[0m\u001b[0m\n\u001b[0;32m     30\u001b[0m         \u001b[1;32mpass\u001b[0m\u001b[1;33m\u001b[0m\u001b[1;33m\u001b[0m\u001b[0m\n",
      "\u001b[1;31mTypeError\u001b[0m: parola türkçe karakter içermez "
     ]
    }
   ],
   "source": [
    "\"\"\"liste=['1','2','5a','10','k5','50','60']\n",
    "kalite=[]\n",
    "for i in liste:\n",
    "    try:\n",
    "        result= int(i)\n",
    "        print(result)\n",
    "    except ValueError:\n",
    "        continue\n",
    "        \"\"\"\n",
    "\n",
    "\"\"\"while True:s\n",
    "    \n",
    "    sayı=input('sayı:')\n",
    "    if sayı=='q':\n",
    "        break\n",
    "\n",
    "    try:\n",
    "        result=float(sayı)\n",
    "        print(f'girdiginiz sayı {sayı}')\n",
    "    except: \n",
    "        print('geçersiz sayı')\n",
    "        continue\"\"\"\n",
    "turkcekarakter='şöçğüıİ'\n",
    "\n",
    "password=input('bir parola giriniz :')\n",
    "for i in password:\n",
    "    if i in turkcekarakter:\n",
    "        raise TypeError('parola türkçe karakter içermez ')\n",
    "    else :\n",
    "        pass\n",
    "print('geçerli parola')            \n"
   ]
  },
  {
   "cell_type": "code",
   "execution_count": null,
   "id": "079a6870",
   "metadata": {},
   "outputs": [],
   "source": []
  },
  {
   "cell_type": "code",
   "execution_count": null,
   "id": "ad362cfc",
   "metadata": {},
   "outputs": [],
   "source": []
  }
 ],
 "metadata": {
  "kernelspec": {
   "display_name": "Python 3 (ipykernel)",
   "language": "python",
   "name": "python3"
  },
  "language_info": {
   "codemirror_mode": {
    "name": "ipython",
    "version": 3
   },
   "file_extension": ".py",
   "mimetype": "text/x-python",
   "name": "python",
   "nbconvert_exporter": "python",
   "pygments_lexer": "ipython3",
   "version": "3.9.7"
  }
 },
 "nbformat": 4,
 "nbformat_minor": 5
}
