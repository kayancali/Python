{
 "cells": [
  {
   "cell_type": "markdown",
   "id": "f0a14347",
   "metadata": {},
   "source": [
    "<!-- iç içe fonksiyon -->"
   ]
  },
  {
   "cell_type": "code",
   "execution_count": 30,
   "id": "475bec98",
   "metadata": {},
   "outputs": [
    {
     "name": "stdout",
     "output_type": "stream",
     "text": [
      "120\n"
     ]
    }
   ],
   "source": [
    "\"\"\"def naber (name ):\n",
    "    print('hello',name)\n",
    "    \n",
    "#naber('ali')\n",
    "\n",
    "\n",
    "sayhello=naber   # adresini atama işlemi yaptık\n",
    "\n",
    "\n",
    "print(sayhello)\n",
    "print(naber)\n",
    "\n",
    "\n",
    "sayhello('ali')\n",
    "\n",
    "del sayhello\n",
    "\n",
    "print(naber)\n",
    "\"\"\"\n",
    "\n",
    "\"\"\"def outer(num1):\n",
    "    print('outer')\n",
    "    def inner(num1):\n",
    "        print('inner')\n",
    "        return num1+1\n",
    "    num2=inner(num1)\n",
    "    print(num2)\n",
    "outer(10)\n",
    "\"\"\"\n",
    "\n",
    "\n",
    "def faktoriyel(number):\n",
    "    def inner(number):\n",
    "        if number<=1:\n",
    "            return 1\n",
    "        return number* inner(number-1)    \n",
    "        \n",
    "    return inner(number)   \n",
    "        \n",
    "print(faktoriyel(5))    "
   ]
  },
  {
   "cell_type": "code",
   "execution_count": 37,
   "id": "180643f1",
   "metadata": {},
   "outputs": [
    {
     "name": "stdout",
     "output_type": "stream",
     "text": [
      "admin rolünün youtube. sayfasına ulaşabilir\n"
     ]
    }
   ],
   "source": [
    "# fonksiyon döndürme\n",
    "\n",
    "\"\"\"def usalma(number):\n",
    "     \n",
    "    def inner(power):\n",
    "        return number**power\n",
    "    \n",
    "    return inner\n",
    "\n",
    "\n",
    "two =usalma(2)\n",
    "print(two(3))\n",
    "\n",
    "theree=usalma(3)\n",
    "print(theree(3))\"\"\"\n",
    "\n",
    "\n",
    "\"\"\"def yetkisorgula(page):\n",
    "    def inner(role):\n",
    "        if role =='admin':\n",
    "            return f'{role} rolünün {page}. sayfasına ulaşabilir'\n",
    "        else:\n",
    "             f'{role} rolü {page}. sayfasına ulaşamaz'\n",
    "    return inner       \n",
    "user1=yetkisorgula('youtube')\n",
    "print(user1(\"admin\"\"\"\"))\n",
    "\n",
    "\n",
    "\n"
   ]
  },
  {
   "cell_type": "code",
   "execution_count": 44,
   "id": "d9cae98f",
   "metadata": {},
   "outputs": [
    {
     "name": "stdout",
     "output_type": "stream",
     "text": [
      "5\n",
      "0\n",
      "5.0\n",
      "6\n"
     ]
    }
   ],
   "source": [
    "# fonksiyon gönderme \n",
    "\n",
    "def toplama (a,b):\n",
    "    return a+b\n",
    "def cikarma (a,b):\n",
    "    return a-b\n",
    "\n",
    "def carpma(a,b):\n",
    "    return a*b\n",
    "\n",
    "def bolme(a,b):\n",
    "    return a/b\n",
    "\n",
    "\n",
    "\n",
    "def islem(f1,f2,f3,f4,islem_adi):\n",
    "    if islem_adi == \"toplama\":\n",
    "        print(f1(2,3))\n",
    "    elif islem_adi==\"cikarma\":\n",
    "        print(f2(3,3))\n",
    "    elif islem_adi==\"carpma\":\n",
    "        print(f3(2,3))\n",
    "        \n",
    "    elif islem_adi==\"bolme\":\n",
    "        print(f4(15,3))\n",
    "        \n",
    "    else :\n",
    "        print('gecersiz işlem')\n",
    "        \n",
    "        \n",
    "        \n",
    "              \n",
    "islem(toplama,cikarma,carpma,bolme,\"toplama\")        \n",
    "islem(toplama,cikarma,carpma,bolme,\"cikarma\")\n",
    "islem(toplama,cikarma,carpma,bolme,\"bolme\")\n",
    "islem(toplama,cikarma,carpma,bolme,\"carpma\")"
   ]
  },
  {
   "cell_type": "code",
   "execution_count": null,
   "id": "7ec1da7e",
   "metadata": {},
   "outputs": [],
   "source": [
    "# decorator func"
   ]
  },
  {
   "cell_type": "code",
   "execution_count": 52,
   "id": "41510626",
   "metadata": {},
   "outputs": [
    {
     "name": "stdout",
     "output_type": "stream",
     "text": [
      "foknksiyondan önce\n",
      "hello ali\n",
      "foknksiyondan sonra\n"
     ]
    }
   ],
   "source": [
    "def  mydekre(func):\n",
    "    def wrapper(name):\n",
    "        print('foknksiyondan önce')\n",
    "        func(name)\n",
    "        print('foknksiyondan sonra')\n",
    "    return wrapper\n",
    "@mydekre  # altta yapılan işlemin asynısı\n",
    "def sayhello(name):\n",
    "    print('hello',name)\n",
    "    \n",
    "    \n",
    "def saylan():\n",
    "    print('nabıyon lan')\n",
    "    \n",
    "    \n",
    "    \n",
    "\"\"\"sayhello=mydekre(sayhello)\n",
    "sayhello()\n",
    "    \"\"\"\n",
    "sayhello('ali')"
   ]
  },
  {
   "cell_type": "code",
   "execution_count": 1,
   "id": "fba95811",
   "metadata": {},
   "outputs": [
    {
     "name": "stdout",
     "output_type": "stream",
     "text": [
      "8.0\n",
      "fonksiyon  usalma saniye sürdüüü\n",
      "6\n",
      "fonksiyon  faktoriyel saniye sürdüüü\n"
     ]
    }
   ],
   "source": [
    "import math\n",
    "import time\n",
    "\n",
    "def zamanhesap(func):\n",
    "    def inner(*args,**kwargs):\n",
    "        start=time.time()\n",
    "        time.sleep(1)\n",
    "\n",
    "        func(*args,**kwargs)\n",
    "        finis=time.time()\n",
    "        print(\"fonksiyon  \" + func.__name__+' saniye sürdü')\n",
    "    return inner\n",
    "@zamanhesap\n",
    "def usalma(a,b):\n",
    "\n",
    "    print(math.pow(a,b))\n",
    "\n",
    "    \n",
    "@zamanhesap\n",
    "def faktoriyel(num):\n",
    "\n",
    "    \n",
    "    print(math.factorial(num))\n",
    "    \n",
    "    \n",
    "    \n",
    "    \n",
    "    \n",
    "usalma(2,3)    \n",
    "faktoriyel(3)"
   ]
  },
  {
   "cell_type": "code",
   "execution_count": null,
   "id": "6e0a5a92",
   "metadata": {},
   "outputs": [],
   "source": []
  },
  {
   "cell_type": "code",
   "execution_count": null,
   "id": "65b60771",
   "metadata": {},
   "outputs": [],
   "source": []
  }
 ],
 "metadata": {
  "kernelspec": {
   "display_name": "Python 3.10.2 64-bit",
   "language": "python",
   "name": "python3"
  },
  "language_info": {
   "codemirror_mode": {
    "name": "ipython",
    "version": 3
   },
   "file_extension": ".py",
   "mimetype": "text/x-python",
   "name": "python",
   "nbconvert_exporter": "python",
   "pygments_lexer": "ipython3",
   "version": "3.10.2"
  },
  "vscode": {
   "interpreter": {
    "hash": "fd2655dcc23d2a08ae644f2cb6a0aa75b6b70fa667722e201ef92d344cff5946"
   }
  }
 },
 "nbformat": 4,
 "nbformat_minor": 5
}
