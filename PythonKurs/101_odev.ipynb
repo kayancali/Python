{
 "cells": [
  {
   "cell_type": "markdown",
   "metadata": {},
   "source": [
    "Örnek 1: Ekrana “Merhaba Dünya” yazdıran python kodu yazınız.\n",
    "\n"
   ]
  },
  {
   "cell_type": "code",
   "execution_count": 1,
   "metadata": {},
   "outputs": [
    {
     "name": "stdout",
     "output_type": "stream",
     "text": [
      "merhaba dünya\n"
     ]
    }
   ],
   "source": [
    "print('merhaba dünya')"
   ]
  },
  {
   "cell_type": "markdown",
   "metadata": {},
   "source": [
    "Örnek 2: Girilen kullanıcı ismine göre ekrana “Merhaba Kullanıcı” yazdıran python kodunu yazınız.\n",
    "\n"
   ]
  },
  {
   "cell_type": "code",
   "execution_count": 2,
   "metadata": {},
   "outputs": [
    {
     "name": "stdout",
     "output_type": "stream",
     "text": [
      "isim girali\n",
      "merhaba ali\n"
     ]
    }
   ],
   "source": [
    "isim=input('isim gir')\n",
    "print('merhaba',isim)"
   ]
  },
  {
   "cell_type": "markdown",
   "metadata": {},
   "source": [
    "Örnek 3: Klavyeden girilen iki sayıyı toplayan ve sonucu ekranda gösteren python kodunu yazınız.\n",
    "\n"
   ]
  },
  {
   "cell_type": "code",
   "execution_count": 4,
   "metadata": {},
   "outputs": [
    {
     "name": "stdout",
     "output_type": "stream",
     "text": [
      "sayi1:10\n",
      "sayi2:20\n",
      "30\n"
     ]
    }
   ],
   "source": [
    "sayi1=int(input('sayi1:'))\n",
    "sayi2=int(input('sayi2:'))\n",
    "\n",
    "print(sayi1+sayi2)\n"
   ]
  },
  {
   "cell_type": "markdown",
   "metadata": {},
   "source": [
    "Örnek 4: Klavyeden girilen iki sayıyının ortalamasını bulan ve sonucu ekranda gösteren python kodunu yazınız.\n",
    "\n"
   ]
  },
  {
   "cell_type": "code",
   "execution_count": 5,
   "metadata": {},
   "outputs": [
    {
     "name": "stdout",
     "output_type": "stream",
     "text": [
      "sayi1:10\n",
      "sayi2:30\n",
      "20.0\n"
     ]
    }
   ],
   "source": [
    "sayi1=int(input('sayi1:'))\n",
    "sayi2=int(input('sayi2:'))\n",
    "\n",
    "ort=(sayi1+sayi2)/2\n",
    "print(ort)"
   ]
  },
  {
   "cell_type": "markdown",
   "metadata": {},
   "source": [
    "Örnek 5: Klavyeden girilen vize ve final notuna göre vizenin %40 ve finalin %60 ını alan ve sonucu ekranda gösteren python kodunu yazınız.\n",
    "\n"
   ]
  },
  {
   "cell_type": "code",
   "execution_count": 10,
   "metadata": {},
   "outputs": [
    {
     "name": "stdout",
     "output_type": "stream",
     "text": [
      "vize:100\n",
      "final:10\n",
      "46.0\n"
     ]
    }
   ],
   "source": [
    "vize=int(input('vize:'))\n",
    "final=int(input('final:'))\n",
    "vize1=vize*0.4\n",
    "final1=final*0.6\n",
    "print(vize1+final1)"
   ]
  },
  {
   "cell_type": "markdown",
   "metadata": {},
   "source": [
    "Örnek 6: Klavyeden girilen üç yazılı notunun ortalamasını bulan ekranda gösteren python kodunu yazınız.\n",
    "\n"
   ]
  },
  {
   "cell_type": "code",
   "execution_count": 11,
   "metadata": {},
   "outputs": [
    {
     "name": "stdout",
     "output_type": "stream",
     "text": [
      "not1:30\n",
      "not2:60\n",
      "not3:50\n",
      "46.666666666666664\n"
     ]
    }
   ],
   "source": [
    "yazili1=int(input('not1:'))\n",
    "yazili2=int(input('not2:'))\n",
    "yazili3=int(input('not3:'))\n",
    "\n",
    "ort=(yazili1+yazili2+yazili3)/3\n",
    "print(ort)"
   ]
  },
  {
   "cell_type": "markdown",
   "metadata": {},
   "source": [
    "Örnek 7: Bir dersin ortalaması girilen öğrencinin o dersten geçip geçmediğini gösteren python kodunu yazınız. (50den büyükse geçti değilse kaldı yazdıran örnek python kodu)\n",
    "\n"
   ]
  },
  {
   "cell_type": "code",
   "execution_count": 14,
   "metadata": {},
   "outputs": [
    {
     "name": "stdout",
     "output_type": "stream",
     "text": [
      "notunuzu girin:60\n",
      "geçtiniz\n"
     ]
    }
   ],
   "source": [
    "ort=int(input('notunuzu girin:'))\n",
    "if ort>=50:\n",
    "    print('geçtiniz')\n",
    "else:\n",
    "    print('kaldınız')"
   ]
  },
  {
   "cell_type": "markdown",
   "metadata": {},
   "source": [
    "Örnek 8:  Klavyeden girilen sayının tek mi çift mi olduğunu yazdıran python kod örneğini yapınız.\n",
    "\n"
   ]
  },
  {
   "cell_type": "code",
   "execution_count": 21,
   "metadata": {},
   "outputs": [
    {
     "name": "stdout",
     "output_type": "stream",
     "text": [
      "sayi:23\n",
      "sayi tek\n"
     ]
    }
   ],
   "source": [
    "sayi=int(input('sayi:'))\n",
    "if (sayi % 2 == 0) :\n",
    "    print(\"sayi çift\")\n",
    "else  :\n",
    "    print(\"sayi tek\")"
   ]
  },
  {
   "cell_type": "markdown",
   "metadata": {},
   "source": [
    "Örnek 9:  Klavyeden girilen sayının pozitif mi negatif mi yoksa sıfır mı olduğunu bulan python kodunu yazınız.\n",
    "\n"
   ]
  },
  {
   "cell_type": "code",
   "execution_count": 26,
   "metadata": {},
   "outputs": [
    {
     "name": "stdout",
     "output_type": "stream",
     "text": [
      "sayi:0\n",
      "sayi sıfır\n"
     ]
    }
   ],
   "source": [
    "sayi=int(input('sayi:'))\n",
    "if (sayi >0) :\n",
    "    print(\"sayi pozitif\")\n",
    "elif (sayi ==0) :\n",
    "    print(\"sayi sıfır\")\n",
    "else :\n",
    "    print(\"sayi negatif\")"
   ]
  },
  {
   "cell_type": "markdown",
   "metadata": {},
   "source": [
    "Örnek 10:  Klavyeden girilen yaşa göre ehliyet alıp alamayacağını bulan python kodunu yazınız.\n",
    "\n"
   ]
  },
  {
   "cell_type": "code",
   "execution_count": 1,
   "metadata": {},
   "outputs": [
    {
     "name": "stdout",
     "output_type": "stream",
     "text": [
      "yas:18\n",
      "ehliyet alabilir\n"
     ]
    }
   ],
   "source": [
    "yas=int(input('yas:'))\n",
    "if yas >=18 :\n",
    "    print('ehliyet alabilir')\n",
    "else :\n",
    "    print('ehliyet alamaz')"
   ]
  },
  {
   "cell_type": "markdown",
   "metadata": {},
   "source": [
    "Örnek 11:  1 den 10 a kadar olan sayıları alt alta yazdıran python kodunu yazınız.\n",
    "\n"
   ]
  },
  {
   "cell_type": "code",
   "execution_count": 2,
   "metadata": {},
   "outputs": [
    {
     "name": "stdout",
     "output_type": "stream",
     "text": [
      "1\n",
      "2\n",
      "3\n",
      "4\n",
      "5\n",
      "6\n",
      "7\n",
      "8\n",
      "9\n",
      "10\n"
     ]
    }
   ],
   "source": [
    "for x in range(1,11):\n",
    "    print(x)"
   ]
  },
  {
   "cell_type": "markdown",
   "metadata": {},
   "source": [
    "Örnek 12:  1 den 20 ye kadar olan çift sayıları alt alta yazdıran python kodunu yazınız.\n",
    "\n"
   ]
  },
  {
   "cell_type": "code",
   "execution_count": 18,
   "metadata": {},
   "outputs": [
    {
     "name": "stdout",
     "output_type": "stream",
     "text": [
      "2\n",
      "4\n",
      "6\n",
      "8\n",
      "10\n",
      "12\n",
      "14\n",
      "16\n",
      "18\n",
      "20\n"
     ]
    }
   ],
   "source": [
    "for i in range(1,21):\n",
    "    if i % 2 == 0:\n",
    "        print(i)\n",
    " \n",
    "            "
   ]
  },
  {
   "cell_type": "markdown",
   "metadata": {},
   "source": [
    "Örnek 13:  1 den 20 ye kadar olan tek sayıları alt alta yazdıran python kodunu yazınız.\n",
    "\n"
   ]
  },
  {
   "cell_type": "code",
   "execution_count": 21,
   "metadata": {},
   "outputs": [
    {
     "name": "stdout",
     "output_type": "stream",
     "text": [
      "1\n",
      "3\n",
      "5\n",
      "7\n",
      "9\n",
      "11\n",
      "13\n",
      "15\n",
      "17\n",
      "19\n"
     ]
    }
   ],
   "source": [
    "for i in range(1,21):\n",
    "    if i % 2 == 1:\n",
    "        print(i)"
   ]
  },
  {
   "cell_type": "markdown",
   "metadata": {},
   "source": [
    "Örnek 14:  1 den 100 e kadar olan sayılardan aynı anda 3 ve 5 e tam bölünen sayıları alt alta yazdıran python kodunu yazınız.\n",
    "\n"
   ]
  },
  {
   "cell_type": "code",
   "execution_count": 22,
   "metadata": {},
   "outputs": [
    {
     "name": "stdout",
     "output_type": "stream",
     "text": [
      "15\n",
      "30\n",
      "45\n",
      "60\n",
      "75\n",
      "90\n"
     ]
    }
   ],
   "source": [
    "for i in range(1,101):\n",
    "    if i % 3 == 0 and i % 5==0:\n",
    "        print(i)"
   ]
  },
  {
   "cell_type": "markdown",
   "metadata": {},
   "source": [
    "Örnek 15:  Klavyeden girilen sayıya kadar olan sayıları alt alta yazdıran python kodunu yazınız.\n",
    "\n"
   ]
  },
  {
   "cell_type": "code",
   "execution_count": 23,
   "metadata": {},
   "outputs": [
    {
     "name": "stdout",
     "output_type": "stream",
     "text": [
      "sayi:12\n",
      "1\n",
      "2\n",
      "3\n",
      "4\n",
      "5\n",
      "6\n",
      "7\n",
      "8\n",
      "9\n",
      "10\n",
      "11\n",
      "12\n"
     ]
    }
   ],
   "source": [
    "sayi=int (input('sayi:'))\n",
    "for x in range(1,sayi+1):\n",
    "    print(x)"
   ]
  },
  {
   "cell_type": "markdown",
   "metadata": {},
   "source": [
    "Örnek 16:  Klavyeden kısa kenar uzunluğu ve uzun kenar uzunluğu girilen dikdörtgenin alan ve çevresini hesaplayan python kodunu yazınız.\n",
    "\n"
   ]
  },
  {
   "cell_type": "code",
   "execution_count": 26,
   "metadata": {},
   "outputs": [
    {
     "name": "stdout",
     "output_type": "stream",
     "text": [
      "u_kenar:2\n",
      "k_kenar:5\n",
      "alan 10\n",
      "çevre 14\n"
     ]
    }
   ],
   "source": [
    "u_kenar=int (input('u_kenar:'))\n",
    "k_kenar=int (input('k_kenar:'))\n",
    "\n",
    "print(f'alan {u_kenar*k_kenar}')\n",
    "print(f'çevre {u_kenar*2+k_kenar*2}')"
   ]
  },
  {
   "cell_type": "markdown",
   "metadata": {},
   "source": [
    "Örnek 17:  Klavyeden girilen bir metnin harflerini alt alta yazdıran python kodunu yazınız.\n",
    "\n"
   ]
  },
  {
   "cell_type": "code",
   "execution_count": 27,
   "metadata": {},
   "outputs": [
    {
     "name": "stdout",
     "output_type": "stream",
     "text": [
      "metingir:naber\n",
      "n\n",
      "a\n",
      "b\n",
      "e\n",
      "r\n"
     ]
    }
   ],
   "source": [
    "metin=input('metingir:')\n",
    "for x in metin:\n",
    "    print(x)"
   ]
  },
  {
   "cell_type": "markdown",
   "metadata": {},
   "source": [
    "Örnek 18:  Klavyeden girilen iki sayı arasındaki sayıları toplayan python kodunu yazınız.\n",
    "\n"
   ]
  },
  {
   "cell_type": "code",
   "execution_count": 33,
   "metadata": {},
   "outputs": [
    {
     "name": "stdout",
     "output_type": "stream",
     "text": [
      "sayi1:2\n",
      "sayi2:5\n",
      "7\n"
     ]
    }
   ],
   "source": [
    "sayi1=int(input('sayi1:'))\n",
    "sayi2=int(input('sayi2:'))\n",
    "toplam=0\n",
    "for i in range(sayi1+1,sayi2):\n",
    "    toplam=toplam+i\n",
    "print(toplam)"
   ]
  },
  {
   "cell_type": "markdown",
   "metadata": {},
   "source": [
    "Örnek 19:  Klavyeden girilen sayının asal sayı olup olmadığını bulan python kodunu yazınız.\n",
    "\n"
   ]
  },
  {
   "cell_type": "code",
   "execution_count": 63,
   "metadata": {},
   "outputs": [
    {
     "name": "stdout",
     "output_type": "stream",
     "text": [
      "sayi:3\n",
      "sayi asaldır\n"
     ]
    }
   ],
   "source": [
    "sayi=int(input('sayi:'))\n",
    "sayac=0\n",
    "for i in range(1,sayi+1):\n",
    "    if sayi%i==0:\n",
    "        sayac+=1\n",
    "        \n",
    "if sayac == 2:\n",
    "    print('sayi asaldır')\n",
    "    \n",
    "else:\n",
    "    print('sayi asal degil')"
   ]
  },
  {
   "cell_type": "markdown",
   "metadata": {},
   "source": [
    "Örnek 20:  Klavyeden girilen sayıya kadar olan sayılardan tek sayıların toplamını ve çift sayıların toplamını ayrı ayrı bulan python kodunu yazınız.\n",
    "\n"
   ]
  },
  {
   "cell_type": "code",
   "execution_count": 75,
   "metadata": {},
   "outputs": [
    {
     "name": "stdout",
     "output_type": "stream",
     "text": [
      "sayi:9\n",
      "ciftt toplam   20\n",
      "tek toplam   16\n"
     ]
    }
   ],
   "source": [
    "sayi=int(input('sayi:'))\n",
    "ctoplam=0\n",
    "t_toplam=0\n",
    "for i in range(0,sayi):\n",
    "    if i%2==0:\n",
    "        ctoplam=ctoplam+i\n",
    "        \n",
    "for j in range(0,sayi):\n",
    "    if j %2 ==1:\n",
    "        t_toplam=t_toplam+j    \n",
    "print('ciftt toplam  ',ctoplam)\n",
    "print('tek toplam  ',t_toplam)"
   ]
  },
  {
   "cell_type": "markdown",
   "metadata": {},
   "source": [
    "Örnek 21:  Klavyeden maaşı ve zam oranı girilen kişinin zamlı maaşını hesaplayan python kodunu yazınız.\n",
    "\n"
   ]
  },
  {
   "cell_type": "code",
   "execution_count": 77,
   "metadata": {},
   "outputs": [
    {
     "name": "stdout",
     "output_type": "stream",
     "text": [
      "maas:1000\n",
      "zam:0.6\n",
      "1600.0\n"
     ]
    }
   ],
   "source": [
    "maas=int(input('maas:'))\n",
    "zamoran=float(input('zam:'))\n",
    "\n",
    "zam=maas*zamoran\n",
    "newmaas=zam+maas\n",
    "print(newmaas)"
   ]
  },
  {
   "cell_type": "markdown",
   "metadata": {},
   "source": [
    "Örnek 22:  Klavyeden yarıçapı girilen dairenin çevresini ve alanını hesaplayan python kodunu yazınız.\n",
    "\n"
   ]
  },
  {
   "cell_type": "code",
   "execution_count": 93,
   "metadata": {},
   "outputs": [
    {
     "name": "stdout",
     "output_type": "stream",
     "text": [
      "yariçap:3\n",
      "alan= 28.26\n",
      "cevre= 18.84\n"
     ]
    }
   ],
   "source": [
    "yaricap=int(input('yariçap:'))\n",
    "pi=3.14\n",
    "print('alan=',pi*yaricap**2)\n",
    "print('cevre=',2*pi*yaricap)\n"
   ]
  },
  {
   "cell_type": "markdown",
   "metadata": {},
   "source": [
    "Örnek 23:  Klavyeden kısa kenar ve uzun kenar uzunluğu girilen dikdörtgenin alanını fonksiyon kullanarak hesaplayan python kodunu yazınız.\n",
    "\n"
   ]
  },
  {
   "cell_type": "code",
   "execution_count": 90,
   "metadata": {},
   "outputs": [
    {
     "name": "stdout",
     "output_type": "stream",
     "text": [
      "u_kenar:3\n",
      "k_kenar:3\n",
      "9\n"
     ]
    }
   ],
   "source": [
    "def alan(kısa,uzun):\n",
    "    return kısa*uzun\n",
    "\n",
    "kısak=int (input('u_kenar:'))\n",
    "uzunk=int (input('k_kenar:'))\n",
    "\n",
    "print(alan(kısak,uzunk))\n",
    "    "
   ]
  },
  {
   "cell_type": "markdown",
   "metadata": {},
   "source": [
    "Örnek 24:  Önceden belirlenen bir liste içerisinde bulunan sayılardan kaç tanesinin 5’in katı olduğunu bulan python kodunu yazınız.\n",
    "\n",
    "sayilar = [18,15,22,19,85,32,65,30,95,10,12,20,32,55,34,28,101,5,4,32]\n"
   ]
  },
  {
   "cell_type": "code",
   "execution_count": 79,
   "metadata": {},
   "outputs": [
    {
     "name": "stdout",
     "output_type": "stream",
     "text": [
      "9\n"
     ]
    }
   ],
   "source": [
    "sayilar = [18,15,22,19,85,32,65,30,95,10,12,20,32,55,34,28,101,5,4,32]\n",
    "sayac=0\n",
    "for x in sayilar:\n",
    "    if x%5==0:\n",
    "        sayac+=1\n",
    "        \n",
    "print(sayac)"
   ]
  },
  {
   "cell_type": "markdown",
   "metadata": {},
   "source": [
    "Örnek 25:  Klavyeden girilen başlangıç ve bitiş sayıları arasında bulunan çift sayıların ortalamasını bulan python kodunu yazınız.\n",
    "\n"
   ]
  },
  {
   "cell_type": "code",
   "execution_count": 91,
   "metadata": {},
   "outputs": [
    {
     "name": "stdout",
     "output_type": "stream",
     "text": [
      "sayi1:3\n",
      "sayi2:9\n",
      "1.2\n"
     ]
    }
   ],
   "source": [
    "sayi1=int(input('sayi1:'))\n",
    "sayi2=int(input('sayi2:'))\n",
    "ctoplam=0\n",
    "t_toplam=0\n",
    "for i in range(sayi1,sayi2):\n",
    "    if i%2==0:\n",
    "        ctoplam=ctoplam+i\n",
    "print(ctoplam/sayi)"
   ]
  },
  {
   "cell_type": "markdown",
   "metadata": {},
   "source": [
    "Örnek 26:  Klavyeden girilen başlangıç ve bitiş sayıları arasında bulunan tek sayıların ortalamasını bulan python kodunu yazınız.\n",
    "\n"
   ]
  },
  {
   "cell_type": "code",
   "execution_count": 94,
   "metadata": {},
   "outputs": [
    {
     "name": "stdout",
     "output_type": "stream",
     "text": [
      "sayi1:3\n",
      "sayi2:9\n",
      "1.0\n"
     ]
    }
   ],
   "source": [
    "sayi1=int(input('sayi1:'))\n",
    "sayi2=int(input('sayi2:'))\n",
    "ctoplam=0\n",
    "t_toplam=0\n",
    "for i in range(sayi1,sayi2):\n",
    "    if i%2==1:\n",
    "        ctoplam=ctoplam+i\n",
    "print(ctoplam/sayi)"
   ]
  },
  {
   "cell_type": "markdown",
   "metadata": {},
   "source": [
    "Örnek 27:  Klavyeden girilen başlangıç ve bitiş sayıları arasında bulunan sayıların ortalamasını bulan python kodunu yazınız.\n",
    "\n"
   ]
  },
  {
   "cell_type": "code",
   "execution_count": 102,
   "metadata": {},
   "outputs": [
    {
     "name": "stdout",
     "output_type": "stream",
     "text": [
      "sayi1:3\n",
      "sayi2:9\n",
      "5.0\n"
     ]
    }
   ],
   "source": [
    "sayi1=int(input('sayi1:'))\n",
    "sayi2=int(input('sayi2:'))\n",
    "toplam=0\n",
    "for i in range(sayi1+1,sayi2):\n",
    "    toplam=toplam+i\n",
    "print(toplam/(sayi2-sayi1))"
   ]
  },
  {
   "cell_type": "markdown",
   "metadata": {},
   "source": [
    "Örnek 28:  Klavyeden girilen başlangıç ve bitiş sayıları arasında bulunan sayıların toplamını bulan python kodunu yazınız.\n",
    "\n"
   ]
  },
  {
   "cell_type": "code",
   "execution_count": 103,
   "metadata": {},
   "outputs": [
    {
     "name": "stdout",
     "output_type": "stream",
     "text": [
      "sayi1:3\n",
      "sayi2:6\n",
      "9\n"
     ]
    }
   ],
   "source": [
    "sayi1=int(input('sayi1:'))\n",
    "sayi2=int(input('sayi2:'))\n",
    "toplam=0\n",
    "for i in range(sayi1+1,sayi2):\n",
    "    toplam=toplam+i\n",
    "print(toplam)"
   ]
  },
  {
   "cell_type": "markdown",
   "metadata": {},
   "source": [
    "Örnek 29:  Klavyeden girilen başlangıç ve bitiş sayıları arasında bulunan çift sayıların toplamını bulan python kodunu yazınız.\n",
    "\n"
   ]
  },
  {
   "cell_type": "code",
   "execution_count": 95,
   "metadata": {},
   "outputs": [
    {
     "name": "stdout",
     "output_type": "stream",
     "text": [
      "sayi1:3\n",
      "sayi2:9\n",
      "18\n"
     ]
    }
   ],
   "source": [
    "sayi1=int(input('sayi1:'))\n",
    "sayi2=int(input('sayi2:'))\n",
    "ctoplam=0\n",
    "t_toplam=0\n",
    "for i in range(sayi1,sayi2):\n",
    "    if i%2==0:\n",
    "        ctoplam=ctoplam+i\n",
    "print(ctoplam)"
   ]
  },
  {
   "cell_type": "markdown",
   "metadata": {},
   "source": [
    "Örnek 30:  Klavyeden girilen başlangıç ve bitiş sayıları arasında bulunan tek sayıların toplamını bulan python kodunu yazınız.\n",
    "\n"
   ]
  },
  {
   "cell_type": "code",
   "execution_count": null,
   "metadata": {},
   "outputs": [],
   "source": [
    "sayi1=int(input('sayi1:'))\n",
    "sayi2=int(input('sayi2:'))\n",
    "ctoplam=0\n",
    "t_toplam=0\n",
    "for i in range(sayi1,sayi2):\n",
    "    if i%2==1:\n",
    "        ctoplam=ctoplam+i\n",
    "print(ctoplam)"
   ]
  },
  {
   "cell_type": "markdown",
   "metadata": {},
   "source": [
    "Örnek 35:  Klavyeden girilen sayının tek sayı mı çift sayı mı olduğunu bulan ve sonucu ekranda gösteren python kodunu yazınız.\n",
    "\n"
   ]
  },
  {
   "cell_type": "code",
   "execution_count": 104,
   "metadata": {},
   "outputs": [
    {
     "name": "stdout",
     "output_type": "stream",
     "text": [
      "sayi:3\n",
      "sayi tek\n"
     ]
    }
   ],
   "source": [
    "sayi=int(input('sayi:'))\n",
    "if (sayi % 2 == 0) :\n",
    "    print(\"sayi çift\")\n",
    "else  :\n",
    "    print(\"sayi tek\")"
   ]
  },
  {
   "cell_type": "markdown",
   "metadata": {},
   "source": [
    "Örnek 36:  Örnek :Bir otoparkın ücret tarifesi aşağıdaki gibidir:\n",
    "\n",
    "1 saate kadar: 5 TL\n",
    "1-5 saat arası: Saat başı 4 TL\\\n",
    "5 saatten fazla: Saat başı 3 TL\\\n",
    "Buna göre kullanıcının girdiği otoparkta kalınan saat süresine göre ödenecek miktarı bularak ekrana yazdırınız.\n",
    "\n"
   ]
  },
  {
   "cell_type": "code",
   "execution_count": 107,
   "metadata": {},
   "outputs": [
    {
     "name": "stdout",
     "output_type": "stream",
     "text": [
      "saat:5\n",
      "20\n"
     ]
    }
   ],
   "source": [
    "saat=int(input('saat:'))\n",
    "\n",
    "if saat<=1:\n",
    "    print('ücret 5 tl')\n",
    "elif saat>1 and saat<=5:\n",
    "    print(saat*4)\n",
    "    \n",
    "else:\n",
    "    print(saat*3)\n",
    "    \n",
    "    \n",
    "    "
   ]
  },
  {
   "cell_type": "markdown",
   "metadata": {},
   "source": [
    "Örnek 37:  Klavyeden girilen bir ifadeyi ekrana 10 defa yazdıran python kodunu yazınız.\n",
    "\n"
   ]
  },
  {
   "cell_type": "code",
   "execution_count": 109,
   "metadata": {},
   "outputs": [
    {
     "name": "stdout",
     "output_type": "stream",
     "text": [
      "ifade:hello\n",
      "hello\n",
      "hello\n",
      "hello\n",
      "hello\n",
      "hello\n",
      "hello\n",
      "hello\n",
      "hello\n",
      "hello\n",
      "hello\n"
     ]
    }
   ],
   "source": [
    "ifade=input('ifade:')\n",
    "\n",
    "\n",
    "for i in range (1,11):\n",
    "    print(ifade)"
   ]
  },
  {
   "cell_type": "markdown",
   "metadata": {},
   "source": [
    "Örnek 38:  Klavyeden girilen bir ifadeyi klavyeden girilen bir sayı kadar ekrana yazdıran python kodunu yazınız.\n",
    "\n"
   ]
  },
  {
   "cell_type": "code",
   "execution_count": 110,
   "metadata": {},
   "outputs": [
    {
     "name": "stdout",
     "output_type": "stream",
     "text": [
      "ifade:23\n",
      "kaçkere:3\n",
      "23\n",
      "23\n"
     ]
    }
   ],
   "source": [
    "ifade=input('ifade:')\n",
    "sayı=int(input('kaçkere:'))\n",
    "\n",
    "for i in range (1,sayı+1):\n",
    "    print(ifade)"
   ]
  },
  {
   "cell_type": "markdown",
   "metadata": {},
   "source": [
    "Örnek 39:  Klavyeden aralarına virgül konularak yazılan tüm sayıları toplayan python kodunu yazınız.\n",
    "\n"
   ]
  },
  {
   "cell_type": "code",
   "execution_count": 4,
   "metadata": {},
   "outputs": [
    {
     "name": "stdout",
     "output_type": "stream",
     "text": [
      "sayılar: 2,3,6\n",
      "11\n"
     ]
    }
   ],
   "source": [
    "import numpy as np\n",
    "sayılar=input('sayılar: ')\n",
    "liste=sayılar.split(',')\n",
    "toplam=0\n",
    "for i in liste:\n",
    "    toplam+=int(i)\n",
    "\n",
    "print(toplam)"
   ]
  },
  {
   "cell_type": "markdown",
   "metadata": {},
   "source": [
    "Örnek 40:  Klavyeden aralarına virgül konularak yazılan tüm sayıların ortalamasını hesaplayan python kodunu yazınız.\n",
    "\n"
   ]
  },
  {
   "cell_type": "code",
   "execution_count": 5,
   "metadata": {},
   "outputs": [
    {
     "name": "stdout",
     "output_type": "stream",
     "text": [
      "sayılar: 2,3,6\n",
      "3.6666666666666665\n"
     ]
    }
   ],
   "source": [
    "import numpy as np\n",
    "sayılar=input('sayılar: ')\n",
    "liste=sayılar.split(',')\n",
    "toplam=0\n",
    "for i in liste:\n",
    "    toplam+=int(i)\n",
    "\n",
    "print(toplam/len(liste))"
   ]
  },
  {
   "cell_type": "markdown",
   "metadata": {},
   "source": [
    "Örnek 41:  Klavyeden başlangıç değeri, bitiş değeri ve artış miktarı girilen sayıları alt alta yazdıran python kodunu yazınız.\n",
    "\n"
   ]
  },
  {
   "cell_type": "code",
   "execution_count": 183,
   "metadata": {},
   "outputs": [
    {
     "name": "stdout",
     "output_type": "stream",
     "text": [
      "sayi1:3\n",
      "sayi2:18\n",
      "artış:3\n",
      "3\n",
      "6\n",
      "9\n",
      "12\n",
      "15\n"
     ]
    }
   ],
   "source": [
    "sayi1=int(input('sayi1:'))\n",
    "sayi2=int(input('sayi2:'))\n",
    "artış=int(input('artış:'))\n",
    "\n",
    "for i in range(sayi1,sayi2,artış):\n",
    "    print(i)"
   ]
  },
  {
   "cell_type": "markdown",
   "metadata": {},
   "source": [
    "Örnek 42:  0 dan 100 e kadar olan çift sayıların toplamını hesaplayan ve sonucu yazdıran python kodunu while döngüsü kullanarak yapan kodunu yazınız.\n",
    "\n"
   ]
  },
  {
   "cell_type": "code",
   "execution_count": 212,
   "metadata": {},
   "outputs": [
    {
     "name": "stdout",
     "output_type": "stream",
     "text": [
      "2550\n"
     ]
    }
   ],
   "source": [
    "toplam=0\n",
    "i=0\n",
    "while i<=100:\n",
    "\n",
    "    if i%2==0:\n",
    "        toplam+=i\n",
    "    i+=1\n",
    "    \n",
    "print(toplam)"
   ]
  },
  {
   "cell_type": "markdown",
   "metadata": {},
   "source": [
    "Örnek 43:  0 dan 100 e kadar olan tek sayıların toplamını hesaplayan ve sonucu yazdıran python kodunu while döngüsü kullanarak yapan kodunu yazınız.\n",
    "\n"
   ]
  },
  {
   "cell_type": "code",
   "execution_count": 209,
   "metadata": {},
   "outputs": [
    {
     "name": "stdout",
     "output_type": "stream",
     "text": [
      "2500\n"
     ]
    }
   ],
   "source": [
    "\n",
    "\n",
    "i=0\n",
    "toplamic=0\n",
    "while i<=100:\n",
    "    \n",
    "    if i % 2 == 1:\n",
    "        toplamic+=i\n",
    "    i+=1\n",
    "    \n",
    "print(toplamic)"
   ]
  },
  {
   "cell_type": "markdown",
   "metadata": {},
   "source": [
    "Örnek 44:  Klavyeden girilen sayıya kadar olan sayıların toplamını hesaplayan ve sonucu yazdıran python kodunu while döngüsü kullanarak yapan kodunu yazınız.\n",
    "\n"
   ]
  },
  {
   "cell_type": "code",
   "execution_count": 215,
   "metadata": {},
   "outputs": [
    {
     "name": "stdout",
     "output_type": "stream",
     "text": [
      "sayi6\n",
      "21\n"
     ]
    }
   ],
   "source": [
    "i=0\n",
    "topla=0\n",
    "sayı=int(input('sayi'))\n",
    "while i<=sayı:\n",
    "    \n",
    "    topla=topla+i\n",
    "    i+=1\n",
    "    \n",
    "print(topla)"
   ]
  },
  {
   "cell_type": "markdown",
   "metadata": {},
   "source": [
    "Örnek 45:  Klavyeden girilen sayıya kadar olan tek sayıların toplamını hesaplayan ve sonucu yazdıran python kodunu while döngüsü kullanarak yapan kodunu yazınız.\n",
    "\n"
   ]
  },
  {
   "cell_type": "code",
   "execution_count": 217,
   "metadata": {},
   "outputs": [
    {
     "name": "stdout",
     "output_type": "stream",
     "text": [
      "sayi6\n",
      "9\n"
     ]
    }
   ],
   "source": [
    "top=0\n",
    "i=0\n",
    "sayı=int(input('sayi'))\n",
    "while i<=sayı:\n",
    "    \n",
    "    if i % 2 == 1:\n",
    "        top+=i\n",
    "    i+=1\n",
    "    \n",
    "print(top)"
   ]
  },
  {
   "cell_type": "markdown",
   "metadata": {},
   "source": [
    "Örnek 46:  Klavyeden girilen sayıya kadar olan çift sayıların toplamını hesaplayan ve sonucu yazdıran python kodunu while döngüsü kullanarak yapan kodunu yazınız.\n",
    "\n"
   ]
  },
  {
   "cell_type": "code",
   "execution_count": 218,
   "metadata": {},
   "outputs": [
    {
     "name": "stdout",
     "output_type": "stream",
     "text": [
      "sayi6\n",
      "12\n"
     ]
    }
   ],
   "source": [
    "top=0\n",
    "i=0\n",
    "sayı=int(input('sayi'))\n",
    "while i<=sayı:\n",
    "    \n",
    "    if i % 2 == 0:\n",
    "        top+=i\n",
    "    i+=1\n",
    "    \n",
    "print(top)"
   ]
  },
  {
   "cell_type": "markdown",
   "metadata": {},
   "source": [
    "Örnek 47:  Klavyeden girilen bir metni harflarine ayıran python programını while döngüsü ile yazdıran kodunu yazınız.\n",
    "\n"
   ]
  },
  {
   "cell_type": "code",
   "execution_count": 235,
   "metadata": {},
   "outputs": [
    {
     "name": "stdout",
     "output_type": "stream",
     "text": [
      "metinhello\n",
      "h\n",
      "e\n",
      "l\n",
      "l\n",
      "o\n"
     ]
    }
   ],
   "source": [
    "metin=input('metin')\n",
    "i=0\n",
    "while i<len(metin):\n",
    "    print(metin[i])\n",
    "    i+=1"
   ]
  },
  {
   "cell_type": "markdown",
   "metadata": {},
   "source": [
    "Örnek 48:  0 ile 100 arasında 10 tane rastgele tam sayı üreten ve bu sayılardan en büyüğü ile en küçüğünü bulan ve ekranda gösteren python kodunu yazınız.\n",
    "\n"
   ]
  },
  {
   "cell_type": "code",
   "execution_count": 248,
   "metadata": {},
   "outputs": [
    {
     "name": "stdout",
     "output_type": "stream",
     "text": [
      "[18, 15, 22, 19, 85, 32, 65, 30, 95, 10, 12, 20, 32, 55, 34, 28, 101, 5, 4, 32]\n",
      "99\n",
      "2\n"
     ]
    }
   ],
   "source": [
    "import numpy as np\n",
    "\n",
    "sayılar=np.random.randint(0,100,10)\n",
    "print(sayilar)\n",
    "print(sayılar.max())\n",
    "print(sayılar.min())"
   ]
  },
  {
   "cell_type": "markdown",
   "metadata": {},
   "source": [
    "Örnek 49:  Kullanıcının klavyeden kilo bilgisi alınarak kilo 50 ve altında ise zayıfsın, 50-80 arası fitsin, 80 ve üstü ise kilo almışsın şeklinde ekranda yazdıran python kodunu yazınız.\n",
    "\n"
   ]
  },
  {
   "cell_type": "code",
   "execution_count": 249,
   "metadata": {},
   "outputs": [
    {
     "name": "stdout",
     "output_type": "stream",
     "text": [
      "kilo:56\n",
      "fitsin\n"
     ]
    }
   ],
   "source": [
    "kilo=int (input('kilo:'))\n",
    "\n",
    "if kilo <=50 :\n",
    "    print('zayıfsın')\n",
    "elif kilo >50 and kilo <80:\n",
    "    print('fitsin')\n",
    "else :\n",
    "    print('kilo almışsın')"
   ]
  },
  {
   "cell_type": "markdown",
   "metadata": {},
   "source": [
    "Örnek 50:  Kullanıcının klavyeden yaş bilgisi alınıp 18 yaşından küçükse çocuk 18-40 yaş arası ise genç, 40-60 yaş arası ise orta yaşlı 60 yaştan büyükse yaşlı şeklinde ekrana yazdıran programın python kodlarını yazınız.\n",
    "\n"
   ]
  },
  {
   "cell_type": "code",
   "execution_count": 257,
   "metadata": {},
   "outputs": [
    {
     "name": "stdout",
     "output_type": "stream",
     "text": [
      "yas:55\n",
      "yaşlı\n"
     ]
    }
   ],
   "source": [
    "yas=int (input('yas:'))\n",
    "\n",
    "if yas <=18 :\n",
    "    print('çocuk')\n",
    "elif yas >18 and yas <40:\n",
    "    print('genç')\n",
    "else :\n",
    "    print('yaşlı')"
   ]
  },
  {
   "cell_type": "markdown",
   "metadata": {},
   "source": [
    "Örnek 51:  Klavyeden girilen iki sayının yine klavyeden girilen aritmetik operatör işaretlerine göre (toplama, çıkarma, çarpma bölme) dört işlem yapan ve sonucu ekranda gösteren python kodunu yazınız.\n",
    "\n"
   ]
  },
  {
   "cell_type": "code",
   "execution_count": 259,
   "metadata": {},
   "outputs": [
    {
     "name": "stdout",
     "output_type": "stream",
     "text": [
      "sayi13\n",
      "sayi22\n",
      " + , - , * , / \n",
      "hangi islem yapilsin+\n",
      "5\n"
     ]
    }
   ],
   "source": [
    "sayi1=int(input('sayi1'))\n",
    "sayi2=int(input('sayi2'))\n",
    "print(' + , - , * , / ')\n",
    "op=input('hangi islem yapilsin')\n",
    "\n",
    "if op=='+':\n",
    "    print(sayi1+sayi2)\n",
    "elif op=='-':\n",
    "    print(sayi1-sayi2)\n",
    "elif op=='*':\n",
    "    print(sayi1*sayi2)\n",
    "elif op=='/':\n",
    "    print(sayi1/sayi2)\n",
    "else :\n",
    "    print('yanlış seçim yaptınız')"
   ]
  },
  {
   "cell_type": "markdown",
   "metadata": {},
   "source": [
    "Örnek 52:  Klavyeden girilen bir sayının rakamlarının toplamını bulan ve ekranda gösteren python kodunu yazınız.\n",
    "\n"
   ]
  },
  {
   "cell_type": "code",
   "execution_count": 275,
   "metadata": {},
   "outputs": [
    {
     "name": "stdout",
     "output_type": "stream",
     "text": [
      "sayi:26\n",
      "8\n"
     ]
    }
   ],
   "source": [
    "sayi=int(input('sayi:'))\n",
    "\n",
    "onluk=sayi/10\n",
    "onluk=int(onluk)\n",
    "birlik=sayi-(onluk*10)\n",
    "print(onluk+birlik)\n"
   ]
  },
  {
   "cell_type": "markdown",
   "metadata": {},
   "source": [
    "Örnek 53:  Program çalıştırıldığı anda o anın tarih ve saat bilgilerini ekrana yazdıran python kodunu yazınız.\n",
    "\n"
   ]
  },
  {
   "cell_type": "code",
   "execution_count": 280,
   "metadata": {},
   "outputs": [
    {
     "name": "stdout",
     "output_type": "stream",
     "text": [
      "2022-11-21 21:14:31.061116\n",
      "sayi:25\n",
      "7\n"
     ]
    }
   ],
   "source": [
    "import datetime\n",
    "an=datetime.datetime.now()\n",
    "print(an)\n",
    "sayi=int(input('sayi:'))\n",
    "\n",
    "onluk=sayi/10\n",
    "onluk=int(onluk)\n",
    "birlik=sayi-(onluk*10)\n",
    "print(onluk+birlik)\n"
   ]
  },
  {
   "cell_type": "markdown",
   "metadata": {},
   "source": [
    "Örnek 54:  Şu anki sistemin tarihini ekrana yazdıran python kodunu yazınız.\n",
    "\n"
   ]
  },
  {
   "cell_type": "code",
   "execution_count": 279,
   "metadata": {},
   "outputs": [
    {
     "name": "stdout",
     "output_type": "stream",
     "text": [
      "2022-11-21 21:14:27.650132\n"
     ]
    }
   ],
   "source": [
    "import datetime\n",
    "an=datetime.datetime.now()\n",
    "print(an)"
   ]
  },
  {
   "cell_type": "markdown",
   "metadata": {},
   "source": [
    "Örnek 55:  Klavyeden Fahrenheit cinsinden girilen sıcaklığı Dereceye çeviren python kodunu yazınız.\n",
    "\n"
   ]
  },
  {
   "cell_type": "code",
   "execution_count": 284,
   "metadata": {},
   "outputs": [
    {
     "name": "stdout",
     "output_type": "stream",
     "text": [
      "fah:0\n",
      "derece= 273\n"
     ]
    }
   ],
   "source": [
    "# 0 c = -273 f\n",
    "\n",
    "fah=int(input('fah:'))\n",
    "print('derece=',fah+273)"
   ]
  },
  {
   "cell_type": "markdown",
   "metadata": {},
   "source": [
    "Örnek 56:  Klavyeden bir kenar uzunluğu girilen karenin alanını ve çevresini bulan ve ekrana yazdıran python kodunu yazınız.\n",
    "\n"
   ]
  },
  {
   "cell_type": "code",
   "execution_count": 285,
   "metadata": {},
   "outputs": [
    {
     "name": "stdout",
     "output_type": "stream",
     "text": [
      "kenar:5\n",
      "25\n",
      "20\n"
     ]
    }
   ],
   "source": [
    "kenar=int(input('kenar:'))\n",
    "\n",
    "alan=kenar*kenar\n",
    "cevre=kenar*4\n",
    "\n",
    "print(alan)\n",
    "print(cevre)"
   ]
  },
  {
   "cell_type": "markdown",
   "metadata": {},
   "source": [
    "Örnek 57:  Klavyeden girilen saniye değerinin kaç saat kaç dakika ve kaç saniye olduğunu bulan python kodunu yazınız."
   ]
  },
  {
   "cell_type": "code",
   "execution_count": 293,
   "metadata": {},
   "outputs": [
    {
     "name": "stdout",
     "output_type": "stream",
     "text": [
      "saniye:3600\n",
      "1.0,60.0,3600\n"
     ]
    }
   ],
   "source": [
    "saniye=int(input('saniye:'))\n",
    "dakika=saniye/60\n",
    "saat=dakika/60\n",
    "\n",
    "print(f'{saat},{dakika},{saniye}')"
   ]
  },
  {
   "cell_type": "markdown",
   "metadata": {},
   "source": [
    "Örnek 58:  Klavyeden boy ve kilo bilgileri girilen kişinin beden kitle endeksini hesaplayan python kodunu yazınız.\n",
    "\n"
   ]
  },
  {
   "cell_type": "code",
   "execution_count": 296,
   "metadata": {},
   "outputs": [
    {
     "name": "stdout",
     "output_type": "stream",
     "text": [
      "kg gir60\n",
      "boyunu gir1.50\n",
      "26\n"
     ]
    }
   ],
   "source": [
    "kg=int(input('kg gir'))\n",
    "m=float(input('boyunu gir'))\n",
    "print(int(kg/m**2))"
   ]
  },
  {
   "cell_type": "markdown",
   "metadata": {},
   "source": [
    "Örnek 59:  Klavyeden girilen iki sayıdan büyük olanı bulan ve ekranda gösteren python kodunu yazınız.\n",
    "\n"
   ]
  },
  {
   "cell_type": "code",
   "execution_count": 299,
   "metadata": {},
   "outputs": [
    {
     "name": "stdout",
     "output_type": "stream",
     "text": [
      "sayi1:20\n",
      "sayi2:30\n",
      "büyük olan 30\n"
     ]
    }
   ],
   "source": [
    "sayi1=int(input('sayi1:'))\n",
    "sayi2=int(input('sayi2:'))\n",
    "if sayi1 >sayi2:\n",
    "    print('büyük olan',sayi1)\n",
    "elif sayi2 >sayi1:\n",
    "    print('büyük olan',sayi2)\n",
    "else :\n",
    "    print('sayilar eşit')"
   ]
  },
  {
   "cell_type": "markdown",
   "metadata": {},
   "source": [
    "Örnek 60:  Klavyeden girilen not ortalamasına göre kişinin takdir teşekkür normal geçme yada sınıf tekrarı yapması gerektiğini gösteren python kodunu yazınız.\n",
    "\n"
   ]
  },
  {
   "cell_type": "code",
   "execution_count": 300,
   "metadata": {},
   "outputs": [
    {
     "name": "stdout",
     "output_type": "stream",
     "text": [
      "ortalama gir 86\n",
      "takdir\n"
     ]
    }
   ],
   "source": [
    "ort=int(input('ortalama gir '))\n",
    "\n",
    "if ort>50 and ort<70:\n",
    "    print('boş geçti')\n",
    "elif ort>70 and ort <85:\n",
    "    print('teşekkür')\n",
    "elif ort>85:\n",
    "    print('takdir')\n",
    "else:\n",
    "    print('sınıf tekrari')"
   ]
  },
  {
   "cell_type": "markdown",
   "metadata": {},
   "source": [
    "Örnek 61:  Klavyeden girilen bir sayının 0-10 arasında olup olmadığını kontrol eden python kodunu yazınız.\n",
    "\n"
   ]
  },
  {
   "cell_type": "code",
   "execution_count": 301,
   "metadata": {},
   "outputs": [
    {
     "name": "stdout",
     "output_type": "stream",
     "text": [
      "sayi1:6\n",
      "sayi 0-10 arasında\n"
     ]
    }
   ],
   "source": [
    "sayi1=int(input('sayi1:'))\n",
    "\n",
    "if sayi1>0 and sayi1<10:\n",
    "    print('sayi 0-10 arasında')\n",
    "else:\n",
    "    print('sayi 0-10 arasında değil')"
   ]
  },
  {
   "cell_type": "markdown",
   "metadata": {},
   "source": [
    "Örnek 62:  Klavyeden girilen şifrenin “bilişim” olup olmadığını kontrol eden ve ona göre yönlendirme yapan python kodunu yazınız.\n",
    "\n"
   ]
  },
  {
   "cell_type": "code",
   "execution_count": 307,
   "metadata": {},
   "outputs": [
    {
     "name": "stdout",
     "output_type": "stream",
     "text": [
      "sifre gir:d\n",
      "sifre yanlıs\n",
      "sifre gir:d\n",
      "sifre yanlıs\n",
      "sifre gir:g\n",
      "sifre yanlıs\n",
      "sifre gir:h\n",
      "sifre yanlıs\n",
      "sifre gir:bilişim\n",
      "sifre doğru...\n"
     ]
    }
   ],
   "source": [
    "password='bilişim'\n",
    "\n",
    "while True:\n",
    "    sifre=input('sifre gir:')\n",
    "    if sifre == password:\n",
    "        print('sifre doğru...')\n",
    "        break\n",
    "    else:\n",
    "        print('sifre yanlıs')\n",
    "        \n",
    "        "
   ]
  },
  {
   "cell_type": "markdown",
   "metadata": {},
   "source": [
    "Örnek 64:  Klavyeden 1 ile 5 arasında bir değer giren ve bu değeri yazı ile yazdıran bu değerlerin dışında bir değer girildiğinde uyarı mesajı veren python kodunu yazınız.\n",
    "\n"
   ]
  },
  {
   "cell_type": "code",
   "execution_count": 308,
   "metadata": {},
   "outputs": [
    {
     "name": "stdout",
     "output_type": "stream",
     "text": [
      "deger gir:3\n",
      " deger 1-5 arsında\n"
     ]
    }
   ],
   "source": [
    "deger=int(input('deger gir:'))\n",
    "if deger <5 and deger>1:\n",
    "    print (' deger 1-5 arsında')\n",
    "else:\n",
    "    print('deger 1-5 arasında degil')"
   ]
  },
  {
   "cell_type": "markdown",
   "metadata": {},
   "source": [
    "Örnek 65:  Klavyeden girilen bir sayının 2 ve 3 e veya sadece 2 ye veya sadece 3 e tam bölünüp bölünmediğini yada hiç birine bölünmediğini kontrol eden python kodunu yazınız.\n",
    "\n"
   ]
  },
  {
   "cell_type": "code",
   "execution_count": 322,
   "metadata": {},
   "outputs": [
    {
     "name": "stdout",
     "output_type": "stream",
     "text": [
      "deger gir:9\n",
      "3 e tam bölünüyor\n"
     ]
    }
   ],
   "source": [
    "deger=int(input('deger gir:'))\n",
    "if deger%2==0 and deger%3==0 :\n",
    "    print('2 ve 3 e tam bölünüyor')\n",
    "elif deger%2==0:\n",
    "    print('2 ye tam bölünüyor')\n",
    "elif deger%3==0:\n",
    "    print('3 e tam bölünüyor')\n",
    "else:\n",
    "    print('2 veya 3 e bölünmüyor')"
   ]
  },
  {
   "cell_type": "markdown",
   "metadata": {},
   "source": [
    "Örnek 66:  0 dan 30’a kadar olan sayılardan 2 ve 3 bölünenleri ekranda sıralayan programın python kodlarını yazınız.\n",
    "\n"
   ]
  },
  {
   "cell_type": "code",
   "execution_count": 323,
   "metadata": {},
   "outputs": [
    {
     "name": "stdout",
     "output_type": "stream",
     "text": [
      "0\n",
      "6\n",
      "12\n",
      "18\n",
      "24\n",
      "30\n"
     ]
    }
   ],
   "source": [
    "for i in range (0,31):\n",
    "    if i%2==0 and i%3==0:\n",
    "        print(i)"
   ]
  },
  {
   "cell_type": "markdown",
   "metadata": {},
   "source": [
    "Örnek 67:  Klayeden girilen beş adet sayının toplamını bulan ve bulunan toplamın tek sayımı yoksa çift sayı mı olduğunu bulan python kodunu yazınız.\n",
    "\n"
   ]
  },
  {
   "cell_type": "code",
   "execution_count": 326,
   "metadata": {},
   "outputs": [
    {
     "name": "stdout",
     "output_type": "stream",
     "text": [
      "sayi gir2\n",
      "sayi gir3\n",
      "sayi gir2\n",
      "sayi gir4\n",
      "sayi gir1\n",
      "12\n",
      "çift\n"
     ]
    }
   ],
   "source": [
    "j=0\n",
    "toplam=0\n",
    "for i in range(1,6):\n",
    "    j=int(input('sayi gir'))\n",
    "    toplam+=j\n",
    "print(toplam)\n",
    "if toplam %2==0:\n",
    "    print('çift')\n",
    "else :\n",
    "    print('tek')"
   ]
  },
  {
   "cell_type": "markdown",
   "metadata": {},
   "source": [
    "Örnek 68:  0 ile 50 sayısı arasında 4 e bölünen sayıları listeleyen programın python kodlarını yazınız.\n",
    "\n"
   ]
  },
  {
   "cell_type": "code",
   "execution_count": 327,
   "metadata": {},
   "outputs": [
    {
     "name": "stdout",
     "output_type": "stream",
     "text": [
      "0\n",
      "4\n",
      "8\n",
      "12\n",
      "16\n",
      "20\n",
      "24\n",
      "28\n",
      "32\n",
      "36\n",
      "40\n",
      "44\n",
      "48\n"
     ]
    }
   ],
   "source": [
    "for i in range(0,51):\n",
    "    if i%4==0:\n",
    "        print(i)"
   ]
  },
  {
   "cell_type": "markdown",
   "metadata": {},
   "source": [
    "Örnek 69:  Klavyeden girilen beş tane sayıdan en büyüğünü bulup ekranda gösteren python kodunu yazınız.\n",
    "\n"
   ]
  },
  {
   "cell_type": "code",
   "execution_count": 342,
   "metadata": {},
   "outputs": [
    {
     "name": "stdout",
     "output_type": "stream",
     "text": [
      "sayi gir3\n",
      "sayi gir6\n",
      "sayi gir5\n",
      "sayi gir4\n",
      "sayi gir9\n",
      "9\n"
     ]
    }
   ],
   "source": [
    "import numpy as np\n",
    "j=0\n",
    "toplam=0\n",
    "a=[]\n",
    "for i in range(1,6):\n",
    "    j=int(input('sayi gir'))\n",
    "    liste=a.append(j)\n",
    "liste=np.array(a)\n",
    "\n",
    "print(liste.max())"
   ]
  },
  {
   "cell_type": "markdown",
   "metadata": {},
   "source": [
    "Örnek 70:  Klavyeden kullanıcının girdiği ismin kaç harfli olduğunu bulan programın python kodlarını yazınız.\n",
    "\n"
   ]
  },
  {
   "cell_type": "code",
   "execution_count": 343,
   "metadata": {},
   "outputs": [
    {
     "name": "stdout",
     "output_type": "stream",
     "text": [
      "isim girali\n",
      "3\n"
     ]
    }
   ],
   "source": [
    "isim=input('isim gir')\n",
    "\n",
    "print(len(isim))"
   ]
  },
  {
   "cell_type": "markdown",
   "metadata": {},
   "source": [
    "Örnek 71:  Klavyeden 0 rakamı girilene kadar girilen tüm sayıların kaç tane olduğunu ve bu sayıların toplamını bulan ve ekranda gösteren python kodunu yazınız.\n",
    "\n"
   ]
  },
  {
   "cell_type": "code",
   "execution_count": 344,
   "metadata": {},
   "outputs": [
    {
     "name": "stdout",
     "output_type": "stream",
     "text": [
      "sıfır gir:3\n",
      "sıfır gir:6\n",
      "sıfır gir:1\n",
      "sıfır gir:5\n",
      "sıfır gir:6\n",
      "sıfır gir:0\n",
      "5 sayı girildi , toplam 21\n"
     ]
    }
   ],
   "source": [
    "sayac=0\n",
    "toplam=0\n",
    "while True:\n",
    "    sayi=int(input('sıfır gir:'))\n",
    "    if sayi==0:\n",
    "        print(f'{sayac} sayı girildi , toplam {toplam}')\n",
    "        break\n",
    "    else:\n",
    "        sayac+=1\n",
    "        toplam+=sayi"
   ]
  },
  {
   "cell_type": "markdown",
   "metadata": {},
   "source": [
    "Örnek 72:  Klavyeden 0 rakamı girilene kadar girilen tüm sayıların kaç tane olduğunu ve bu sayıların ortalamasını bulan ve ekranda gösteren python kodunu yazınız.\n",
    "\n"
   ]
  },
  {
   "cell_type": "code",
   "execution_count": 345,
   "metadata": {},
   "outputs": [
    {
     "name": "stdout",
     "output_type": "stream",
     "text": [
      "sıfır gir:3\n",
      "sıfır gir:6\n",
      "sıfır gir:3\n",
      "sıfır gir:0\n",
      "3 sayı girildi , ortalama 4.0\n"
     ]
    }
   ],
   "source": [
    "sayac=0\n",
    "toplam=0\n",
    "while True:\n",
    "    sayi=int(input('sıfır gir:'))\n",
    "    if sayi==0:\n",
    "        print(f'{sayac} sayı girildi , ortalama {toplam/sayac}')\n",
    "        break\n",
    "    else:\n",
    "        sayac+=1\n",
    "        toplam+=sayi"
   ]
  },
  {
   "cell_type": "markdown",
   "metadata": {},
   "source": [
    "Örnek 73:  Klavyeden girilen taban ve üs değerine göre o sayının üssünü hesaplayan ve sonucu ekranda gösteren python kodunu yazınız.\n",
    "\n"
   ]
  },
  {
   "cell_type": "code",
   "execution_count": 346,
   "metadata": {},
   "outputs": [
    {
     "name": "stdout",
     "output_type": "stream",
     "text": [
      "taban:2\n",
      "üs:3\n",
      "8\n"
     ]
    }
   ],
   "source": [
    "taban=int(input('taban:'))\n",
    "üs=int(input('üs:'))\n",
    "print(taban**üs)"
   ]
  },
  {
   "cell_type": "markdown",
   "metadata": {},
   "source": [
    "Örnek 74:  Klavyeden girilen bir sayının karekökünü bulan ve ekranda gösteren python kodunu yazınız.\n",
    "\n"
   ]
  },
  {
   "cell_type": "code",
   "execution_count": 347,
   "metadata": {},
   "outputs": [
    {
     "name": "stdout",
     "output_type": "stream",
     "text": [
      "sayi gir:4\n",
      "2.0\n"
     ]
    }
   ],
   "source": [
    "sayi=int(input('sayi gir:'))\n",
    "print(sayi**1/2)"
   ]
  },
  {
   "cell_type": "markdown",
   "metadata": {},
   "source": [
    "Örnek 75:  Klavyeden girilen iki sayının EKOK ve EBOB’unu bulan ve ekranda gösteren python kodunu yazınız.\n",
    "\n"
   ]
  },
  {
   "cell_type": "code",
   "execution_count": null,
   "metadata": {},
   "outputs": [],
   "source": [
    "birinciSayi = int(input(\"Birinci Sayıyı Giriniz : \"))\n",
    "ikinciSayi = int(input(\"İkinci Sayıyı Giriniz : \"))\n",
    " \n",
    "if (birinciSayi > ikinciSayi):\n",
    "    kucuksayi = ikinciSayi\n",
    "else:\n",
    "    kucuksayi = birinciSayi\n",
    "for i in range(1,kucuksayi+1):\n",
    "    if (birinciSayi % i==0) and (ikinciSayi%i ==0):\n",
    "        ebob = i\n",
    "        ekok = (birinciSayi*ikinciSayi)\n",
    "        \n",
    "print (\"EBOB:\", ebob)\n",
    "print (\"EKOK:\", ekok)"
   ]
  },
  {
   "cell_type": "markdown",
   "metadata": {},
   "source": [
    "Örnek 76:  Klavyeden girilen bir sayının faktöriyelini bulan ve ekranda gösteren python kodunu yazınız.\n",
    "\n"
   ]
  },
  {
   "cell_type": "code",
   "execution_count": 361,
   "metadata": {},
   "outputs": [
    {
     "name": "stdout",
     "output_type": "stream",
     "text": [
      "sayi gir:6\n",
      "720\n"
     ]
    }
   ],
   "source": [
    "fakt=1\n",
    "sayi=int(input('sayi gir:'))\n",
    "for i in range(1,sayi+1):\n",
    "    fakt*=i\n",
    "print(fakt)   "
   ]
  },
  {
   "cell_type": "markdown",
   "metadata": {},
   "source": [
    "Örnek 77:  Klavyeden girilen bir sayının mutlak değerini bulan ve ekranda gösteren python kodunu yazınız.\n",
    "\n"
   ]
  },
  {
   "cell_type": "code",
   "execution_count": 379,
   "metadata": {},
   "outputs": [
    {
     "name": "stdout",
     "output_type": "stream",
     "text": [
      "sayi gir:6\n",
      "6\n"
     ]
    }
   ],
   "source": [
    "sayi=int(input('sayi gir:'))\n",
    "if sayi>0:\n",
    "    print(sayi)\n",
    "else:\n",
    "    print(sayi*(-1))"
   ]
  },
  {
   "cell_type": "markdown",
   "metadata": {},
   "source": [
    "Örnek 78:  Daha önceden belirlenmiş bir liste içerisinden rastgele bir sayı seçen ve ekranda gösteren python kodunu yazınız.\n",
    "\n",
    "liste=[1,2,3,4,5,6,7,8,9,10,11,12,13,14,15,16,17,18,19,20,21,22,23,24,25,26,27,28,29,30]\n"
   ]
  },
  {
   "cell_type": "code",
   "execution_count": 378,
   "metadata": {},
   "outputs": [
    {
     "name": "stdout",
     "output_type": "stream",
     "text": [
      "24\n"
     ]
    }
   ],
   "source": [
    "liste=[1,2,3,4,5,6,7,8,9,10,11,12,13,14,15,16,17,18,19,20,21,22,23,24,25,26,27,28,29,30]\n",
    "\n",
    "sayi=random.choice(liste)\n",
    "print(sayi)"
   ]
  },
  {
   "cell_type": "markdown",
   "metadata": {},
   "source": [
    "Örnek 79:  Klavyeden girilen a,b,c değerlerine göre 2. dereceden bir denklemin köklerini bulan ve ekranda gösteren python kodunu yazınız.\n",
    "\n"
   ]
  },
  {
   "cell_type": "code",
   "execution_count": 382,
   "metadata": {},
   "outputs": [
    {
     "name": "stdout",
     "output_type": "stream",
     "text": [
      "sayi gir:1\n",
      "sayi gir:4\n",
      "sayi gir:2\n",
      "-2.0 -2.0\n"
     ]
    }
   ],
   "source": [
    "a=int(input('sayi gir:'))\n",
    "b=int(input('sayi gir:'))\n",
    "c=int(input('sayi gir:'))\n",
    "\n",
    "delta=(b*2)-(4*a*c)\n",
    "x1=((-1*b)+ (delta**(1/2)))/2*a\n",
    "x2=((-1*b)- (delta**(1/2)))/2*a\n",
    "print(x1,x2)"
   ]
  },
  {
   "cell_type": "markdown",
   "metadata": {},
   "source": [
    "Örnek 80:  Klavyeden girilen yıl ve o yılın ayının takvimini ekranda gösteren python kodunu yazınız.\n",
    "\n"
   ]
  },
  {
   "cell_type": "code",
   "execution_count": 383,
   "metadata": {},
   "outputs": [
    {
     "name": "stdout",
     "output_type": "stream",
     "text": [
      "Yıl Gir : 2022\n",
      "Ay Gir : 11\n",
      "   November 2022\n",
      "Mo Tu We Th Fr Sa Su\n",
      "    1  2  3  4  5  6\n",
      " 7  8  9 10 11 12 13\n",
      "14 15 16 17 18 19 20\n",
      "21 22 23 24 25 26 27\n",
      "28 29 30\n",
      "\n"
     ]
    }
   ],
   "source": [
    "\n",
    "import calendar\n",
    "yil = int(input(\"Yıl Gir : \"))\n",
    "ay = int(input(\"Ay Gir : \"))\n",
    "print(calendar.month(yil, ay))"
   ]
  },
  {
   "cell_type": "markdown",
   "metadata": {},
   "source": [
    "Örnek 81:  Klavyeden 10’luk tabanda girilmiş bir sayıyı 2’lik, 8’lik ve 16’lık tabana çeviren ve ekranda gösteren python kodunu yazınız.\n",
    "\n"
   ]
  },
  {
   "cell_type": "code",
   "execution_count": 386,
   "metadata": {},
   "outputs": [
    {
     "name": "stdout",
     "output_type": "stream",
     "text": [
      "Bir sayı giriniz: 12\n",
      "2'lik tabanda: 0b1100\n",
      "8'lik tabanda: 0o14\n",
      "16'lık tabanda: 0xc\n"
     ]
    }
   ],
   "source": [
    "sayi = int(input(\"Bir sayı giriniz: \"))\n",
    "print(\"2'lik tabanda:\",bin(sayi))\n",
    "print(\"8'lik tabanda:\",oct(sayi))\n",
    "print(\"16'lık tabanda:\",hex(sayi))"
   ]
  },
  {
   "cell_type": "markdown",
   "metadata": {},
   "source": [
    "Örnek 82:  Klavyeden girilen bir ismin klavyeden girilen bir sayı kadar yan yana yazdıran python kodunu yazınız.\n",
    "\n"
   ]
  },
  {
   "cell_type": "code",
   "execution_count": 388,
   "metadata": {},
   "outputs": [
    {
     "name": "stdout",
     "output_type": "stream",
     "text": [
      "Bir sayı giriniz: 3\n",
      "Bir isim giriniz: ali\n",
      "ali ali ali "
     ]
    }
   ],
   "source": [
    "tekrar = int(input(\"Bir sayı giriniz: \"))\n",
    "isim=input(\"Bir isim giriniz: \")\n",
    "for i in range(0,tekrar):\n",
    "    print(isim,end=' ')"
   ]
  },
  {
   "cell_type": "markdown",
   "metadata": {},
   "source": [
    "Örnek 83:  Klavyeden girilen bir sayının karesini ve küpünü bulan ve ekranda gösteren python kodunu yazınız.\n",
    "\n"
   ]
  },
  {
   "cell_type": "code",
   "execution_count": 389,
   "metadata": {},
   "outputs": [
    {
     "name": "stdout",
     "output_type": "stream",
     "text": [
      "Bir sayı giriniz: 3\n",
      "9 27\n"
     ]
    }
   ],
   "source": [
    "sayi = int(input(\"Bir sayı giriniz: \"))\n",
    "print(sayi**2,sayi**3)"
   ]
  },
  {
   "cell_type": "markdown",
   "metadata": {},
   "source": [
    "Örnek 84:  Klavyeden girilen 3 tane açının toplamının 180 olup olmadığını kontrol eden ve üçgen oluşturup oluşturmadığını kontrol eden python kodunu yazınız.\n",
    "\n"
   ]
  },
  {
   "cell_type": "code",
   "execution_count": 390,
   "metadata": {},
   "outputs": [
    {
     "name": "stdout",
     "output_type": "stream",
     "text": [
      "Bir sayı giriniz: 60\n",
      "Bir sayı giriniz: 60\n",
      "Bir sayı giriniz: 60\n",
      "üçgen oluşur\n"
     ]
    }
   ],
   "source": [
    "sayi1 = int(input(\"Bir sayı giriniz: \"))\n",
    "sayi2 = int(input(\"Bir sayı giriniz: \"))\n",
    "sayi3 = int(input(\"Bir sayı giriniz: \"))\n",
    "toplam=sayi1+sayi2+sayi3\n",
    "if toplam==180:\n",
    "    print('üçgen oluşur')\n",
    "else:\n",
    "    print('üçgen oluşmaz')"
   ]
  },
  {
   "cell_type": "markdown",
   "metadata": {},
   "source": [
    "Örnek 85:  Kullanıcının girdiği iki ürünün toplam fiyatı 200 TL ve altıysa “Ödenecek miktar=…. TL”; 200 TL’yi geçerse %25 indirim yaparak “Ödenecek miktar, indirimden sonra ….. TL’dir.” çıktılarını veren kodu yazınız.\n",
    "\n"
   ]
  },
  {
   "cell_type": "code",
   "execution_count": 393,
   "metadata": {},
   "outputs": [
    {
     "name": "stdout",
     "output_type": "stream",
     "text": [
      "Bir sayı giriniz: 100\n",
      "Bir sayı giriniz: 300\n",
      "ödenecek tutar 300.0\n"
     ]
    }
   ],
   "source": [
    "sayi1 = int(input(\"Bir sayı giriniz: \"))\n",
    "sayi2 = int(input(\"Bir sayı giriniz: \"))\n",
    "toplam=sayi1+sayi2\n",
    "if toplam<=200:\n",
    "    print('ödenecek tutar',toplam)\n",
    "else:\n",
    "    print('ödenecek tutar',toplam*0.75)"
   ]
  },
  {
   "cell_type": "markdown",
   "metadata": {},
   "source": [
    "Örnek 86:  Kullanıcıya yabancı dil ve ofis programlarını bilip bilmediği sorulsun. Her iki soruya da “Evet” cevabı verilirse “İşe alındınız.”; diğer durumlarda ise “İşe alınmadınız.” çıktıları veren programı yazınız.\n",
    "\n"
   ]
  },
  {
   "cell_type": "code",
   "execution_count": 394,
   "metadata": {},
   "outputs": [
    {
     "name": "stdout",
     "output_type": "stream",
     "text": [
      "cevapevet\n",
      "cevapevet\n",
      "işe alındınız\n"
     ]
    }
   ],
   "source": [
    "ydil=input('cevap')\n",
    "ofis=input('cevap')\n",
    "\n",
    "if ydil=='evet'and ofis=='evet':\n",
    "    print('işe alındınız')\n",
    "else:\n",
    "    print('işe alınmadınız')"
   ]
  },
  {
   "cell_type": "markdown",
   "metadata": {},
   "source": [
    "Örnek 87:  Bir mülakatta katılımcının başarılı olabilmesi için İngilizce ya da Fransızcadan birini bilmesi ve yaşının 40’tan küçük olması gerekmektedir. Katılımcıya yukarıdaki bilgileri, adını ve soyadını sorarak mülakat sonucunu “Başarılı” ya da “Başarısız” çıktıları ile gösteriniz.\n",
    "\n"
   ]
  },
  {
   "cell_type": "code",
   "execution_count": 396,
   "metadata": {},
   "outputs": [
    {
     "name": "stdout",
     "output_type": "stream",
     "text": [
      "adali\n",
      "soyadkayanc\n",
      "yaş18\n",
      "ingilizce biliyormusunevet\n",
      "fransızca biliyormusunhayır\n",
      "başarılı\n"
     ]
    }
   ],
   "source": [
    "ad=input('ad')\n",
    "soyad=input('soyad')\n",
    "yas=int(input('yaş'))\n",
    "ing=input('ingilizce biliyormusun')\n",
    "french=input('fransızca biliyormusun')\n",
    "if (ing=='evet'or french=='evet')and yas<40:\n",
    "    print('başarılı')\n",
    "else:\n",
    "    print('başarısız')"
   ]
  },
  {
   "cell_type": "markdown",
   "metadata": {},
   "source": [
    "Örnek 88 : Girilen iki sayıya ve operatöre (+,-,*,/) göre toplama, çıkarma, çarpma ya da bölme işlemlerini yapan; bu operatörler dışında bir değer girildiğinde “Yanlış işlem girdiniz.” uyarısı veren kodu yazınız.\n",
    "\n"
   ]
  },
  {
   "cell_type": "code",
   "execution_count": 397,
   "metadata": {},
   "outputs": [
    {
     "name": "stdout",
     "output_type": "stream",
     "text": [
      "sayi13\n",
      "sayi26\n",
      " + , - , * , / \n",
      "hangi islem yapilsin6\n",
      "yanlış seçim yaptınız\n"
     ]
    }
   ],
   "source": [
    "sayi1=int(input('sayi1'))\n",
    "sayi2=int(input('sayi2'))\n",
    "print(' + , - , * , / ')\n",
    "op=input('hangi islem yapilsin')\n",
    "\n",
    "if op=='+':\n",
    "    print(sayi1+sayi2)\n",
    "elif op=='-':\n",
    "    print(sayi1-sayi2)\n",
    "elif op=='*':\n",
    "    print(sayi1*sayi2)\n",
    "elif op=='/':\n",
    "    print(sayi1/sayi2)\n",
    "else :\n",
    "    print('yanlış seçim yaptınız')"
   ]
  },
  {
   "cell_type": "code",
   "execution_count": null,
   "metadata": {},
   "outputs": [],
   "source": []
  },
  {
   "cell_type": "markdown",
   "metadata": {},
   "source": [
    "Örnek 90:  Klavyeden girilen sayıdan itibaren sıfıra kadar olan sayıları ekrana yazan python kodunu yazınız.\n",
    "\n"
   ]
  },
  {
   "cell_type": "code",
   "execution_count": 403,
   "metadata": {},
   "outputs": [
    {
     "name": "stdout",
     "output_type": "stream",
     "text": [
      "sayi 6\n",
      "6\n",
      "5\n",
      "4\n",
      "3\n",
      "2\n",
      "1\n",
      "0\n"
     ]
    }
   ],
   "source": [
    "sayi=int(input('sayi '))\n",
    "while sayi>=0:\n",
    "    \n",
    "    print(sayi)\n",
    "    sayi-=1\n",
    "    "
   ]
  },
  {
   "cell_type": "markdown",
   "metadata": {},
   "source": [
    "Örnek 91:  Klavyeden girilen sayıdan itibaren sıfıra kadar 2 şer 2 şer yazdıran python kodunu yazınız.\n",
    "\n"
   ]
  },
  {
   "cell_type": "code",
   "execution_count": 404,
   "metadata": {},
   "outputs": [
    {
     "name": "stdout",
     "output_type": "stream",
     "text": [
      "sayi 6\n",
      "6\n",
      "4\n",
      "2\n"
     ]
    }
   ],
   "source": [
    "sayi=int(input('sayi '))\n",
    "for i in range(sayi,0,-2):\n",
    "    print"
   ]
  },
  {
   "cell_type": "code",
   "execution_count": null,
   "metadata": {},
   "outputs": [],
   "source": []
  },
  {
   "cell_type": "code",
   "execution_count": null,
   "metadata": {},
   "outputs": [],
   "source": []
  },
  {
   "cell_type": "markdown",
   "metadata": {},
   "source": [
    "Örnek 94:  Klavyeden girilen bir karakteri istenilen satır kadar piramit şeklinde yazdıran python kodunu yazınız.\n",
    "\n"
   ]
  },
  {
   "cell_type": "code",
   "execution_count": 414,
   "metadata": {},
   "outputs": [
    {
     "name": "stdout",
     "output_type": "stream",
     "text": [
      "satir6\n",
      "     *\n",
      "    ***\n",
      "   *****\n",
      "  *******\n",
      " *********\n",
      "***********\n"
     ]
    }
   ],
   "source": [
    "satir=int(input('satir'))\n",
    "\n",
    "for i in range(satir):\n",
    "    print(' '*(satir-i-1) + '*'*(2*i+1))"
   ]
  },
  {
   "cell_type": "markdown",
   "metadata": {},
   "source": [
    "Örnek 95:  Klavyeden girilen bir ifadeyi 10 defa ekrana while döngüsü ile yazdıran python kodunu yazınız.\n",
    "\n"
   ]
  },
  {
   "cell_type": "code",
   "execution_count": 410,
   "metadata": {},
   "outputs": [
    {
     "name": "stdout",
     "output_type": "stream",
     "text": [
      "sayi 3\n",
      "3\n",
      "3\n",
      "3\n",
      "3\n",
      "3\n",
      "3\n",
      "3\n",
      "3\n",
      "3\n",
      "3\n"
     ]
    }
   ],
   "source": [
    "sayi4=int(input('sayi '))\n",
    "i=0\n",
    "while i<10:\n",
    "    print(sayi4)\n",
    "    i+=1"
   ]
  },
  {
   "cell_type": "markdown",
   "metadata": {},
   "source": [
    "Örnek 96:  Klavyeden girilen bir ifadeyi istenilen sayı kadar ekrana while döngüsü ile yazdıran python kodunu yazınız.\n",
    "\n"
   ]
  },
  {
   "cell_type": "code",
   "execution_count": 411,
   "metadata": {},
   "outputs": [
    {
     "name": "stdout",
     "output_type": "stream",
     "text": [
      "ifade ali\n",
      "sayi 3\n",
      "ali\n",
      "ali\n",
      "ali\n"
     ]
    }
   ],
   "source": [
    "ifade=input('ifade ')\n",
    "i=0\n",
    "tekrar=int(input('sayi '))\n",
    "while i<tekrar:\n",
    "    print(ifade)\n",
    "    i+=1"
   ]
  },
  {
   "cell_type": "markdown",
   "metadata": {},
   "source": [
    "Örnek 97:  Klavyeden girilen bir sayının faktöriyelini while döngüsü kullanarak yapan python kodunu yazınız.\n",
    "\n"
   ]
  },
  {
   "cell_type": "code",
   "execution_count": 419,
   "metadata": {},
   "outputs": [
    {
     "name": "stdout",
     "output_type": "stream",
     "text": [
      "sayi 6\n",
      "720\n"
     ]
    }
   ],
   "source": [
    "sayi4=int(input('sayi '))\n",
    "i=1\n",
    "fkt=1\n",
    "while i<=sayi4:\n",
    "    fkt*=i\n",
    "    i+=1\n",
    "print(fkt)"
   ]
  },
  {
   "cell_type": "markdown",
   "metadata": {},
   "source": [
    "Örnek 98: 0-100 (100 dâhil) arasındaki sayılardan 5’e tam bölünenleri while döngüsü ile ekrana yazdıran python kodunu yazınız.\n",
    "\n"
   ]
  },
  {
   "cell_type": "code",
   "execution_count": 420,
   "metadata": {},
   "outputs": [
    {
     "name": "stdout",
     "output_type": "stream",
     "text": [
      "0\n",
      "5\n",
      "10\n",
      "15\n",
      "20\n",
      "25\n",
      "30\n",
      "35\n",
      "40\n",
      "45\n",
      "50\n",
      "55\n",
      "60\n",
      "65\n",
      "70\n",
      "75\n",
      "80\n",
      "85\n",
      "90\n",
      "95\n"
     ]
    }
   ],
   "source": [
    "i=0\n",
    "while i<100:\n",
    "    if i%5==0:\n",
    "        print(i)\n",
    "    i+=1"
   ]
  },
  {
   "cell_type": "markdown",
   "metadata": {},
   "source": [
    "Örnek 99:  Klavyeden Girilen sayı 0 (sıfır) olana kadar girilen tüm sayıları toplayan ve ekranda gösteren python programını while döngüsü ile yazınız.\n",
    "\n"
   ]
  },
  {
   "cell_type": "code",
   "execution_count": 422,
   "metadata": {},
   "outputs": [
    {
     "name": "stdout",
     "output_type": "stream",
     "text": [
      "sıfır gir:6\n",
      "sıfır gir:3\n",
      "sıfır gir:5\n",
      "sıfır gir:0\n",
      "[6, 3, 5]  , toplam 14\n"
     ]
    }
   ],
   "source": [
    "sayac=0\n",
    "toplam=0\n",
    "a=[]\n",
    "while True:\n",
    "    sayi=int(input('sıfır gir:'))\n",
    "    if sayi==0:\n",
    "        print(f'{a}  , toplam {toplam}')\n",
    "        break\n",
    "    else:\n",
    "        sayac+=1\n",
    "        a.append(sayi)\n",
    "        toplam+=sayi"
   ]
  },
  {
   "cell_type": "markdown",
   "metadata": {},
   "source": [
    "Örnek 100:  3×3 bir matrisin eleman indislerini yazdıran python kodunu yazınız.\n",
    "\n"
   ]
  },
  {
   "cell_type": "code",
   "execution_count": 421,
   "metadata": {},
   "outputs": [
    {
     "name": "stdout",
     "output_type": "stream",
     "text": [
      "[[6 8 5]\n",
      " [8 2 2]\n",
      " [1 1 1]]\n"
     ]
    }
   ],
   "source": [
    "import numpy as np\n",
    "\n",
    "m=np.random.randint(1,10,9)\n",
    "m=m.reshape(3,3)\n",
    "print(m)\n",
    "\n",
    "\n",
    "        \n",
    "    \n",
    "    \n",
    "    "
   ]
  },
  {
   "cell_type": "markdown",
   "metadata": {},
   "source": [
    "Örnek 101:  Klavyeden girilen bir şifrenin karakterlerini kontrol ederek girilen şifrenin 4 karakter olana kadar yeni şifre isteyen, girilince de doğru şifreyi ekranda gösteren python kodunu yazınız.\n",
    "\n"
   ]
  },
  {
   "cell_type": "code",
   "execution_count": 430,
   "metadata": {},
   "outputs": [
    {
     "name": "stdout",
     "output_type": "stream",
     "text": [
      "sifre gir:lll\n",
      "sifre gir:dwadawd\n",
      "sifre gir:name\n",
      "name\n"
     ]
    }
   ],
   "source": [
    "while True:\n",
    "    sifre=input('sifre gir:')\n",
    "    if len(sifre)== 4:\n",
    "        print(sifre)\n",
    "        break\n",
    "    else:\n",
    "        continue\n",
    "    \n"
   ]
  },
  {
   "cell_type": "markdown",
   "metadata": {},
   "source": []
  }
 ],
 "metadata": {
  "kernelspec": {
   "display_name": "Python 3 (ipykernel)",
   "language": "python",
   "name": "python3"
  },
  "language_info": {
   "codemirror_mode": {
    "name": "ipython",
    "version": 3
   },
   "file_extension": ".py",
   "mimetype": "text/x-python",
   "name": "python",
   "nbconvert_exporter": "python",
   "pygments_lexer": "ipython3",
   "version": "3.9.7"
  },
  "vscode": {
   "interpreter": {
    "hash": "916dbcbb3f70747c44a77c7bcd40155683ae19c65e1c03b4aa3499c5328201f1"
   }
  }
 },
 "nbformat": 4,
 "nbformat_minor": 2
}
